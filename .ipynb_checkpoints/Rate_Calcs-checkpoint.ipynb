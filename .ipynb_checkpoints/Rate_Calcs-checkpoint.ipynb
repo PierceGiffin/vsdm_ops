{
 "cells": [
  {
   "cell_type": "code",
   "execution_count": 1,
   "metadata": {},
   "outputs": [
    {
     "data": {
      "text/plain": [
       "'0.4.0'"
      ]
     },
     "execution_count": 1,
     "metadata": {},
     "output_type": "execute_result"
    }
   ],
   "source": [
    "import math\n",
    "import numpy as np\n",
    "import scipy.special as spf\n",
    "import vegas # numeric integration\n",
    "import gvar # gaussian variables; for vegas\n",
    "import time\n",
    "import quaternionic # For rotations\n",
    "import spherical #For Wigner D matrix\n",
    "# import csv # file IO for projectFnlm\n",
    "# import os.path\n",
    "import h5py # database format for mathcalI arrays\n",
    "import importlib\n",
    "import sys\n",
    "import matplotlib.pyplot as plt\n",
    "import matplotlib.colors as clr\n",
    "import numba\n",
    "\n",
    "\n",
    "sys.path.append('../')\n",
    "\n",
    "import vsdm\n",
    "from vsdm.units import *\n",
    "from vsdm.utilities import *\n",
    "vsdm.__version__"
   ]
  },
  {
   "cell_type": "code",
   "execution_count": 2,
   "metadata": {},
   "outputs": [],
   "source": [
    "\"\"\"\n",
    "    Defining the momentum form factor for the particle-in-a-box model.\n",
    "\n",
    "    \"model 4\": rectangular box with dimensions (4 a0, 7 a0, 10 a0) \n",
    "        with a0 the Bohr radius\n",
    "    default transition: from ground state to the n_{x,y,z} = (1, 1, 2) excited state\n",
    "    \"alt\" transition: from ground state to the n = (3, 2, 1) excited state. \n",
    "\n",
    "    Both form factors are symmetric under reflections in the x, y, or z directions. \n",
    "\"\"\"\n",
    "\n",
    "@numba.jit(\"double(int64,double)\", nopython=True)\n",
    "def fj2(nj, qLj):\n",
    "    if qLj==0:\n",
    "        if nj==1:\n",
    "            return 1\n",
    "        else:\n",
    "            return 0\n",
    "    qlp = np.abs(qLj)/np.pi\n",
    "    # mathsinc(x) = np.sinc(x/pi)\n",
    "    s_minus = np.sinc(0.5*(qlp - nj + 1))/(1 + (nj-1)/qlp)\n",
    "    s_plus = np.sinc(0.5*(qlp - nj - 1))/(1 + (nj+1)/qlp)\n",
    "    return (s_minus + s_plus)**2\n",
    "\n",
    "# Long thin box limit: assuming that Lz > Lx,Ly,\n",
    "# so the lowest excited states are nz=2, nz=3, with nx=ny=1.\n",
    "\n",
    "@numba.jit(\"double(double[:],int64,double[:])\", nopython=True)\n",
    "def fs2_nz(Lvec, nz, q_xyz):\n",
    "    # q: the DM particle velocity (cartesian, lab frame)\n",
    "    # L: the dimensions of the box\n",
    "    # nz = 2, 3, 4... The final state. (n=1 defined as ground state)\n",
    "    # fs2 is dimensionless\n",
    "    # note: np.sinc(x/pi) = sin(x) / (x). Included in defs. of qL below\n",
    "    [Lx, Ly, Lz] = Lvec\n",
    "    [qx, qy, qz] = q_xyz\n",
    "    qLx = Lx*qx\n",
    "    qLy = Ly*qy\n",
    "    qLz = Lz*qz\n",
    "#     qL = qLx + qLy + qLz\n",
    "    fx2 = fj2(1, qLx)\n",
    "    fy2 = fj2(1, qLy)\n",
    "    fz2 = fj2(nz, qLz)\n",
    "    return fx2*fy2*fz2\n",
    "\n",
    "@numba.jit(\"double(double[:],int64[:],double[:])\", nopython=True)\n",
    "def fs2_nxyz(Lvec, n_xyz, q_xyz):\n",
    "    # q: the DM particle velocity (cartesian, lab frame)\n",
    "    # L: the dimensions of the box\n",
    "    # nz = 2, 3, 4... The final state. (n=1 defined as ground state)\n",
    "    # fs2 is dimensionless\n",
    "    # note: np.sinc(x/pi) = sin(x) / (x). Included in defs. of qL below\n",
    "    [Lx, Ly, Lz] = Lvec\n",
    "    [qx, qy, qz] = q_xyz\n",
    "    [nx, ny, nz] = n_xyz\n",
    "    qLx = Lx*qx\n",
    "    qLy = Ly*qy\n",
    "    qLz = Lz*qz\n",
    "    fx2 = fj2(nx, qLx)\n",
    "    fy2 = fj2(ny, qLy)\n",
    "    fz2 = fj2(nz, qLz)\n",
    "    return fx2*fy2*fz2\n",
    "\n",
    "@numba.jit(\"double(int64,double)\", nopython=True)\n",
    "def DeltaE_nz(nz, Lz):\n",
    "    # for nx=ny=1 final states, in units of [q**2]/mElec\n",
    "    return 0.5*math.pi**2 / mElec * (nz**2 - 1)/Lz**2\n",
    "\n",
    "# Cartesian version of fs2:\n",
    "@numba.jit(\"double(double[:])\", nopython=True)\n",
    "def fs2_model4_cart(q_xyz):\n",
    "    return fs2_nz(np.array([4/qBohr, 7/qBohr, 10/qBohr]), 2, q_xyz)\n",
    "\n",
    "# Cartesian version of fs2:\n",
    "@numba.jit(\"double(double[:])\", nopython=True)\n",
    "def fs2_model4_cart_alt(q_xyz):\n",
    "    Lvec = np.array([4/qBohr, 7/qBohr, 10/qBohr])\n",
    "    n_xyz = np.array([3, 2, 1])\n",
    "    return fs2_nxyz(Lvec, n_xyz, q_xyz)\n",
    "\n",
    "\n",
    "### Defining the function fs2(qSph) that EvaluateFnlm will use as the input.\n",
    "#   The function is decorated with symmetry identifiers (phi_even, phi_cyclic, etc)\n",
    "#   This function is not a GaussianF instance, a sum of gaussians (is_gaussian==False) \n",
    "\n",
    "QMAX = 10*qBohr # Global value for q0=qMax for wavelets\n",
    "\n",
    "# @numba.jit(\"double(double[:])\", nopython=True)\n",
    "def fs2_model4(qSph):\n",
    "    [q, theta, phi] = qSph\n",
    "    qx = q*math.sin(theta) * math.cos(phi)\n",
    "    qy = q*math.sin(theta) * math.sin(phi)\n",
    "    qz = q*math.cos(theta)\n",
    "    q_xyz = np.array([qx, qy, qz])\n",
    "    Lvec = np.array([4/qBohr, 7/qBohr, 10/qBohr])\n",
    "    return fs2_nz(Lvec, 2, q_xyz)\n",
    "fs2_model4.is_gaussian = False\n",
    "fs2_model4.z_even = True\n",
    "fs2_model4.phi_even = True\n",
    "fs2_model4.phi_cyclic = 2\n",
    "fs2_model4.center_Z2 = True\n",
    "fs2_model4.DeltaE = 4.03*eV\n",
    "\n",
    "def fs2_model4_alt(qSph):\n",
    "    [q, theta, phi] = qSph\n",
    "    qx = q*math.sin(theta) * math.cos(phi)\n",
    "    qy = q*math.sin(theta) * math.sin(phi)\n",
    "    qz = q*math.cos(theta)\n",
    "    q_xyz = np.array([qx, qy, qz])\n",
    "    return fs2_model4_cart_alt(q_xyz)\n",
    "fs2_model4_alt.is_gaussian = False\n",
    "fs2_model4_alt.z_even = True\n",
    "fs2_model4_alt.phi_even = True\n",
    "fs2_model4_alt.phi_cyclic = 2"
   ]
  },
  {
   "cell_type": "code",
   "execution_count": 4,
   "metadata": {},
   "outputs": [
    {
     "name": "stdout",
     "output_type": "stream",
     "text": [
      "{'u0': 37289.47137978341, 'type': 'wavelet', 'uMax': 37289.47137978341}\n",
      "t_eval: 0.6057798862457275\n",
      "nCoeffs = 114688\n"
     ]
    },
    {
     "ename": "FileNotFoundError",
     "evalue": "[Errno 2] No such file or directory: 'gX_model4.csv'",
     "output_type": "error",
     "traceback": [
      "\u001b[0;31m---------------------------------------------------------------------------\u001b[0m",
      "\u001b[0;31mFileNotFoundError\u001b[0m                         Traceback (most recent call last)",
      "\u001b[0;32m/var/folders/xm/dgywcqjd46l1x_7k4knjbbxm0000gn/T/ipykernel_39124/1576168806.py\u001b[0m in \u001b[0;36m<module>\u001b[0;34m\u001b[0m\n\u001b[1;32m     23\u001b[0m \u001b[0mgX_csv\u001b[0m \u001b[0;34m=\u001b[0m \u001b[0;34m'gX_model4'\u001b[0m\u001b[0;34m\u001b[0m\u001b[0;34m\u001b[0m\u001b[0m\n\u001b[1;32m     24\u001b[0m \u001b[0mgX\u001b[0m \u001b[0;34m=\u001b[0m \u001b[0mvsdm\u001b[0m\u001b[0;34m.\u001b[0m\u001b[0mFnlm\u001b[0m\u001b[0;34m(\u001b[0m\u001b[0mVdict\u001b[0m\u001b[0;34m,\u001b[0m \u001b[0mf_type\u001b[0m\u001b[0;34m=\u001b[0m\u001b[0;34m'gX'\u001b[0m\u001b[0;34m,\u001b[0m \u001b[0muse_gvar\u001b[0m\u001b[0;34m=\u001b[0m\u001b[0;32mFalse\u001b[0m\u001b[0;34m)\u001b[0m\u001b[0;34m\u001b[0m\u001b[0;34m\u001b[0m\u001b[0m\n\u001b[0;32m---> 25\u001b[0;31m \u001b[0mgX\u001b[0m\u001b[0;34m.\u001b[0m\u001b[0mimportFnlm_csv\u001b[0m\u001b[0;34m(\u001b[0m\u001b[0;34m''\u001b[0m\u001b[0;34m+\u001b[0m\u001b[0mgX_csv\u001b[0m\u001b[0;34m+\u001b[0m\u001b[0;34m'.csv'\u001b[0m\u001b[0;34m)\u001b[0m\u001b[0;34m\u001b[0m\u001b[0;34m\u001b[0m\u001b[0m\n\u001b[0m\u001b[1;32m     26\u001b[0m \u001b[0mprint\u001b[0m\u001b[0;34m(\u001b[0m\u001b[0mgX\u001b[0m\u001b[0;34m.\u001b[0m\u001b[0mbasis\u001b[0m\u001b[0;34m)\u001b[0m\u001b[0;34m\u001b[0m\u001b[0;34m\u001b[0m\u001b[0m\n\u001b[1;32m     27\u001b[0m \u001b[0mprint\u001b[0m\u001b[0;34m(\u001b[0m\u001b[0;34m't_eval:'\u001b[0m\u001b[0;34m,\u001b[0m \u001b[0mgX\u001b[0m\u001b[0;34m.\u001b[0m\u001b[0mt_eval\u001b[0m\u001b[0;34m)\u001b[0m\u001b[0;34m\u001b[0m\u001b[0;34m\u001b[0m\u001b[0m\n",
      "\u001b[0;32m~/Desktop/Santa Cruz Physics2/DM-electron project (Tien-Tien)/vsdm-form-factor/vsdm/projection.py\u001b[0m in \u001b[0;36mimportFnlm_csv\u001b[0;34m(self, csvfile)\u001b[0m\n\u001b[1;32m    510\u001b[0m         \u001b[0;31m# reads the file, and overwrites f_nlm with the results\u001b[0m\u001b[0;34m\u001b[0m\u001b[0;34m\u001b[0m\u001b[0m\n\u001b[1;32m    511\u001b[0m         \u001b[0mt0\u001b[0m \u001b[0;34m=\u001b[0m \u001b[0mtime\u001b[0m\u001b[0;34m.\u001b[0m\u001b[0mtime\u001b[0m\u001b[0;34m(\u001b[0m\u001b[0;34m)\u001b[0m\u001b[0;34m\u001b[0m\u001b[0;34m\u001b[0m\u001b[0m\n\u001b[0;32m--> 512\u001b[0;31m         \u001b[0mdata_fnlm\u001b[0m \u001b[0;34m=\u001b[0m \u001b[0mself\u001b[0m\u001b[0;34m.\u001b[0m\u001b[0mreadFnlm_csv\u001b[0m\u001b[0;34m(\u001b[0m\u001b[0mcsvfile\u001b[0m\u001b[0;34m,\u001b[0m \u001b[0muse_gvar\u001b[0m\u001b[0;34m=\u001b[0m\u001b[0mself\u001b[0m\u001b[0;34m.\u001b[0m\u001b[0muse_gvar\u001b[0m\u001b[0;34m)\u001b[0m\u001b[0;34m\u001b[0m\u001b[0;34m\u001b[0m\u001b[0m\n\u001b[0m\u001b[1;32m    513\u001b[0m         \u001b[0;32mfor\u001b[0m \u001b[0mnlm\u001b[0m\u001b[0;34m,\u001b[0m\u001b[0mfdata\u001b[0m \u001b[0;32min\u001b[0m \u001b[0mdata_fnlm\u001b[0m\u001b[0;34m.\u001b[0m\u001b[0mitems\u001b[0m\u001b[0;34m(\u001b[0m\u001b[0;34m)\u001b[0m\u001b[0;34m:\u001b[0m\u001b[0;34m\u001b[0m\u001b[0;34m\u001b[0m\u001b[0m\n\u001b[1;32m    514\u001b[0m             \u001b[0mself\u001b[0m\u001b[0;34m.\u001b[0m\u001b[0mf_nlm\u001b[0m\u001b[0;34m[\u001b[0m\u001b[0mnlm\u001b[0m\u001b[0;34m]\u001b[0m \u001b[0;34m=\u001b[0m \u001b[0mfdata\u001b[0m\u001b[0;34m\u001b[0m\u001b[0;34m\u001b[0m\u001b[0m\n",
      "\u001b[0;32m~/Desktop/Santa Cruz Physics2/DM-electron project (Tien-Tien)/vsdm-form-factor/vsdm/projection.py\u001b[0m in \u001b[0;36mreadFnlm_csv\u001b[0;34m(csvfile, use_gvar)\u001b[0m\n\u001b[1;32m    473\u001b[0m         \u001b[0;31m# all rows that are not commented out with '#,' should follow this format\u001b[0m\u001b[0;34m\u001b[0m\u001b[0;34m\u001b[0m\u001b[0m\n\u001b[1;32m    474\u001b[0m         \u001b[0mdata_fnlm\u001b[0m \u001b[0;34m=\u001b[0m \u001b[0;34m{\u001b[0m\u001b[0;34m}\u001b[0m\u001b[0;34m\u001b[0m\u001b[0;34m\u001b[0m\u001b[0m\n\u001b[0;32m--> 475\u001b[0;31m         \u001b[0;32mwith\u001b[0m \u001b[0mopen\u001b[0m\u001b[0;34m(\u001b[0m\u001b[0mcsvfile\u001b[0m\u001b[0;34m,\u001b[0m \u001b[0;34m'r'\u001b[0m\u001b[0;34m)\u001b[0m \u001b[0;32mas\u001b[0m \u001b[0mcsvfile\u001b[0m\u001b[0;34m:\u001b[0m\u001b[0;34m\u001b[0m\u001b[0;34m\u001b[0m\u001b[0m\n\u001b[0m\u001b[1;32m    476\u001b[0m             reader = csv.reader(csvfile, delimiter=',',\n\u001b[1;32m    477\u001b[0m                                 quoting=csv.QUOTE_MINIMAL)\n",
      "\u001b[0;31mFileNotFoundError\u001b[0m: [Errno 2] No such file or directory: 'gX_model4.csv'"
     ]
    }
   ],
   "source": [
    "### MOMENTUM DISTRIBUTION EXAMPLE\n",
    "QMAX = 10*qBohr # Global value for q0=qMax for wavelets\n",
    "\n",
    "Qdict = dict(u0=QMAX, type='wavelet', uMax=QMAX)\n",
    "\n",
    "# # Read Fnlm from saved csv file...\n",
    "fs2_csv = 'demo_fs2'\n",
    "fs2 = vsdm.Fnlm(Qdict, f_type='fs2', use_gvar=False)\n",
    "fs2.center_Z2 = True\n",
    "fs2.importFnlm_csv('tools/demo/'+fs2_csv+'.csv')\n",
    "print(fs2.basis)\n",
    "print('t_eval:', fs2.t_eval)\n",
    "print('nCoeffs = {}'.format(len(fs2.f_nlm.keys())))\n",
    "\n",
    "### VELOCITY DISTRIBUTION EXAMPLE\n",
    "# Model 4: a bunch of streams, not symmetric. \n",
    "# Including the halo component without vEsc.\n",
    "\n",
    "VMAX = 960.*km_s # Global value for v0=vMax for wavelets\n",
    "Vdict = dict(u0=VMAX, type='wavelet', uMax=VMAX)\n",
    "\n",
    "\"\"\"Read from CSV\"\"\"\n",
    "gX_csv = 'gX_model4'\n",
    "gX = vsdm.Fnlm(Vdict, f_type='gX', use_gvar=False)\n",
    "gX.importFnlm_csv(''+gX_csv+'.csv')\n",
    "print(gX.basis)\n",
    "print('t_eval:', gX.t_eval)\n",
    "print('nCoeffs = {}'.format(len(gX.f_nlm.keys())))"
   ]
  },
  {
   "cell_type": "code",
   "execution_count": null,
   "metadata": {},
   "outputs": [
    {
     "name": "stdout",
     "output_type": "stream",
     "text": [
      "\t (1, 0) :  0.4652118682861328\n",
      "\t (10, 0) :  5.096824884414673\n",
      "\t (100, 0) :  6.718388795852661\n",
      "\t (1, 2) :  0.4559159278869629\n",
      "\t (10, 2) :  4.971150875091553\n",
      "\t (100, 2) :  7.883316993713379\n",
      "tI avg: 4.265377998352051\n"
     ]
    }
   ],
   "source": [
    "n = 300  # for precision goal of 0.3% \n",
    "# ellMax = 24\n",
    "ellMax = 12\n",
    "nvMax = 127\n",
    "nqMax = 127\n",
    "\n",
    "# ls10 = [1, 1.5, 2, 3, 4, 5, 6, 7, 8, 9]\n",
    "ls10 = [1]\n",
    "p10 = [1, 10, 100]\n",
    "mXlist = np.array([p*m for p in p10 for m in ls10])\n",
    "\n",
    "\"\"\"Check the evaluation time for mcalI:\"\"\"\n",
    "mI = {}\n",
    "modelsDM = []\n",
    "t0 = time.time()\n",
    "for fn in [0,2]:\n",
    "    for mX in mXlist:\n",
    "        modelsDM += [(mX, fn)]\n",
    "        dmModel = dict(mX=mX*MeV, fdm_n=fn, mSM=mElec, DeltaE=fs2_model4.DeltaE)\n",
    "        mI[(mX, fn)] = vsdm.McalI(Vdict, Qdict, dmModel, \n",
    "                                  mI_shape=(ellMax+1, nvMax+1,nqMax+1), center_Z2=True, \n",
    "                                  use_gvar=False, do_mcalI=True)\n",
    "        print('\\t', (mX, fn), \": \", mI[(mX, fn)].t_eval)\n",
    "tEvalI = time.time() - t0\n",
    "print('tI avg:', tEvalI/len(modelsDM))"
   ]
  },
  {
   "cell_type": "code",
   "execution_count": 19,
   "metadata": {},
   "outputs": [
    {
     "name": "stdout",
     "output_type": "stream",
     "text": [
      "{(1, 0): <vsdm.ratecalc.RateCalc object at 0x161d9b9d0>, (10, 0): <vsdm.ratecalc.RateCalc object at 0x161d9ba00>, (100, 0): <vsdm.ratecalc.RateCalc object at 0x161d9b2e0>, (1, 2): <vsdm.ratecalc.RateCalc object at 0x161f859a0>, (10, 2): <vsdm.ratecalc.RateCalc object at 0x10a2cbb20>, (100, 2): <vsdm.ratecalc.RateCalc object at 0x161d9b8e0>}\n"
     ]
    }
   ],
   "source": [
    "rates={}\n",
    "for DM in mI.keys():\n",
    "    rates[DM]=vsdm.RateCalc(gX, fs2, mI[DM], \n",
    "                    use_gvar=False, sparse=False)\n",
    "print(rates)"
   ]
  },
  {
   "cell_type": "code",
   "execution_count": 23,
   "metadata": {},
   "outputs": [
    {
     "data": {
      "text/plain": [
       "array([ 2.40165787e-04,  0.00000000e+00,  0.00000000e+00, ...,\n",
       "        1.58273874e-29,  0.00000000e+00, -2.90150939e-29])"
      ]
     },
     "execution_count": 23,
     "metadata": {},
     "output_type": "execute_result"
    }
   ],
   "source": [
    "rates[(1,0)].vecK"
   ]
  },
  {
   "cell_type": "code",
   "execution_count": null,
   "metadata": {},
   "outputs": [],
   "source": []
  }
 ],
 "metadata": {
  "kernelspec": {
   "display_name": "Python 3 (ipykernel)",
   "language": "python",
   "name": "python3"
  },
  "language_info": {
   "codemirror_mode": {
    "name": "ipython",
    "version": 3
   },
   "file_extension": ".py",
   "mimetype": "text/x-python",
   "name": "python",
   "nbconvert_exporter": "python",
   "pygments_lexer": "ipython3",
   "version": "3.9.13"
  }
 },
 "nbformat": 4,
 "nbformat_minor": 2
}
