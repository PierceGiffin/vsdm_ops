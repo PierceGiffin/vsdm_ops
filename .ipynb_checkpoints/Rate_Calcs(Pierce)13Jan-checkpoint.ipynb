{
 "cells": [
  {
   "cell_type": "code",
   "execution_count": 1,
   "metadata": {},
   "outputs": [
    {
     "data": {
      "text/plain": [
       "'0.4.0'"
      ]
     },
     "execution_count": 1,
     "metadata": {},
     "output_type": "execute_result"
    }
   ],
   "source": [
    "import math\n",
    "import numpy as np\n",
    "import scipy.special as spf\n",
    "import vegas # numeric integration\n",
    "import gvar # gaussian variables; for vegas\n",
    "import time\n",
    "import quaternionic # For rotations\n",
    "import spherical #For Wigner D matrix\n",
    "# import csv # file IO for projectFnlm\n",
    "# import os.path\n",
    "import h5py # database format for mathcalI arrays\n",
    "import importlib\n",
    "import sys\n",
    "import matplotlib.pyplot as plt\n",
    "import matplotlib.colors as clr\n",
    "import numba\n",
    "\n",
    "\n",
    "sys.path.append('../')\n",
    "\n",
    "import vsdm\n",
    "from vsdm.units import *\n",
    "from vsdm.utilities import *\n",
    "vsdm.__version__"
   ]
  },
  {
   "cell_type": "code",
   "execution_count": 2,
   "metadata": {},
   "outputs": [
    {
     "name": "stdout",
     "output_type": "stream",
     "text": [
      "{'u0': 37289.47137978341, 'type': 'wavelet', 'uMax': 37289.47137978341}\n",
      "t_eval: 0.35792016983032227\n",
      "nCoeffs = 114688\n",
      "{'u0': 0.0032022202060095, 'type': 'wavelet', 'uMax': 0.0032022202060095}\n",
      "t_eval: 0.0665748119354248\n",
      "nCoeffs = 33928\n"
     ]
    }
   ],
   "source": [
    "### MOMENTUM DISTRIBUTION EXAMPLE\n",
    "QMAX = 10*qBohr # Global value for q0=qMax for wavelets\n",
    "\n",
    "Qdict = dict(u0=QMAX, type='wavelet', uMax=QMAX)\n",
    "\n",
    "# # Read Fnlm from saved csv file...\n",
    "fs2_csv = 'demo_fs2'\n",
    "fs2 = vsdm.Fnlm(Qdict, f_type='fs2', use_gvar=False)\n",
    "fs2.center_Z2 = True\n",
    "fs2.importFnlm_csv('tools/demo/demo_fs2.csv')\n",
    "print(fs2.basis)\n",
    "print('t_eval:', fs2.t_eval)\n",
    "print('nCoeffs = {}'.format(len(fs2.f_nlm.keys())))\n",
    "\n",
    "### VELOCITY DISTRIBUTION EXAMPLE\n",
    "# Model 4: a bunch of streams, not symmetric. \n",
    "# Including the halo component without vEsc.\n",
    "\n",
    "VMAX = 960.*km_s # Global value for v0=vMax for wavelets\n",
    "Vdict = dict(u0=VMAX, type='wavelet', uMax=VMAX)\n",
    "\n",
    "\"\"\"Read from CSV\"\"\"\n",
    "gX = vsdm.Fnlm(Vdict, f_type='gX', use_gvar=False)\n",
    "gX.importFnlm_csv('tools/demo/SHM_v250.csv')\n",
    "print(gX.basis)\n",
    "print('t_eval:', gX.t_eval)\n",
    "print('nCoeffs = {}'.format(len(gX.f_nlm.keys())))"
   ]
  },
  {
   "cell_type": "code",
   "execution_count": 3,
   "metadata": {},
   "outputs": [
    {
     "name": "stdout",
     "output_type": "stream",
     "text": [
      "[(4, 0, 0), (2, 0, 0), (4, 2, 0), (4, 4, 0), (9, 0, 0), (17, 2, 0), (2, 2, 2), (17, 0, 0), (1, 0, 0), (2, 4, 0), (18, 0, 0), (9, 2, 2), (2, 2, 0), (9, 4, 0), (35, 0, 0), (4, 4, 2), (18, 4, 0), (8, 2, 0), (2, 6, 0), (35, 2, 0), (2, 6, 2), (4, 2, 2), (36, 0, 0), (9, 6, 0), (16, 0, 0), (9, 6, 2), (1, 2, 2), (8, 4, 0), (2, 4, 2), (0, 0, 0), (16, 2, 0), (1, 4, 0), (9, 4, 2), (18, 2, 2), (33, 0, 0), (2, 8, 2), (34, 2, 0), (2, 4, 4), (8, 2, 2), (18, 4, 2), (1, 2, 0), (36, 4, 0), (2, 8, 0), (71, 0, 0), (37, 0, 0), (33, 2, 0), (70, 2, 0), (70, 0, 0), (72, 0, 0), (1, 6, 0), (36, 2, 0), (19, 2, 2), (1, 6, 2), (8, 4, 2), (17, 2, 2), (71, 2, 0), (18, 6, 0), (9, 8, 2), (19, 0, 0), (0, 2, 2), (69, 2, 0), (18, 2, 0), (18, 6, 2), (73, 0, 0), (34, 0, 0), (37, 4, 0), (4, 6, 0), (2, 8, 4), (1, 4, 2), (34, 4, 0), (37, 2, 2), (17, 6, 0), (0, 4, 0), (4, 6, 2), (9, 4, 4), (17, 6, 2), (9, 8, 0), (2, 10, 2), (8, 6, 0), (66, 0, 0), (17, 4, 0), (69, 0, 0), (9, 2, 0), (8, 6, 2), (1, 8, 2), (2, 6, 4), (36, 4, 2), (1, 4, 4), (67, 0, 0), (72, 2, 0), (19, 6, 0), (19, 6, 2), (9, 6, 4), (74, 0, 0), (0, 2, 0), (38, 2, 2), (66, 2, 0), (1, 8, 0), (38, 0, 0), (19, 8, 2), (36, 2, 2), (37, 6, 0), (73, 4, 0), (72, 4, 0), (2, 10, 0), (19, 2, 0), (34, 2, 2), (142, 0, 0), (143, 0, 0), (2, 10, 4), (35, 4, 0), (141, 0, 0), (37, 6, 2), (144, 0, 0), (0, 6, 0), (19, 8, 0), (141, 2, 0), (140, 2, 0), (19, 4, 4), (0, 6, 2), (32, 0, 0), (33, 4, 0), (37, 4, 2), (142, 2, 0), (140, 0, 0), (145, 0, 0), (9, 8, 4), (139, 2, 0), (74, 4, 0), (65, 0, 0), (75, 0, 0), (32, 2, 0), (16, 4, 0), (34, 4, 2), (143, 2, 0), (146, 0, 0), (38, 6, 0), (4, 8, 2), (17, 4, 2), (65, 2, 0), (67, 2, 0), (4, 8, 0), (38, 6, 2), (71, 4, 0), (35, 6, 0), (0, 4, 2), (68, 4, 0), (1, 8, 4), (139, 0, 0), (68, 2, 0), (138, 2, 0), (1, 10, 2), (35, 6, 2), (74, 2, 2), (147, 0, 0), (2, 6, 6), (75, 2, 2), (133, 0, 0), (39, 2, 2), (144, 2, 0), (134, 0, 0), (0, 8, 2), (4, 10, 2), (0, 4, 4), (19, 8, 4), (38, 2, 0), (69, 4, 0), (132, 0, 0), (73, 2, 2), (73, 4, 2), (76, 0, 0), (76, 2, 2), (148, 0, 0), (1, 6, 4), (38, 8, 2), (67, 4, 0), (72, 4, 2), (75, 4, 0), (4, 4, 4), (19, 10, 2), (34, 6, 0), (17, 8, 2), (73, 2, 0), (1, 10, 0), (35, 2, 2), (19, 4, 0), (37, 2, 0), (0, 8, 0), (34, 6, 2), (39, 0, 0), (17, 4, 4), (2, 12, 2), (133, 2, 0), (135, 0, 0), (1, 10, 4), (4, 10, 0), (146, 4, 0), (145, 4, 0), (132, 2, 0), (75, 6, 0), (2, 12, 4), (69, 2, 2), (35, 4, 2), (74, 4, 2), (149, 0, 0), (38, 8, 0), (18, 6, 4), (145, 2, 0), (33, 4, 2), (33, 2, 2), (131, 0, 0), (4, 8, 4), (74, 6, 0), (138, 0, 0), (285, 0, 0), (147, 4, 0), (284, 0, 0), (286, 0, 0), (137, 2, 0), (144, 4, 0), (38, 4, 0), (287, 0, 0), (77, 2, 2), (283, 0, 0), (4, 10, 4), (75, 6, 2), (288, 0, 0), (68, 2, 2), (282, 0, 0), (8, 4, 4), (38, 4, 4), (282, 2, 0), (74, 6, 2), (281, 2, 0), (289, 0, 0), (134, 2, 0), (283, 2, 0), (16, 4, 2), (280, 2, 0), (148, 4, 0), (281, 0, 0), (17, 6, 4), (131, 2, 0), (284, 2, 0), (77, 0, 0), (76, 6, 0), (16, 2, 2), (290, 0, 0), (150, 0, 0), (4, 6, 4), (20, 2, 2), (2, 12, 0), (36, 6, 0), (18, 10, 2), (279, 2, 0), (19, 10, 0), (2, 10, 6), (8, 8, 2), (19, 10, 4), (285, 2, 0), (19, 6, 4), (17, 8, 0), (143, 4, 0), (76, 6, 2), (291, 0, 0), (280, 0, 0), (8, 6, 4), (39, 8, 2), (68, 4, 2), (36, 6, 2), (10, 2, 2), (71, 4, 2), (70, 2, 2), (39, 4, 4)]\n"
     ]
    }
   ],
   "source": [
    "def get_nlm_tol(tol, fs):\n",
    "    f_norm = fs.f2nlm_norm()\n",
    "    sume = 0.\n",
    "    fNLM_n = {}\n",
    "    fNLM_n = []\n",
    "    for key,value in fs.getNLMpower().items():\n",
    "        power = value/f_norm\n",
    "        sume += power\n",
    "        if sume < 1-tol:\n",
    "            fNLM_n += [key]\n",
    "        elif sume>1-tol:\n",
    "            break\n",
    "    return fNLM_n\n",
    "\n",
    "tol_list=0.001\n",
    "print(get_nlm_tol(tol_list,fs2))"
   ]
  },
  {
   "cell_type": "code",
   "execution_count": 4,
   "metadata": {},
   "outputs": [
    {
     "name": "stdout",
     "output_type": "stream",
     "text": [
      "24 73\n",
      "\t (1, (-4, 0)) :  3.504753112792969e-05\n",
      "\t (10, (-4, 0)) :  1.5020370483398438e-05\n",
      "\t (100, (-4, 0)) :  1.4781951904296875e-05\n",
      "\t (1, (-4, 2)) :  1.4066696166992188e-05\n",
      "\t (10, (-4, 2)) :  1.4066696166992188e-05\n",
      "\t (100, (-4, 2)) :  0.00011229515075683594\n",
      "\t (1, (-4, 4)) :  5.6743621826171875e-05\n",
      "\t (10, (-4, 4)) :  1.5974044799804688e-05\n",
      "\t (100, (-4, 4)) :  1.4781951904296875e-05\n",
      "\t (1, (-2, 0)) :  1.5020370483398438e-05\n",
      "\t (10, (-2, 0)) :  1.3113021850585938e-05\n",
      "\t (100, (-2, 0)) :  1.3113021850585938e-05\n",
      "\t (1, (-2, 2)) :  1.430511474609375e-05\n",
      "\t (10, (-2, 2)) :  1.3113021850585938e-05\n",
      "\t (100, (-2, 2)) :  1.2159347534179688e-05\n",
      "\t (1, (-2, 4)) :  1.2874603271484375e-05\n",
      "\t (10, (-2, 4)) :  0.00013685226440429688\n",
      "\t (100, (-2, 4)) :  1.7881393432617188e-05\n",
      "\t (1, (0, 0)) :  1.52587890625e-05\n",
      "\t (10, (0, 0)) :  1.3828277587890625e-05\n",
      "\t (100, (0, 0)) :  1.1920928955078125e-05\n",
      "\t (1, (0, 2)) :  1.2636184692382812e-05\n",
      "\t (10, (0, 2)) :  1.2874603271484375e-05\n",
      "\t (100, (0, 2)) :  1.3113021850585938e-05\n",
      "\t (1, (0, 4)) :  1.1205673217773438e-05\n",
      "\t (10, (0, 4)) :  1.3828277587890625e-05\n",
      "\t (100, (0, 4)) :  1.2636184692382812e-05\n",
      "\t (1, (2, 0)) :  1.0967254638671875e-05\n",
      "\t (10, (2, 0)) :  1.1920928955078125e-05\n",
      "\t (100, (2, 0)) :  1.2159347534179688e-05\n",
      "\t (1, (2, 2)) :  1.1205673217773438e-05\n",
      "\t (10, (2, 2)) :  1.1682510375976562e-05\n",
      "\t (100, (2, 2)) :  1.1920928955078125e-05\n",
      "\t (1, (2, 4)) :  1.0967254638671875e-05\n",
      "\t (10, (2, 4)) :  1.3113021850585938e-05\n",
      "\t (100, (2, 4)) :  1.1920928955078125e-05\n",
      "\t (1, (4, 0)) :  1.0013580322265625e-05\n",
      "\t (10, (4, 0)) :  1.3113021850585938e-05\n",
      "\t (100, (4, 0)) :  1.2159347534179688e-05\n",
      "\t (1, (4, 2)) :  1.0967254638671875e-05\n",
      "\t (10, (4, 2)) :  1.1920928955078125e-05\n",
      "\t (100, (4, 2)) :  1.4066696166992188e-05\n",
      "\t (1, (4, 4)) :  1.1920928955078125e-05\n",
      "\t (10, (4, 4)) :  1.430511474609375e-05\n",
      "\t (100, (4, 4)) :  1.3828277587890625e-05\n",
      "tI avg: 4.3508741590711803e-05\n"
     ]
    }
   ],
   "source": [
    "tolerance=0.01\n",
    "fnlm_n=get_nlm_tol(tolerance,fs2)\n",
    "gnlm_n=get_nlm_tol(tolerance,gX)\n",
    "\n",
    "\n",
    "gX_n = vsdm.Fnlm(Vdict, f_type='gX', use_gvar=False)\n",
    "gX_n.importFromProjF(gX, gnlm_n)\n",
    "fs2_n = vsdm.Fnlm(Qdict, f_type='fs2', use_gvar=False)\n",
    "fs2_n.importFromProjF(fs2, fnlm_n)\n",
    "ellMax = np.min([gX_n.ellMax, fs2_n.ellMax])\n",
    "nvMax = gX_n.nMax\n",
    "nqMax = fs2_n.nMax\n",
    "\n",
    "print(nvMax,nqMax)\n",
    "\n",
    "ls10 = [1]\n",
    "p10 = [1, 10, 100]\n",
    "mXlist = np.array([p*m for p in p10 for m in ls10])\n",
    "\n",
    "\"\"\"Check the evaluation time for mcalI:\"\"\"\n",
    "mI = {}\n",
    "modelsDM = []\n",
    "t0 = time.time()\n",
    "for a in [-4,-2,0,2,4]:\n",
    "    for b in [0,2,4]:\n",
    "        fn=(a,b)\n",
    "        for mX in mXlist:\n",
    "            modelsDM += [(mX, fn)]\n",
    "            dmModel = dict(mX=mX*MeV, fdm_n=fn, mSM=mElec, DeltaE=4.03*eV)\n",
    "            mI[(mX, fn)] = vsdm.McalI(Vdict, Qdict, dmModel, \n",
    "                                    mI_shape=(ellMax+1, nvMax+1,nqMax+1))\n",
    "            print('\\t', (mX, fn), \": \", mI[(mX, fn)].t_eval)\n",
    "tEvalI = time.time() - t0\n",
    "print('tI avg:', tEvalI/len(modelsDM))"
   ]
  },
  {
   "cell_type": "code",
   "execution_count": 5,
   "metadata": {},
   "outputs": [
    {
     "name": "stdout",
     "output_type": "stream",
     "text": [
      "Approximate resolution at NSIDE 4 is 1.5e+01 deg\n",
      "192\n"
     ]
    }
   ],
   "source": [
    "##Ok before we implement anything any further, we want to adopt the Healpix pixelization scheme. So we want the theta, phi values \n",
    "# that will go on Healpix.\n",
    "import healpy as hp\n",
    "\n",
    "NSIDE = 4\n",
    "print(\n",
    "    \"Approximate resolution at NSIDE {} is {:.2} deg\".format(\n",
    "        NSIDE, hp.nside2resol(NSIDE, arcmin=True) / 60\n",
    "    )\n",
    ")\n",
    "\n",
    "NPIX = hp.nside2npix(NSIDE)\n",
    "print(NPIX)\n",
    "\n",
    "thetas, phis = np.degrees(hp.pix2ang(nside=4, ipix=np.arange(NPIX)))\n",
    "#thetas = thetas/360*2*np.pi # convert to radians\n",
    "#phis = phis/360*2*np.pi"
   ]
  },
  {
   "cell_type": "code",
   "execution_count": 6,
   "metadata": {},
   "outputs": [
    {
     "data": {
      "text/plain": [
       "array([ 45.  , 135.  , 225.  , 315.  ,  22.5 ,  67.5 , 112.5 , 157.5 ,\n",
       "       202.5 , 247.5 , 292.5 , 337.5 ,  15.  ,  45.  ,  75.  , 105.  ,\n",
       "       135.  , 165.  , 195.  , 225.  , 255.  , 285.  , 315.  , 345.  ,\n",
       "        11.25,  33.75,  56.25,  78.75, 101.25, 123.75, 146.25, 168.75,\n",
       "       191.25, 213.75, 236.25, 258.75, 281.25, 303.75, 326.25, 348.75,\n",
       "         0.  ,  22.5 ,  45.  ,  67.5 ,  90.  , 112.5 , 135.  , 157.5 ,\n",
       "       180.  , 202.5 , 225.  , 247.5 , 270.  , 292.5 , 315.  , 337.5 ,\n",
       "        11.25,  33.75,  56.25,  78.75, 101.25, 123.75, 146.25, 168.75,\n",
       "       191.25, 213.75, 236.25, 258.75, 281.25, 303.75, 326.25, 348.75,\n",
       "         0.  ,  22.5 ,  45.  ,  67.5 ,  90.  , 112.5 , 135.  , 157.5 ,\n",
       "       180.  , 202.5 , 225.  , 247.5 , 270.  , 292.5 , 315.  , 337.5 ,\n",
       "        11.25,  33.75,  56.25,  78.75, 101.25, 123.75, 146.25, 168.75,\n",
       "       191.25, 213.75, 236.25, 258.75, 281.25, 303.75, 326.25, 348.75,\n",
       "         0.  ,  22.5 ,  45.  ,  67.5 ,  90.  , 112.5 , 135.  , 157.5 ,\n",
       "       180.  , 202.5 , 225.  , 247.5 , 270.  , 292.5 , 315.  , 337.5 ,\n",
       "        11.25,  33.75,  56.25,  78.75, 101.25, 123.75, 146.25, 168.75,\n",
       "       191.25, 213.75, 236.25, 258.75, 281.25, 303.75, 326.25, 348.75,\n",
       "         0.  ,  22.5 ,  45.  ,  67.5 ,  90.  , 112.5 , 135.  , 157.5 ,\n",
       "       180.  , 202.5 , 225.  , 247.5 , 270.  , 292.5 , 315.  , 337.5 ,\n",
       "        11.25,  33.75,  56.25,  78.75, 101.25, 123.75, 146.25, 168.75,\n",
       "       191.25, 213.75, 236.25, 258.75, 281.25, 303.75, 326.25, 348.75,\n",
       "        15.  ,  45.  ,  75.  , 105.  , 135.  , 165.  , 195.  , 225.  ,\n",
       "       255.  , 285.  , 315.  , 345.  ,  22.5 ,  67.5 , 112.5 , 157.5 ,\n",
       "       202.5 , 247.5 , 292.5 , 337.5 ,  45.  , 135.  , 225.  , 315.  ])"
      ]
     },
     "execution_count": 6,
     "metadata": {},
     "output_type": "execute_result"
    }
   ],
   "source": [
    "phis"
   ]
  },
  {
   "cell_type": "code",
   "execution_count": 7,
   "metadata": {},
   "outputs": [],
   "source": [
    "### Quaternion rotation\n",
    "# finding the rotation that moves a 'z hat' unit vector to point towards (theta, phi)\n",
    "\n",
    "def getQ(theta, phi):\n",
    "    axisphi = phi + np.pi/2 #stationary under R\n",
    "    axR = theta/2 \n",
    "    qr = np.cos(axR)\n",
    "    qi = np.sin(axR) * np.cos(axisphi)\n",
    "    qj = np.sin(axR) * np.sin(axisphi)\n",
    "    qk = 0. \n",
    "    return quaternionic.array(qr, qi, qj, qk)\n",
    "\n",
    "rotationlist = []\n",
    "rotationarray = []\n",
    "thetaphilist = []\n",
    "#costhetas=np.linspace(0.,1.,7)\n",
    "#thetas = np.sort(np.arccos(costhetas)*180/np.pi)\n",
    "#phis = np.linspace(0,90,7)\n",
    "\n",
    "for i in range(len(thetas)): # here len(thetas) = 192 gives the number of pixels (Healpix)\n",
    "    theta = thetas[i]\n",
    "    phi = phis[i]\n",
    "    q = 1/getQ(theta * np.pi/180, phi * np.pi/180) \n",
    "    rotationlist += [q] \n",
    "    thetaphilist += [(theta, phi)]\n",
    "\n",
    "\n",
    "\n",
    "    \n",
    "    \n",
    "\n",
    "#for theta in thetas:\n",
    "#    rrow = []\n",
    "#    for phi in phis:\n",
    "#        q = 1/getQ(theta * np.pi/180, phi * np.pi/180) \n",
    "#        rrow += [q] \n",
    "#        rotationlist += [q] \n",
    "#        thetaphilist += [(theta, phi)]\n",
    "#    rotationarray += [rrow]\n",
    "\n",
    "#rotationarray = np.array(rotationarray)\n",
    "\n",
    "wG = vsdm.WignerG(ellMax, rotations=rotationlist)\n"
   ]
  },
  {
   "cell_type": "code",
   "execution_count": 8,
   "metadata": {},
   "outputs": [],
   "source": [
    "rates = vsdm.RateCalc(gX, fs2, mI[(mX,fn)],use_gvar=False, sparse=False,lmod=2)\n",
    "mu_R_l = rates.mu_R_l(wG)     # gives rates for all rotations in rotationlist\n",
    "rate_R = mu_R_l.sum(axis=1)\n",
    "mu_all = mu_R_l\n",
    "rate_all = rate_R\n",
    "rate_angavg = rates.vecK[0] # the ell=0 component of vecK is the angular average\n",
    "    "
   ]
  },
  {
   "cell_type": "code",
   "execution_count": 9,
   "metadata": {},
   "outputs": [],
   "source": [
    "rates={}\n",
    "rates_norm = {}\n",
    "for DM in mI.keys():\n",
    "    rate = vsdm.RateCalc(gX, fs2, mI[DM],use_gvar=False, sparse=False,lmod=2)\n",
    "    mu_R_l = rate.mu_R_l(wG)     # gives rates for all rotations in rotationlist\n",
    "    rate_R = mu_R_l.sum(axis=1)\n",
    "    mu_all = mu_R_l\n",
    "    rate_all = rate_R\n",
    "    rate_angavg = rate.vecK[0]\n",
    "    \n",
    "    rates[DM]=rate_R\n",
    "\n",
    "    rate_norm = rate_all/rate_angavg\n",
    "\n",
    "    rates_norm[DM] = rate_norm"
   ]
  },
  {
   "cell_type": "code",
   "execution_count": 10,
   "metadata": {},
   "outputs": [
    {
     "data": {
      "text/plain": [
       "(192,)"
      ]
     },
     "execution_count": 10,
     "metadata": {},
     "output_type": "execute_result"
    }
   ],
   "source": [
    "np.shape(rates_norm[(1,(0,0))])"
   ]
  },
  {
   "cell_type": "code",
   "execution_count": 11,
   "metadata": {},
   "outputs": [
    {
     "ename": "KeyError",
     "evalue": "(100, (0, 1))",
     "output_type": "error",
     "traceback": [
      "\u001b[0;31m---------------------------------------------------------------------------\u001b[0m",
      "\u001b[0;31mKeyError\u001b[0m                                  Traceback (most recent call last)",
      "Cell \u001b[0;32mIn[11], line 1\u001b[0m\n\u001b[0;32m----> 1\u001b[0m \u001b[43mrates_norm\u001b[49m\u001b[43m[\u001b[49m\u001b[43m(\u001b[49m\u001b[38;5;241;43m100\u001b[39;49m\u001b[43m,\u001b[49m\u001b[43m(\u001b[49m\u001b[38;5;241;43m0\u001b[39;49m\u001b[43m,\u001b[49m\u001b[38;5;241;43m1\u001b[39;49m\u001b[43m)\u001b[49m\u001b[43m)\u001b[49m\u001b[43m]\u001b[49m\n",
      "\u001b[0;31mKeyError\u001b[0m: (100, (0, 1))"
     ]
    }
   ],
   "source": [
    "rates_norm[(100,(0,1))]"
   ]
  },
  {
   "cell_type": "code",
   "execution_count": null,
   "metadata": {},
   "outputs": [],
   "source": [
    "hp.mollview(\n",
    "    rates_norm[(100,(0,1))],\n",
    "    title=\"rates\",\n",
    "    unit=\"R(theta,phi)/<R> has no units\",\n",
    "    norm = \"hist\"\n",
    ")\n",
    "hp.graticule()"
   ]
  },
  {
   "cell_type": "markdown",
   "metadata": {},
   "source": [
    "## This matches what we have below on the \"normal\" grid. This is for the DM model (100,(0,1)). The rest below is just doing the same thing but on the \"normal\" plot."
   ]
  },
  {
   "cell_type": "code",
   "execution_count": null,
   "metadata": {},
   "outputs": [],
   "source": [
    "np.shape(rotationarray)"
   ]
  },
  {
   "cell_type": "code",
   "execution_count": 12,
   "metadata": {},
   "outputs": [],
   "source": [
    "rates={}\n",
    "for DM in mI.keys():\n",
    "    MK=vsdm.McalK(ellMax,lmod=1)\n",
    "    MK.getK(gX, fs2, mI[DM])\n",
    "    rates[DM]=MK.mu_R(wG)"
   ]
  },
  {
   "cell_type": "code",
   "execution_count": 13,
   "metadata": {},
   "outputs": [
    {
     "name": "stdout",
     "output_type": "stream",
     "text": [
      "(1, (-4, 0)): <R> = 0.03792317074537292\n",
      "(10, (-4, 0)): <R> = 0.5332115547945157\n",
      "(100, (-4, 0)): <R> = 0.06404027032585756\n",
      "(1, (-4, 2)): <R> = 3.3383628537529986e-07\n",
      "(10, (-4, 2)): <R> = 1.9871582345345935e-06\n",
      "(100, (-4, 2)): <R> = 2.1713007546323837e-07\n",
      "(1, (-4, 4)): <R> = 2.9471884645015646e-12\n",
      "(10, (-4, 4)): <R> = 8.696354215333404e-12\n",
      "(100, (-4, 4)): <R> = 9.004820084790161e-13\n",
      "(1, (-2, 0)): <R> = 0.020474972341885236\n",
      "(10, (-2, 0)): <R> = 0.4297159509855694\n",
      "(100, (-2, 0)): <R> = 0.05136488341196227\n",
      "(1, (-2, 2)): <R> = 1.798323905140356e-07\n",
      "(10, (-2, 2)): <R> = 1.3879707265050682e-06\n",
      "(100, (-2, 2)): <R> = 1.4760795122051623e-07\n",
      "(1, (-2, 4)): <R> = 1.5838066541778604e-12\n",
      "(10, (-2, 4)): <R> = 5.397153252183503e-12\n",
      "(100, (-2, 4)): <R> = 5.39847828830051e-13\n",
      "(1, (0, 0)): <R> = 0.012298368209930452\n",
      "(10, (0, 0)): <R> = 0.4943087262174057\n",
      "(100, (0, 0)): <R> = 0.0591245890192213\n",
      "(1, (0, 2)): <R> = 1.0811401147607594e-07\n",
      "(10, (0, 2)): <R> = 1.409643472732404e-06\n",
      "(100, (0, 2)): <R> = 1.4640471291228107e-07\n",
      "(1, (0, 4)): <R> = 9.530685816466837e-13\n",
      "(10, (0, 4)): <R> = 4.963747345769873e-12\n",
      "(100, (0, 4)): <R> = 4.824487213977969e-13\n",
      "(1, (2, 0)): <R> = 0.008197738494941315\n",
      "(10, (2, 0)): <R> = 0.822170936511068\n",
      "(100, (2, 0)): <R> = 0.0990551339937845\n",
      "(1, (2, 2)): <R> = 7.234759543987393e-08\n",
      "(10, (2, 2)): <R> = 2.1303504378714504e-06\n",
      "(100, (2, 2)): <R> = 2.172381202013605e-07\n",
      "(1, (2, 4)): <R> = 6.403933313127149e-13\n",
      "(10, (2, 4)): <R> = 6.9898071292338465e-12\n",
      "(100, (2, 4)): <R> = 6.656290041639195e-13\n",
      "(1, (4, 0)): <R> = 0.006022144993384479\n",
      "(10, (4, 0)): <R> = 1.9707135414918309\n",
      "(100, (4, 0)): <R> = 0.2419114180033948\n",
      "(1, (4, 2)): <R> = 5.349348451199595e-08\n",
      "(10, (4, 2)): <R> = 4.792767502836209e-06\n",
      "(100, (4, 2)): <R> = 4.839482425936296e-07\n",
      "(1, (4, 4)): <R> = 4.767311848575741e-13\n",
      "(10, (4, 4)): <R> = 1.507502529225015e-11\n",
      "(100, (4, 4)): <R> = 1.4191066178427104e-12\n",
      "0.0007891654968261719\n",
      "9.133859916969581e-08\n"
     ]
    },
    {
     "ename": "IndexError",
     "evalue": "tuple index out of range",
     "output_type": "error",
     "traceback": [
      "\u001b[0;31m---------------------------------------------------------------------------\u001b[0m",
      "\u001b[0;31mIndexError\u001b[0m                                Traceback (most recent call last)",
      "Cell \u001b[0;32mIn[13], line 15\u001b[0m\n\u001b[1;32m     12\u001b[0m \u001b[38;5;28mprint\u001b[39m(tR)\n\u001b[1;32m     13\u001b[0m \u001b[38;5;28mprint\u001b[39m(tR\u001b[38;5;241m/\u001b[39m\u001b[38;5;28mlen\u001b[39m(rate_R)\u001b[38;5;241m/\u001b[39m\u001b[38;5;28mlen\u001b[39m(exlist))\n\u001b[0;32m---> 15\u001b[0m thetaphi_size \u001b[38;5;241m=\u001b[39m (np\u001b[38;5;241m.\u001b[39mshape(rotationarray)[\u001b[38;5;241m0\u001b[39m], \u001b[43mnp\u001b[49m\u001b[38;5;241;43m.\u001b[39;49m\u001b[43mshape\u001b[49m\u001b[43m(\u001b[49m\u001b[43mrotationarray\u001b[49m\u001b[43m)\u001b[49m\u001b[43m[\u001b[49m\u001b[38;5;241;43m1\u001b[39;49m\u001b[43m]\u001b[49m)\n\u001b[1;32m     16\u001b[0m \u001b[38;5;66;03m#thetaphi_size = (np.shape(rotationarray)[0], np.shape(rotationarray)[1])\u001b[39;00m\n\u001b[1;32m     17\u001b[0m thetaphiarray \u001b[38;5;241m=\u001b[39m np\u001b[38;5;241m.\u001b[39marray(thetaphilist)\u001b[38;5;241m.\u001b[39mreshape(thetaphi_size[\u001b[38;5;241m0\u001b[39m], thetaphi_size[\u001b[38;5;241m1\u001b[39m], \u001b[38;5;241m2\u001b[39m)\n",
      "\u001b[0;31mIndexError\u001b[0m: tuple index out of range"
     ]
    }
   ],
   "source": [
    "exlist = rates.keys()\n",
    "t0 = time.time()\n",
    "mu_all = {}\n",
    "rate_all = {}\n",
    "rate_angavg = {}\n",
    "for rm in exlist:\n",
    "    rate_R = rates[rm]\n",
    "    rate_all[rm] = rate_R\n",
    "    rate_angavg[rm] = np.average(rate_R)\n",
    "    print('{}: <R> = {}'.format(rm, rate_angavg[rm]))\n",
    "tR = time.time() - t0\n",
    "print(tR)\n",
    "print(tR/len(rate_R)/len(exlist))\n",
    "\n",
    "thetaphi_size = (np.shape(rotationarray)[0], np.shape(rotationarray)[1])\n",
    "#thetaphi_size = (np.shape(rotationarray)[0], np.shape(rotationarray)[1])\n",
    "thetaphiarray = np.array(thetaphilist).reshape(thetaphi_size[0], thetaphi_size[1], 2)\n",
    "rate_array = {}\n",
    "for rm in exlist:\n",
    "    rate_all[rm] = np.array(rate_all[rm])\n",
    "    rate_array[rm] = rate_all[rm].reshape(thetaphi_size)"
   ]
  },
  {
   "cell_type": "code",
   "execution_count": 14,
   "metadata": {},
   "outputs": [
    {
     "ename": "NameError",
     "evalue": "name 'rate_array' is not defined",
     "output_type": "error",
     "traceback": [
      "\u001b[0;31m---------------------------------------------------------------------------\u001b[0m",
      "\u001b[0;31mNameError\u001b[0m                                 Traceback (most recent call last)",
      "Cell \u001b[0;32mIn[14], line 4\u001b[0m\n\u001b[1;32m      1\u001b[0m model \u001b[38;5;241m=\u001b[39m (\u001b[38;5;241m100\u001b[39m, (\u001b[38;5;241m0\u001b[39m,\u001b[38;5;241m1\u001b[39m))\n\u001b[1;32m      2\u001b[0m unisize\u001b[38;5;241m=\u001b[39m\u001b[38;5;241m3.5\u001b[39m\n\u001b[0;32m----> 4\u001b[0m min_r \u001b[38;5;241m=\u001b[39m np\u001b[38;5;241m.\u001b[39mmin(\u001b[43mrate_array\u001b[49m[model]\u001b[38;5;241m/\u001b[39mrate_angavg[model])\n\u001b[1;32m      5\u001b[0m max_r \u001b[38;5;241m=\u001b[39m np\u001b[38;5;241m.\u001b[39mmax(rate_array[model]\u001b[38;5;241m/\u001b[39mrate_angavg[model])\n\u001b[1;32m      7\u001b[0m diff_max \u001b[38;5;241m=\u001b[39m np\u001b[38;5;241m.\u001b[39mmax([\u001b[38;5;241m1\u001b[39m \u001b[38;5;241m-\u001b[39m min_r, max_r \u001b[38;5;241m-\u001b[39m \u001b[38;5;241m1\u001b[39m])\n",
      "\u001b[0;31mNameError\u001b[0m: name 'rate_array' is not defined"
     ]
    }
   ],
   "source": [
    "model = (100, (0,1))\n",
    "unisize=3.5\n",
    "\n",
    "min_r = np.min(rate_array[model]/rate_angavg[model])\n",
    "max_r = np.max(rate_array[model]/rate_angavg[model])\n",
    "\n",
    "diff_max = np.max([1 - min_r, max_r - 1])\n",
    "min_z = 1 - diff_max\n",
    "max_z = 1 + diff_max\n",
    "\n",
    "colorZ = 'RdBu_r'\n",
    "cnormZ = plt.Normalize(vmin=min_z, vmax=max_z)\n",
    "clmapZ = plt.cm.ScalarMappable(norm=cnormZ, cmap=colorZ)\n",
    "\n",
    "\n",
    "xlim = [0, 90]\n",
    "ylim = [0, 90]\n",
    "tix = [j for j in range(0, 91, 30)]\n",
    "tiy = [j for j in range(0, 91, 30)]\n",
    "lblx = [r'${}^\\circ$'.format(t) for t in tix]\n",
    "lbly = [r'${}^\\circ$'.format(t) for t in tiy]\n",
    "fig = plt.figure(figsize=[2.0*unisize,unisize])\n",
    "ax1 = fig.add_axes([0,0,1,1], xscale='linear', yscale='linear')\n",
    "ax1.pcolormesh(phis, thetas, rate_array[model]/rate_angavg[model], shading='nearest', cmap=colorZ)\n",
    "ax1.set_xlim(xlim)\n",
    "ax1.set_ylim(ylim)\n",
    "ax1.set_xticks(tix, labels=lblx)\n",
    "ax1.set_yticks(tiy, labels=lbly)\n",
    "ax1.set_xlabel(r'$\\phi_{v_E}$', fontsize=12, usetex=True)\n",
    "ax1.set_ylabel(r'$\\theta_{v_E}$', fontsize=12, usetex=True)\n",
    "\n",
    "ax1.text(0.5, 1.27, r'${:.2f} \\leq R(\\theta, \\phi)/\\langle R \\rangle \\leq {:.2f}$'.format(min_r, max_r), \n",
    "         horizontalalignment='center',\n",
    "         verticalalignment='bottom', fontsize=12, \n",
    "         color='black', backgroundcolor='white',\n",
    "         transform=ax1.transAxes, usetex=True)\n",
    "ax1.text(0.985, 0.2, r'$m_\\chi = {}$ MeV, '.format(model[0])+r'$F_{{DM}} \\propto q^{} v^{}$'.format(model[1][0],model[1][1]), \n",
    "         horizontalalignment='right',\n",
    "         verticalalignment='bottom', fontsize=12, \n",
    "         color='black', \n",
    "         # backgroundcolor='white',\n",
    "         transform=ax1.transAxes, usetex=True)\n",
    "\n",
    "fig.colorbar(mappable=clmapZ, \n",
    "             orientation='horizontal', location='top', \n",
    "             aspect=30,ax=plt.gca())\n",
    "\n",
    "# plt.savefig('out/rateThetaPhi.png', format=\"png\", dpi=600, bbox_inches='tight')\n",
    "print(rate_array[model]/rate_angavg[model])\n",
    "fig.show()"
   ]
  },
  {
   "cell_type": "code",
   "execution_count": null,
   "metadata": {},
   "outputs": [],
   "source": [
    "thetas*360/(2*np.pi)"
   ]
  },
  {
   "cell_type": "markdown",
   "metadata": {},
   "source": [
    "## Now let's swtich gears to write the minimization routine for chi-squared i.e. \"model-independent\" analysis."
   ]
  },
  {
   "cell_type": "code",
   "execution_count": 15,
   "metadata": {},
   "outputs": [],
   "source": [
    "from scipy.optimize import minimize"
   ]
  },
  {
   "cell_type": "markdown",
   "metadata": {},
   "source": [
    "## Ok this seems to work well for two models for a fixed mX."
   ]
  },
  {
   "cell_type": "code",
   "execution_count": 16,
   "metadata": {},
   "outputs": [
    {
     "ename": "KeyError",
     "evalue": "(100, (0, 1))",
     "output_type": "error",
     "traceback": [
      "\u001b[0;31m---------------------------------------------------------------------------\u001b[0m",
      "\u001b[0;31mKeyError\u001b[0m                                  Traceback (most recent call last)",
      "Cell \u001b[0;32mIn[16], line 1\u001b[0m\n\u001b[0;32m----> 1\u001b[0m R_obs \u001b[38;5;241m=\u001b[39m \u001b[38;5;241m0.2\u001b[39m\u001b[38;5;241m*\u001b[39mrates_norm[(\u001b[38;5;241m100\u001b[39m,(\u001b[38;5;241m0\u001b[39m,\u001b[38;5;241m0\u001b[39m))][:\u001b[38;5;241m5\u001b[39m] \u001b[38;5;241m+\u001b[39m \u001b[38;5;241m2.5\u001b[39m\u001b[38;5;241m*\u001b[39m\u001b[43mrates_norm\u001b[49m\u001b[43m[\u001b[49m\u001b[43m(\u001b[49m\u001b[38;5;241;43m100\u001b[39;49m\u001b[43m,\u001b[49m\u001b[43m(\u001b[49m\u001b[38;5;241;43m0\u001b[39;49m\u001b[43m,\u001b[49m\u001b[38;5;241;43m1\u001b[39;49m\u001b[43m)\u001b[49m\u001b[43m)\u001b[49m\u001b[43m]\u001b[49m[:\u001b[38;5;241m5\u001b[39m] \u001b[38;5;66;03m# create some artificial data based on the 2 models we chose.\u001b[39;00m\n\u001b[1;32m      2\u001b[0m \u001b[38;5;66;03m#R_obs = R_obs/(np.sum(R_obs))\u001b[39;00m\n\u001b[1;32m      3\u001b[0m \n\u001b[1;32m      4\u001b[0m \u001b[38;5;66;03m# Function to create rate matrix R_{ij} where j indexes q^a*v^b models and i indexes (theta,phi) bins.\u001b[39;00m\n\u001b[1;32m      5\u001b[0m \n\u001b[1;32m      6\u001b[0m \u001b[38;5;66;03m# This will need to be rewritten later when we have more models.\u001b[39;00m\n\u001b[1;32m      7\u001b[0m \u001b[38;5;28;01mdef\u001b[39;00m \u001b[38;5;21mrate_mat\u001b[39m(mX):\n\u001b[1;32m      8\u001b[0m     \u001b[38;5;66;03m#rate_j_1 = rates_norm[(mX,(0,0))][:5] # for now take only 5 elements.\u001b[39;00m\n\u001b[1;32m      9\u001b[0m     \u001b[38;5;66;03m#rate_j_2 = rates_norm[(mX,(0,1))][:5] # for now take only 5 elements.\u001b[39;00m\n",
      "\u001b[0;31mKeyError\u001b[0m: (100, (0, 1))"
     ]
    }
   ],
   "source": [
    "R_obs = 0.2*rates_norm[(100,(0,0))][:5] + 2.5*rates_norm[(100,(0,1))][:5] # create some artificial data based on the 2 models we chose.\n",
    "#R_obs = R_obs/(np.sum(R_obs))\n",
    "\n",
    "# Function to create rate matrix R_{ij} where j indexes q^a*v^b models and i indexes (theta,phi) bins.\n",
    "\n",
    "# This will need to be rewritten later when we have more models.\n",
    "def rate_mat(mX):\n",
    "    #rate_j_1 = rates_norm[(mX,(0,0))][:5] # for now take only 5 elements.\n",
    "    #rate_j_2 = rates_norm[(mX,(0,1))][:5] # for now take only 5 elements.\n",
    "\n",
    "    N = 2 # number of models to consider.\n",
    "    m = 5 # five points. \n",
    "    \n",
    "    rate_mat = np.zeros((m,N)) # create rate_matrix of zeros.\n",
    "    #Fill up rate_matrix\n",
    "    for i in range(N):\n",
    "        rate_mat[:,i] = rates_norm[(mX,(0,i))][:m]\n",
    "\n",
    "    return rate_mat\n",
    "\n",
    "    \n",
    "    \n",
    "def chi_sq(d):\n",
    "    mX = 100\n",
    "    rate_matrix = rate_mat(mX)\n",
    "    \n",
    "    return np.sum((R_obs - np.matmul(d, rate_matrix.T))**2/(np.matmul(d, rate_matrix.T)))\n",
    "\n",
    "\n",
    "# Is there a better way to choose tolerance for chi_squared minimization?\n",
    "## TNC is good for large-scale problems.\n",
    "d0 = np.array([0.7,0.2])\n",
    "result =  minimize(chi_sq, d0, method = \"TNC\",tol=1e-16, bounds = [(0,3),(0,3)], options = {'maxfun':1000})  # this method seems to work well. TNC.\n",
    "print(result)\n"
   ]
  },
  {
   "cell_type": "markdown",
   "metadata": {},
   "source": [
    "## Now let's try increasing the number of models. Let's take all models."
   ]
  },
  {
   "cell_type": "code",
   "execution_count": 36,
   "metadata": {},
   "outputs": [
    {
     "name": "stdout",
     "output_type": "stream",
     "text": [
      "0.9996371798276765\n",
      "0.9995939063169678\n",
      "0.9996044199685116\n",
      "0.9997631371149943\n",
      "0.9996989889504064\n",
      "0.9996908333609884\n"
     ]
    }
   ],
   "source": [
    "#Let's create some noisy data. Take a standard deviation of 0.03 and mean 0, sample from normal distribution.\n",
    "print(np.sum(rates_norm[(100,(0,0))])/192)\n",
    "print(np.sum(rates_norm[(100,(0,2))])/192)\n",
    "print(np.sum(rates_norm[(100,(0,4))])/192)\n",
    "print(np.sum(rates_norm[(100,(2,0))])/192)\n",
    "print(np.sum(rates_norm[(100,(2,2))])/192)\n",
    "print(np.sum(rates_norm[(100,(2,4))])/192)"
   ]
  },
  {
   "cell_type": "code",
   "execution_count": 43,
   "metadata": {},
   "outputs": [
    {
     "data": {
      "text/plain": [
       "0.13093378417536505"
      ]
     },
     "execution_count": 43,
     "metadata": {},
     "output_type": "execute_result"
    }
   ],
   "source": [
    "np.sqrt(np.var(R_obs_noiseless))"
   ]
  },
  {
   "cell_type": "code",
   "execution_count": 64,
   "metadata": {},
   "outputs": [
    {
     "ename": "TypeError",
     "evalue": "'dict' object is not callable",
     "output_type": "error",
     "traceback": [
      "\u001b[0;31m---------------------------------------------------------------------------\u001b[0m",
      "\u001b[0;31mTypeError\u001b[0m                                 Traceback (most recent call last)",
      "Cell \u001b[0;32mIn[64], line 1\u001b[0m\n\u001b[0;32m----> 1\u001b[0m \u001b[43mrates_norm\u001b[49m\u001b[43m(\u001b[49m\u001b[38;5;241;43m100\u001b[39;49m\u001b[43m,\u001b[49m\u001b[43m(\u001b[49m\u001b[38;5;241;43m0\u001b[39;49m\u001b[43m,\u001b[49m\u001b[38;5;241;43m0\u001b[39;49m\u001b[43m)\u001b[49m\u001b[43m)\u001b[49m\n",
      "\u001b[0;31mTypeError\u001b[0m: 'dict' object is not callable"
     ]
    }
   ],
   "source": [
    "rates_norm(100,(0,0))"
   ]
  },
  {
   "cell_type": "code",
   "execution_count": 65,
   "metadata": {},
   "outputs": [
    {
     "ename": "ValueError",
     "evalue": "`x0` violates bound constraints.",
     "output_type": "error",
     "traceback": [
      "\u001b[0;31m---------------------------------------------------------------------------\u001b[0m",
      "\u001b[0;31mValueError\u001b[0m                                Traceback (most recent call last)",
      "Cell \u001b[0;32mIn[65], line 55\u001b[0m\n\u001b[1;32m     52\u001b[0m \u001b[38;5;66;03m# Is there a better way to choose tolerance for chi_squared minimization?\u001b[39;00m\n\u001b[1;32m     53\u001b[0m \u001b[38;5;66;03m## TNC is good for large-scale problems.\u001b[39;00m\n\u001b[1;32m     54\u001b[0m d0 \u001b[38;5;241m=\u001b[39m np\u001b[38;5;241m.\u001b[39mabs(np\u001b[38;5;241m.\u001b[39mmatmul(pseudo_inverse, R_obs))\u001b[38;5;66;03m#np.random.rand(N)*2\u001b[39;00m\n\u001b[0;32m---> 55\u001b[0m result \u001b[38;5;241m=\u001b[39m  \u001b[43mminimize\u001b[49m\u001b[43m(\u001b[49m\u001b[43mchi_sq\u001b[49m\u001b[43m,\u001b[49m\u001b[43m \u001b[49m\u001b[43md0\u001b[49m\u001b[43m,\u001b[49m\u001b[43m \u001b[49m\u001b[43mmethod\u001b[49m\u001b[43m \u001b[49m\u001b[38;5;241;43m=\u001b[39;49m\u001b[43m \u001b[49m\u001b[38;5;124;43m\"\u001b[39;49m\u001b[38;5;124;43mTNC\u001b[39;49m\u001b[38;5;124;43m\"\u001b[39;49m\u001b[43m,\u001b[49m\u001b[43mtol\u001b[49m\u001b[38;5;241;43m=\u001b[39;49m\u001b[38;5;241;43m1e-20\u001b[39;49m\u001b[43m,\u001b[49m\u001b[43mbounds\u001b[49m\u001b[43m \u001b[49m\u001b[38;5;241;43m=\u001b[39;49m\u001b[43m \u001b[49m\u001b[43m[\u001b[49m\u001b[43m(\u001b[49m\u001b[38;5;241;43m0\u001b[39;49m\u001b[43m,\u001b[49m\u001b[38;5;241;43m2\u001b[39;49m\u001b[43m)\u001b[49m\u001b[43m,\u001b[49m\u001b[43m(\u001b[49m\u001b[38;5;241;43m0\u001b[39;49m\u001b[43m,\u001b[49m\u001b[38;5;241;43m2\u001b[39;49m\u001b[43m)\u001b[49m\u001b[43m,\u001b[49m\u001b[43m(\u001b[49m\u001b[38;5;241;43m0\u001b[39;49m\u001b[43m,\u001b[49m\u001b[38;5;241;43m2\u001b[39;49m\u001b[43m)\u001b[49m\u001b[43m,\u001b[49m\u001b[43m(\u001b[49m\u001b[38;5;241;43m0\u001b[39;49m\u001b[43m,\u001b[49m\u001b[38;5;241;43m2\u001b[39;49m\u001b[43m)\u001b[49m\u001b[43m,\u001b[49m\u001b[43m(\u001b[49m\u001b[38;5;241;43m0\u001b[39;49m\u001b[43m,\u001b[49m\u001b[38;5;241;43m2\u001b[39;49m\u001b[43m)\u001b[49m\u001b[43m,\u001b[49m\u001b[43m(\u001b[49m\u001b[38;5;241;43m0\u001b[39;49m\u001b[43m,\u001b[49m\u001b[38;5;241;43m2\u001b[39;49m\u001b[43m)\u001b[49m\u001b[43m]\u001b[49m\u001b[43m,\u001b[49m\u001b[43m \u001b[49m\u001b[43moptions\u001b[49m\u001b[43m \u001b[49m\u001b[38;5;241;43m=\u001b[39;49m\u001b[43m \u001b[49m\u001b[43m{\u001b[49m\u001b[38;5;124;43m'\u001b[39;49m\u001b[38;5;124;43mmaxfun\u001b[39;49m\u001b[38;5;124;43m'\u001b[39;49m\u001b[43m:\u001b[49m\u001b[38;5;241;43m10\u001b[39;49m\u001b[38;5;241;43m*\u001b[39;49m\u001b[38;5;241;43m*\u001b[39;49m\u001b[38;5;241;43m9\u001b[39;49m\u001b[43m,\u001b[49m\u001b[38;5;124;43m'\u001b[39;49m\u001b[38;5;124;43meta\u001b[39;49m\u001b[38;5;124;43m'\u001b[39;49m\u001b[43m:\u001b[49m\u001b[38;5;241;43m0.25\u001b[39;49m\u001b[43m,\u001b[49m\u001b[38;5;124;43m'\u001b[39;49m\u001b[38;5;124;43mftol\u001b[39;49m\u001b[38;5;124;43m'\u001b[39;49m\u001b[43m:\u001b[49m\u001b[38;5;241;43m1e-11\u001b[39;49m\u001b[43m}\u001b[49m\u001b[43m)\u001b[49m  \u001b[38;5;66;03m# this method seems to work well. TNC.\u001b[39;00m\n\u001b[1;32m     56\u001b[0m \u001b[38;5;66;03m#result =  minimize(chi_sq, d0, method = \"BFGS\",tol=1e-20, options = {'maxiter':10**5,'xrtol':1e-5,'gtol':1e-14})  # this method seems to work well. TNC.\u001b[39;00m\n\u001b[1;32m     57\u001b[0m \u001b[38;5;66;03m#result =  minimize(chi_sq, d0,method = \"trust-krylov\", jac='2-point',tol=1e-20)  # this method seems to work well. TNC.\u001b[39;00m\n\u001b[1;32m     59\u001b[0m \u001b[38;5;28mprint\u001b[39m(result)\n",
      "File \u001b[0;32m/opt/anaconda3/envs/vsdm/lib/python3.9/site-packages/scipy/optimize/_minimize.py:716\u001b[0m, in \u001b[0;36mminimize\u001b[0;34m(fun, x0, args, method, jac, hess, hessp, bounds, constraints, tol, callback, options)\u001b[0m\n\u001b[1;32m    713\u001b[0m     res \u001b[38;5;241m=\u001b[39m _minimize_lbfgsb(fun, x0, args, jac, bounds,\n\u001b[1;32m    714\u001b[0m                            callback\u001b[38;5;241m=\u001b[39mcallback, \u001b[38;5;241m*\u001b[39m\u001b[38;5;241m*\u001b[39moptions)\n\u001b[1;32m    715\u001b[0m \u001b[38;5;28;01melif\u001b[39;00m meth \u001b[38;5;241m==\u001b[39m \u001b[38;5;124m'\u001b[39m\u001b[38;5;124mtnc\u001b[39m\u001b[38;5;124m'\u001b[39m:\n\u001b[0;32m--> 716\u001b[0m     res \u001b[38;5;241m=\u001b[39m \u001b[43m_minimize_tnc\u001b[49m\u001b[43m(\u001b[49m\u001b[43mfun\u001b[49m\u001b[43m,\u001b[49m\u001b[43m \u001b[49m\u001b[43mx0\u001b[49m\u001b[43m,\u001b[49m\u001b[43m \u001b[49m\u001b[43margs\u001b[49m\u001b[43m,\u001b[49m\u001b[43m \u001b[49m\u001b[43mjac\u001b[49m\u001b[43m,\u001b[49m\u001b[43m \u001b[49m\u001b[43mbounds\u001b[49m\u001b[43m,\u001b[49m\u001b[43m \u001b[49m\u001b[43mcallback\u001b[49m\u001b[38;5;241;43m=\u001b[39;49m\u001b[43mcallback\u001b[49m\u001b[43m,\u001b[49m\n\u001b[1;32m    717\u001b[0m \u001b[43m                        \u001b[49m\u001b[38;5;241;43m*\u001b[39;49m\u001b[38;5;241;43m*\u001b[39;49m\u001b[43moptions\u001b[49m\u001b[43m)\u001b[49m\n\u001b[1;32m    718\u001b[0m \u001b[38;5;28;01melif\u001b[39;00m meth \u001b[38;5;241m==\u001b[39m \u001b[38;5;124m'\u001b[39m\u001b[38;5;124mcobyla\u001b[39m\u001b[38;5;124m'\u001b[39m:\n\u001b[1;32m    719\u001b[0m     res \u001b[38;5;241m=\u001b[39m _minimize_cobyla(fun, x0, args, constraints, callback\u001b[38;5;241m=\u001b[39mcallback,\n\u001b[1;32m    720\u001b[0m                            bounds\u001b[38;5;241m=\u001b[39mbounds, \u001b[38;5;241m*\u001b[39m\u001b[38;5;241m*\u001b[39moptions)\n",
      "File \u001b[0;32m/opt/anaconda3/envs/vsdm/lib/python3.9/site-packages/scipy/optimize/_tnc.py:381\u001b[0m, in \u001b[0;36m_minimize_tnc\u001b[0;34m(fun, x0, args, jac, bounds, eps, scale, offset, mesg_num, maxCGit, eta, stepmx, accuracy, minfev, ftol, xtol, gtol, rescale, disp, callback, finite_diff_rel_step, maxfun, **unknown_options)\u001b[0m\n\u001b[1;32m    378\u001b[0m \u001b[38;5;28;01melse\u001b[39;00m:\n\u001b[1;32m    379\u001b[0m     messages \u001b[38;5;241m=\u001b[39m MSG_NONE\n\u001b[0;32m--> 381\u001b[0m sf \u001b[38;5;241m=\u001b[39m \u001b[43m_prepare_scalar_function\u001b[49m\u001b[43m(\u001b[49m\u001b[43mfun\u001b[49m\u001b[43m,\u001b[49m\u001b[43m \u001b[49m\u001b[43mx0\u001b[49m\u001b[43m,\u001b[49m\u001b[43m \u001b[49m\u001b[43mjac\u001b[49m\u001b[38;5;241;43m=\u001b[39;49m\u001b[43mjac\u001b[49m\u001b[43m,\u001b[49m\u001b[43m \u001b[49m\u001b[43margs\u001b[49m\u001b[38;5;241;43m=\u001b[39;49m\u001b[43margs\u001b[49m\u001b[43m,\u001b[49m\u001b[43m \u001b[49m\u001b[43mepsilon\u001b[49m\u001b[38;5;241;43m=\u001b[39;49m\u001b[43meps\u001b[49m\u001b[43m,\u001b[49m\n\u001b[1;32m    382\u001b[0m \u001b[43m                              \u001b[49m\u001b[43mfinite_diff_rel_step\u001b[49m\u001b[38;5;241;43m=\u001b[39;49m\u001b[43mfinite_diff_rel_step\u001b[49m\u001b[43m,\u001b[49m\n\u001b[1;32m    383\u001b[0m \u001b[43m                              \u001b[49m\u001b[43mbounds\u001b[49m\u001b[38;5;241;43m=\u001b[39;49m\u001b[43mnew_bounds\u001b[49m\u001b[43m)\u001b[49m\n\u001b[1;32m    384\u001b[0m func_and_grad \u001b[38;5;241m=\u001b[39m sf\u001b[38;5;241m.\u001b[39mfun_and_grad\n\u001b[1;32m    386\u001b[0m \u001b[38;5;250m\u001b[39m\u001b[38;5;124;03m\"\"\"\u001b[39;00m\n\u001b[1;32m    387\u001b[0m \u001b[38;5;124;03mlow, up   : the bounds (lists of floats)\u001b[39;00m\n\u001b[1;32m    388\u001b[0m \u001b[38;5;124;03m            if low is None, the lower bounds are removed.\u001b[39;00m\n\u001b[1;32m    389\u001b[0m \u001b[38;5;124;03m            if up is None, the upper bounds are removed.\u001b[39;00m\n\u001b[1;32m    390\u001b[0m \u001b[38;5;124;03m            low and up defaults to None\u001b[39;00m\n\u001b[1;32m    391\u001b[0m \u001b[38;5;124;03m\"\"\"\u001b[39;00m\n",
      "File \u001b[0;32m/opt/anaconda3/envs/vsdm/lib/python3.9/site-packages/scipy/optimize/_optimize.py:288\u001b[0m, in \u001b[0;36m_prepare_scalar_function\u001b[0;34m(fun, x0, jac, args, bounds, epsilon, finite_diff_rel_step, hess)\u001b[0m\n\u001b[1;32m    284\u001b[0m     bounds \u001b[38;5;241m=\u001b[39m (\u001b[38;5;241m-\u001b[39mnp\u001b[38;5;241m.\u001b[39minf, np\u001b[38;5;241m.\u001b[39minf)\n\u001b[1;32m    286\u001b[0m \u001b[38;5;66;03m# ScalarFunction caches. Reuse of fun(x) during grad\u001b[39;00m\n\u001b[1;32m    287\u001b[0m \u001b[38;5;66;03m# calculation reduces overall function evaluations.\u001b[39;00m\n\u001b[0;32m--> 288\u001b[0m sf \u001b[38;5;241m=\u001b[39m \u001b[43mScalarFunction\u001b[49m\u001b[43m(\u001b[49m\u001b[43mfun\u001b[49m\u001b[43m,\u001b[49m\u001b[43m \u001b[49m\u001b[43mx0\u001b[49m\u001b[43m,\u001b[49m\u001b[43m \u001b[49m\u001b[43margs\u001b[49m\u001b[43m,\u001b[49m\u001b[43m \u001b[49m\u001b[43mgrad\u001b[49m\u001b[43m,\u001b[49m\u001b[43m \u001b[49m\u001b[43mhess\u001b[49m\u001b[43m,\u001b[49m\n\u001b[1;32m    289\u001b[0m \u001b[43m                    \u001b[49m\u001b[43mfinite_diff_rel_step\u001b[49m\u001b[43m,\u001b[49m\u001b[43m \u001b[49m\u001b[43mbounds\u001b[49m\u001b[43m,\u001b[49m\u001b[43m \u001b[49m\u001b[43mepsilon\u001b[49m\u001b[38;5;241;43m=\u001b[39;49m\u001b[43mepsilon\u001b[49m\u001b[43m)\u001b[49m\n\u001b[1;32m    291\u001b[0m \u001b[38;5;28;01mreturn\u001b[39;00m sf\n",
      "File \u001b[0;32m/opt/anaconda3/envs/vsdm/lib/python3.9/site-packages/scipy/optimize/_differentiable_functions.py:185\u001b[0m, in \u001b[0;36mScalarFunction.__init__\u001b[0;34m(self, fun, x0, args, grad, hess, finite_diff_rel_step, finite_diff_bounds, epsilon)\u001b[0m\n\u001b[1;32m    181\u001b[0m         \u001b[38;5;28mself\u001b[39m\u001b[38;5;241m.\u001b[39mg \u001b[38;5;241m=\u001b[39m approx_derivative(fun_wrapped, \u001b[38;5;28mself\u001b[39m\u001b[38;5;241m.\u001b[39mx, f0\u001b[38;5;241m=\u001b[39m\u001b[38;5;28mself\u001b[39m\u001b[38;5;241m.\u001b[39mf,\n\u001b[1;32m    182\u001b[0m                                    \u001b[38;5;241m*\u001b[39m\u001b[38;5;241m*\u001b[39mfinite_diff_options)\n\u001b[1;32m    184\u001b[0m \u001b[38;5;28mself\u001b[39m\u001b[38;5;241m.\u001b[39m_update_grad_impl \u001b[38;5;241m=\u001b[39m update_grad\n\u001b[0;32m--> 185\u001b[0m \u001b[38;5;28;43mself\u001b[39;49m\u001b[38;5;241;43m.\u001b[39;49m\u001b[43m_update_grad\u001b[49m\u001b[43m(\u001b[49m\u001b[43m)\u001b[49m\n\u001b[1;32m    187\u001b[0m \u001b[38;5;66;03m# Hessian Evaluation\u001b[39;00m\n\u001b[1;32m    188\u001b[0m \u001b[38;5;28;01mif\u001b[39;00m \u001b[38;5;28mcallable\u001b[39m(hess):\n",
      "File \u001b[0;32m/opt/anaconda3/envs/vsdm/lib/python3.9/site-packages/scipy/optimize/_differentiable_functions.py:267\u001b[0m, in \u001b[0;36mScalarFunction._update_grad\u001b[0;34m(self)\u001b[0m\n\u001b[1;32m    265\u001b[0m \u001b[38;5;28;01mdef\u001b[39;00m \u001b[38;5;21m_update_grad\u001b[39m(\u001b[38;5;28mself\u001b[39m):\n\u001b[1;32m    266\u001b[0m     \u001b[38;5;28;01mif\u001b[39;00m \u001b[38;5;129;01mnot\u001b[39;00m \u001b[38;5;28mself\u001b[39m\u001b[38;5;241m.\u001b[39mg_updated:\n\u001b[0;32m--> 267\u001b[0m         \u001b[38;5;28;43mself\u001b[39;49m\u001b[38;5;241;43m.\u001b[39;49m\u001b[43m_update_grad_impl\u001b[49m\u001b[43m(\u001b[49m\u001b[43m)\u001b[49m\n\u001b[1;32m    268\u001b[0m         \u001b[38;5;28mself\u001b[39m\u001b[38;5;241m.\u001b[39mg_updated \u001b[38;5;241m=\u001b[39m \u001b[38;5;28;01mTrue\u001b[39;00m\n",
      "File \u001b[0;32m/opt/anaconda3/envs/vsdm/lib/python3.9/site-packages/scipy/optimize/_differentiable_functions.py:181\u001b[0m, in \u001b[0;36mScalarFunction.__init__.<locals>.update_grad\u001b[0;34m()\u001b[0m\n\u001b[1;32m    179\u001b[0m \u001b[38;5;28mself\u001b[39m\u001b[38;5;241m.\u001b[39m_update_fun()\n\u001b[1;32m    180\u001b[0m \u001b[38;5;28mself\u001b[39m\u001b[38;5;241m.\u001b[39mngev \u001b[38;5;241m+\u001b[39m\u001b[38;5;241m=\u001b[39m \u001b[38;5;241m1\u001b[39m\n\u001b[0;32m--> 181\u001b[0m \u001b[38;5;28mself\u001b[39m\u001b[38;5;241m.\u001b[39mg \u001b[38;5;241m=\u001b[39m \u001b[43mapprox_derivative\u001b[49m\u001b[43m(\u001b[49m\u001b[43mfun_wrapped\u001b[49m\u001b[43m,\u001b[49m\u001b[43m \u001b[49m\u001b[38;5;28;43mself\u001b[39;49m\u001b[38;5;241;43m.\u001b[39;49m\u001b[43mx\u001b[49m\u001b[43m,\u001b[49m\u001b[43m \u001b[49m\u001b[43mf0\u001b[49m\u001b[38;5;241;43m=\u001b[39;49m\u001b[38;5;28;43mself\u001b[39;49m\u001b[38;5;241;43m.\u001b[39;49m\u001b[43mf\u001b[49m\u001b[43m,\u001b[49m\n\u001b[1;32m    182\u001b[0m \u001b[43m                           \u001b[49m\u001b[38;5;241;43m*\u001b[39;49m\u001b[38;5;241;43m*\u001b[39;49m\u001b[43mfinite_diff_options\u001b[49m\u001b[43m)\u001b[49m\n",
      "File \u001b[0;32m/opt/anaconda3/envs/vsdm/lib/python3.9/site-packages/scipy/optimize/_numdiff.py:484\u001b[0m, in \u001b[0;36mapprox_derivative\u001b[0;34m(fun, x0, method, rel_step, abs_step, f0, bounds, sparsity, as_linear_operator, args, kwargs)\u001b[0m\n\u001b[1;32m    481\u001b[0m         \u001b[38;5;28;01mraise\u001b[39;00m \u001b[38;5;167;01mValueError\u001b[39;00m(\u001b[38;5;124m\"\u001b[39m\u001b[38;5;124m`f0` passed has more than 1 dimension.\u001b[39m\u001b[38;5;124m\"\u001b[39m)\n\u001b[1;32m    483\u001b[0m \u001b[38;5;28;01mif\u001b[39;00m np\u001b[38;5;241m.\u001b[39many((x0 \u001b[38;5;241m<\u001b[39m lb) \u001b[38;5;241m|\u001b[39m (x0 \u001b[38;5;241m>\u001b[39m ub)):\n\u001b[0;32m--> 484\u001b[0m     \u001b[38;5;28;01mraise\u001b[39;00m \u001b[38;5;167;01mValueError\u001b[39;00m(\u001b[38;5;124m\"\u001b[39m\u001b[38;5;124m`x0` violates bound constraints.\u001b[39m\u001b[38;5;124m\"\u001b[39m)\n\u001b[1;32m    486\u001b[0m \u001b[38;5;28;01mif\u001b[39;00m as_linear_operator:\n\u001b[1;32m    487\u001b[0m     \u001b[38;5;28;01mif\u001b[39;00m rel_step \u001b[38;5;129;01mis\u001b[39;00m \u001b[38;5;28;01mNone\u001b[39;00m:\n",
      "\u001b[0;31mValueError\u001b[0m: `x0` violates bound constraints."
     ]
    }
   ],
   "source": [
    "noise = np.random.normal(0,0.00003,192)\n",
    "d00, d02, d04, d20, d22, d24 = 0.2, 1.3, 0.8, 0.01, 0.15, 0.1\n",
    "mX_mod = 100\n",
    "models_dict = {d00: (mX_mod, (0,0)), d02:(mX_mod, (0,2)), d04:(mX_mod, (0,4)),d20:(mX_mod, (2,0)), d22:(mX_mod, (2,2)), d24:(mX_mod, (2,4))}\n",
    "d_exact = np.array([])\n",
    "R_obs_noiseless = 0\n",
    "for key,value in models_dict.items():\n",
    "    d_exact = np.append(d_exact, key)\n",
    "    R_obs_noiseless = R_obs_noiseless + key*rates_norm[value]\n",
    "#R_obs_noiseless = 0.2*rates_norm[(100,(0,0))] + 1.3*rates_norm[(100,(0,2))] + 0.8*rates_norm[(100,(0,4))] + 0.01*rates_norm[(100,(2,0))] + 0.15*rates_norm[(100,(2,2))] + 0.1*rates_norm[(100,(2,4))]\n",
    "\n",
    "#R_obs = 0.2*rates_norm[(100,(0,0))] + 1.3*rates_norm[(100,(0,2))] + 0.8*rates_norm[(100,(0,4))] + 0.01*rates_norm[(100,(2,0))] + 0.15*rates_norm[(100,(2,2))] + 0.1*rates_norm[(100,(2,4))] + noise\n",
    "R_obs = R_obs_noiseless + noise\n",
    "\n",
    "# create some artificial data based on the models we chose.\n",
    "#R_obs = R_obs/(np.sum(R_obs))\n",
    "\n",
    "# Function to create rate matrix R_{ij} where j indexes q^a*v^b models and i indexes (theta,phi) bins.\n",
    "\n",
    "# This will need to be rewritten later when we have more models.\n",
    "\n",
    "list_a = [0,2]\n",
    "list_b = [0,2,4]\n",
    "    \n",
    "N = len(list_a)*len(list_b) # number of models to consider.\n",
    "def rate_mat(mX):\n",
    "    #rate_j_1 = rates_norm[(mX,(0,0))][:5] # for now take only 5 elements.\n",
    "    #rate_j_2 = rates_norm[(mX,(0,1))][:5] # for now take only 5 elements.\n",
    "    \n",
    "    m = len(R_obs) # five points. \n",
    "    \n",
    "    rate_mat = np.zeros((m,N)) # create rate_matrix of zeros.\n",
    "    \n",
    "    #Fill up rate_matrix\n",
    "    count = 0\n",
    "    for a in list_a:\n",
    "        for b in list_b:\n",
    "            #print(count)\n",
    "            rate_mat[:,count] = rates_norm[(mX,(a, b))][:m]\n",
    "            count = count+1\n",
    "\n",
    "    return rate_mat\n",
    "\n",
    "    \n",
    "   \n",
    "def chi_sq(d):\n",
    "    mX = 100\n",
    "    rate_matrix = rate_mat(mX)\n",
    "    \n",
    "    return np.sum((R_obs - np.matmul(d, rate_matrix.T))**2/(np.matmul(d, rate_matrix.T)))\n",
    "\n",
    "\n",
    "# Is there a better way to choose tolerance for chi_squared minimization?\n",
    "## TNC is good for large-scale problems.\n",
    "d0 = np.abs(np.matmul(pseudo_inverse, R_obs))#np.random.rand(N)*2\n",
    "result =  minimize(chi_sq, d0, method = \"TNC\",tol=1e-20,bounds = [(0,2),(0,2),(0,2),(0,2),(0,2),(0,2)], options = {'maxfun':10**9,'eta':0.25,'ftol':1e-11})  # this method seems to work well. TNC.\n",
    "#result =  minimize(chi_sq, d0, method = \"BFGS\",tol=1e-20, options = {'maxiter':10**5,'xrtol':1e-5,'gtol':1e-14})  # this method seems to work well. TNC.\n",
    "#result =  minimize(chi_sq, d0,method = \"trust-krylov\", jac='2-point',tol=1e-20)  # this method seems to work well. TNC.\n",
    "\n",
    "print(result)\n",
    "print(\"Best-fit values are\",result['x'])\n",
    "\n",
    "#print(\"Best-fit values are\",result['x'][7-1])\n",
    "#print(\"Best-fit values are\",result['x'][8-1])\n",
    "##print(\"Best-fit values are\",result['x'][9-1]\n",
    "#print(\"Best-fit values are\",result['x'][10-1])\n",
    "#print(\"Best-fit values are\",result['x'][12-1])\n",
    "print(\"chi_sq initial is\",chi_sq(d0))"
   ]
  },
  {
   "cell_type": "code",
   "execution_count": 49,
   "metadata": {},
   "outputs": [
    {
     "name": "stdout",
     "output_type": "stream",
     "text": [
      "The pseudo inverse (left inverse) gives something close to id [[ 9.99861385e-01  3.52495307e-04  5.70488593e-04  3.03941481e-04\n",
      "   3.80417510e-04  4.10813839e-04]\n",
      " [-1.14306676e-04  9.99055099e-01 -1.31342543e-03 -8.62185829e-04\n",
      "  -9.91604544e-04 -1.04293363e-03]\n",
      " [ 4.06105460e-04  7.96980086e-04  1.00097040e+00  7.57843377e-04\n",
      "   8.19013218e-04  8.43356184e-04]\n",
      " [ 1.31176856e-04 -2.08722487e-04 -3.59564599e-04  9.99824971e-01\n",
      "  -2.27953785e-04 -2.48963496e-04]\n",
      " [-6.65407420e-04 -1.53028478e-04  7.44326262e-05 -2.03542777e-04\n",
      "   9.99876203e-01 -9.20984539e-05]\n",
      " [ 3.11016862e-04  8.73211179e-05 -1.19989409e-05  1.09279804e-04\n",
      "   7.45157731e-05  1.00006070e+00]]\n",
      "pseudo_inverse is [[ 2360.67014432  2360.67014432  2360.67014432 ...  2360.67014432\n",
      "   2360.67014432  2360.67014444]\n",
      " [-4001.41614366 -4001.41614366 -4001.41614366 ... -4001.41614366\n",
      "  -4001.41614366 -4001.41614389]\n",
      " [ 1890.700831    1890.700831    1890.700831   ...  1890.700831\n",
      "   1890.700831    1890.70083112]\n",
      " [-1634.43529105 -1634.43529105 -1634.43529105 ... -1634.43529105\n",
      "  -1634.43529105 -1634.43529111]\n",
      " [ 2463.45778108  2463.45778108  2463.45778108 ...  2463.45778108\n",
      "   2463.45778108  2463.4577812 ]\n",
      " [-1078.97183251 -1078.97183251 -1078.97183251 ... -1078.97183251\n",
      "  -1078.97183251 -1078.97183257]]\n"
     ]
    },
    {
     "data": {
      "text/plain": [
       "(6, 192)"
      ]
     },
     "execution_count": 49,
     "metadata": {},
     "output_type": "execute_result"
    }
   ],
   "source": [
    "#WARNING : OLD (Do not execute)\n",
    "#The left inverse only gives something close to identity if we do not include q = -2 models. Otherwise it completely breaks down.\n",
    "# This calculation does not use SVD. So maybe let's replace that with one that does to compare.\n",
    "blabla = rate_mat(100)\n",
    "blabla_star = np.matrix.conjugate(blabla).T\n",
    "\n",
    "pseudo_inv = np.matmul(np.linalg.inv(np.matmul(blabla_star,blabla)),blabla_star)\n",
    "print(\"The pseudo inverse (left inverse) gives something close to id\",np.matmul(pseudo_inv, blabla)) # this gives something \"close\" to identity\n",
    "np.abs(np.matmul(pseudo_inv, R_obs))\n",
    "#np.linalg.inv(np.matmul(np.matrix.conjugate(blabla).T,blabla))\n",
    "print(\"pseudo_inverse is\",pseudo_inv)\n",
    "np.shape(pseudo_inv)"
   ]
  },
  {
   "cell_type": "code",
   "execution_count": 105,
   "metadata": {},
   "outputs": [],
   "source": [
    "# Performs SVD and finds pseudoinverse. Returns only pseudoinverse.\n",
    "def pseudo_inv(M): \n",
    "    u,sigma,v_transpose =  np.linalg.svd(M, compute_uv=True, full_matrices=True)\n",
    "    print(\"The matrix Sigma is\", sigma)\n",
    "    sigma = 1/sigma # I need to find the pseudo-inverse of the diagonal sigma matrix by taking the reciprocal\n",
    "\n",
    "    m = np.shape(M)[0] #dimensions of matrix M which is m by n.\n",
    "    n = np.shape(M)[1] \n",
    "    \n",
    "    sigma_mat = np.zeros((m, n), dtype=np.float64) # makes the m by n matrix out of the array.\n",
    "    sigma_mat[:len(sigma), :len(sigma)] = np.diag(sigma)\n",
    "    \n",
    "\n",
    "    #print(np.shape(sigma_mat))\n",
    "    #print(np.shape(v_transpose))\n",
    "    #print(np.shape(u))\n",
    "\n",
    "    \n",
    "    \n",
    "    return np.dot(np.dot(v_transpose.T, sigma_mat.T),u.T)  # I need to transpose the 1/sigma to get pseudoinverse of sigma.\n",
    "\n",
    "#function to check if the pseudo_inverse we found is a good one, that is, it satisfies the four Moore-Penrose conditions.\n",
    "# ok it looks like my function for finding pseudo_inverse works well after I test it with the Moore-Penrose conditions.\n",
    "def Moore_Penrose(M, pseudo_inv_M):\n",
    "    #cond 1\n",
    "    mat1 = np.dot(np.dot(M,pseudo_inv_M),M) - M # should be the zero matrix\n",
    "    #cond 2\n",
    "    mat2 = np.dot(np.dot(pseudo_inv_M,M),pseudo_inv_M) - pseudo_inv_M # should be the zero matrix\n",
    "    #cond 3\n",
    "    mat3 = np.dot(M,pseudo_inv_M).T - np.dot(M,pseudo_inv_M) # should return zero matrix\n",
    "    #cond 4 \n",
    "    mat4 = np.dot(pseudo_inv_M, M).T - np.dot(pseudo_inv_M, M) # should return zero matrix\n",
    "\n",
    "    return mat1, mat2, mat3, mat4"
   ]
  },
  {
   "cell_type": "markdown",
   "metadata": {},
   "source": [
    "## The diagonal values of Sigma tells us something about the flat directions. If the value is zero (or close), it means we cannot distinguish that direction."
   ]
  },
  {
   "cell_type": "code",
   "execution_count": 110,
   "metadata": {},
   "outputs": [
    {
     "name": "stdout",
     "output_type": "stream",
     "text": [
      "The matrix Sigma is [3.39699956e+01 8.22688673e-01 2.42035737e-01 1.61447713e-02\n",
      " 4.02741622e-03 1.09178049e-05]\n",
      "(192, 6)\n"
     ]
    }
   ],
   "source": [
    "# THIS CELL USES SVD TO FIND PSEUDO-INVERSE\n",
    "#The left inverse only gives something close to identity if we do not include q = -2 models. Otherwise it may completely break down (to check)\n",
    "blabla = rate_mat(100)\n",
    "pseudo_inverse = pseudo_inv(blabla)\n",
    "\n",
    "np.abs(np.matmul(pseudo_inverse, R_obs))\n",
    "print(np.shape(blabla))\n",
    "#print(np.identity(6) - np.dot(pseudo_inverse,blabla))"
   ]
  },
  {
   "cell_type": "code",
   "execution_count": 22,
   "metadata": {},
   "outputs": [
    {
     "data": {
      "text/plain": [
       "(6, 6)"
      ]
     },
     "execution_count": 22,
     "metadata": {},
     "output_type": "execute_result"
    }
   ],
   "source": [
    "np.shape(np.identity(6) - np.dot(pseudo_inverse,blabla))"
   ]
  },
  {
   "cell_type": "code",
   "execution_count": 23,
   "metadata": {},
   "outputs": [
    {
     "data": {
      "text/plain": [
       "(192, 6)"
      ]
     },
     "execution_count": 23,
     "metadata": {},
     "output_type": "execute_result"
    }
   ],
   "source": [
    "np.shape(rate_mat(100))"
   ]
  },
  {
   "cell_type": "markdown",
   "metadata": {},
   "source": [
    "## Adding noise to R_obs makes things more difficult. Compare."
   ]
  },
  {
   "cell_type": "code",
   "execution_count": 66,
   "metadata": {},
   "outputs": [
    {
     "data": {
      "text/plain": [
       "array([0.2 , 1.3 , 0.8 , 0.01, 0.15, 0.1 ])"
      ]
     },
     "execution_count": 66,
     "metadata": {},
     "output_type": "execute_result"
    }
   ],
   "source": [
    "np.dot(pseudo_inverse,R_obs_noiseless) # Here q = -2 models not included. We get the exact coefficients when noiseless. Good."
   ]
  },
  {
   "cell_type": "markdown",
   "metadata": {},
   "source": [
    "## Is least squares solution afforded by pseudoinverse working correctly? We find that yes, see following cell.\n",
    "\\begin{equation}\n",
    "d_\\star(\\alpha) = R^+ R_{\\rm obs} + (I - R^+ R)\\vec{\\alpha}\n",
    "\\end{equation}\n",
    "Note the least-squares distance $|R \\vec{d_\\star}(\\vec{\\alpha}) - R^{\\rm obs}|$ is invariant under $\\alpha$ as these are the flat directions."
   ]
  },
  {
   "cell_type": "code",
   "execution_count": 161,
   "metadata": {},
   "outputs": [
    {
     "data": {
      "text/plain": [
       "1.1491586581587318e-05"
      ]
     },
     "execution_count": 161,
     "metadata": {},
     "output_type": "execute_result"
    }
   ],
   "source": [
    "# Is least squares solution afforded by pseudoinverse working correctly?\n",
    "d_star_alpha_zero = np.dot(pseudo_inverse,R_obs) # this is so far from the value of the coefficients. Here q=-2 models not included.\n",
    "np.linalg.norm(np.matmul(blabla, d_star_alpha_zero) - R_obs)/np.linalg.norm(R_obs) # this is very small indeed so it is doing its job."
   ]
  },
  {
   "cell_type": "markdown",
   "metadata": {},
   "source": [
    "## $M\\vec{v_i} = \\sigma_i u_i$ (no sum over $i$) where both $\\vec{v}_i$ and $\\vec{u}_i$ are column vectors of the V, U matrices from the SVD. So directions which have small $\\sigma$ are the flat directions, since $\\vec{u_i}$ are normalized. In our case, the matrix $M$ is $R$."
   ]
  },
  {
   "cell_type": "raw",
   "metadata": {},
   "source": [
    "#Let's see if this is indeed the flat direction.\n",
    "u,sigma,v_transpose =  np.linalg.svd(blabla, compute_uv=True, full_matrices=True)\n",
    "v_mat = v_transpose.T\n",
    "np.matmul(blabla,v_mat[0])\n",
    "print(v_mat[0])\n",
    "print(v_mat[1])\n",
    "print(v_mat[2])\n",
    "print(v_mat[3])\n",
    "print(v_mat[4])\n",
    "print(v_mat[5])\n",
    "\n",
    "print(np.linalg.norm(np.matmul(blabla,v_mat[0])))\n",
    "print(np.linalg.norm(np.matmul(blabla,v_mat[1])))\n",
    "print(np.linalg.norm(np.matmul(blabla,v_mat[2])))\n",
    "np.linalg.norm(np.matmul(blabla,v_mat[3]))\n",
    "np.linalg.norm(np.matmul(blabla,v_mat[4]))\n",
    "np.linalg.norm(np.matmul(blabla,v_mat[4]))"
   ]
  },
  {
   "cell_type": "code",
   "execution_count": 152,
   "metadata": {},
   "outputs": [
    {
     "name": "stdout",
     "output_type": "stream",
     "text": [
      "The matrix Sigma is [3.76834494e+01 4.93848371e-01 1.33229458e-02 5.70032098e-04\n",
      " 1.46911766e-05 3.12686446e-08]\n",
      "The matrix Sigma is [3.39594968e+01 7.52099631e-01 5.29879175e-01 1.74940757e-02\n",
      " 4.23821539e-03 2.74364085e-05]\n",
      "The matrix Sigma is [3.39699956e+01 8.22688673e-01 2.42035737e-01 1.61447713e-02\n",
      " 4.02741622e-03 1.09178049e-05]\n"
     ]
    },
    {
     "data": {
      "text/plain": [
       "<matplotlib.legend.Legend at 0x17c9afa30>"
      ]
     },
     "execution_count": 152,
     "metadata": {},
     "output_type": "execute_result"
    },
    {
     "data": {
      "image/png": "[encoded data removed]",
      "text/plain": [
       "<Figure size 640x480 with 1 Axes>"
      ]
     },
     "metadata": {},
     "output_type": "display_data"
    }
   ],
   "source": [
    "# The sensitivity to the Gaussian noise is also stochastic. Graph changes every time I rerun this.\n",
    "\n",
    "\n",
    "#Construct R_{ij} matrices for different mX.\n",
    "R_mX_1 = rate_mat(1)\n",
    "R_mX_10 = rate_mat(10)\n",
    "R_mX_100 = rate_mat(100)\n",
    "\n",
    "#Find pseudo-inverses\n",
    "pseudo_inverse_mX_1 = pseudo_inv(R_mX_1)\n",
    "pseudo_inverse_mX_10 = pseudo_inv(R_mX_10)\n",
    "pseudo_inverse_mX_100 = pseudo_inv(R_mX_100)\n",
    "\n",
    "# Construct R_obs_noiseless for each mX. For now let's fix same coefficients in d for all mX when creating R_obs_noiseless.\n",
    "\n",
    "d00, d02, d04, d20, d22, d24 = 0.2, 1.3, 0.8, 0.01, 0.15, 0.1\n",
    "R_obs_noiseless_dict = {}\n",
    "for mX in [1,10,100]:\n",
    "    mX_mod = mX\n",
    "    models_dict = {d00: (mX_mod, (0,0)), d02:(mX_mod, (0,2)), d04:(mX_mod, (0,4)),d20:(mX_mod, (2,0)), d22:(mX_mod, (2,2)), d24:(mX_mod, (2,4))}\n",
    "    d_exact = np.array([])\n",
    "    R_obs_noiseless = 0\n",
    "    for key,value in models_dict.items():\n",
    "        d_exact = np.append(d_exact, key)\n",
    "        R_obs_noiseless = R_obs_noiseless + key*rates_norm[value]\n",
    "    R_obs_noiseless_dict[mX] = R_obs_noiseless\n",
    "    \n",
    "\n",
    "eps_noise = 10**np.arange(-7.0,0.0,1.0)\n",
    "sensitivity_to_noise = np.zeros((3,len(eps_noise)))\n",
    "for i in range(len(eps_noise)):\n",
    "    noise = np.random.normal(0,eps_noise[i],192)\n",
    "    \n",
    "    R_obs_noise_mX_1 = R_obs_noiseless_dict[1] + noise\n",
    "    R_obs_noise_mX_10 = R_obs_noiseless_dict[10] + noise\n",
    "    R_obs_noise_mX_100 = R_obs_noiseless_dict[100] + noise\n",
    "    \n",
    "    d_star_alpha_zero_mX_1 = np.dot(pseudo_inverse_mX_1,R_obs_noise_mX_1)\n",
    "    d_star_alpha_zero_mX_10 = np.dot(pseudo_inverse_mX_10,R_obs_noise_mX_10)\n",
    "    d_star_alpha_zero_mX_100 = np.dot(pseudo_inverse_mX_100,R_obs_noise_mX_100)\n",
    "    \n",
    "    sensitivity_to_noise[0,i] = np.linalg.norm(d_star_alpha_zero_mX_1 - d_exact)/np.linalg.norm(d_exact)\n",
    "    sensitivity_to_noise[1,i] = np.linalg.norm(d_star_alpha_zero_mX_10 - d_exact)/np.linalg.norm(d_exact)\n",
    "    sensitivity_to_noise[2,i] = np.linalg.norm(d_star_alpha_zero_mX_100 - d_exact)/np.linalg.norm(d_exact)\n",
    "plt.plot(np.log10(eps_noise), np.log10(sensitivity_to_noise[0,:]),color='blue',label=r'$mX = 1$')\n",
    "plt.plot(np.log10(eps_noise), np.log10(sensitivity_to_noise[1,:]),color='orange', label = r'$mX = 10$')\n",
    "plt.plot(np.log10(eps_noise), np.log10(sensitivity_to_noise[2,:]),color='green', label = r'$mX = 100$')\n",
    "plt.ylabel(r'$\\log_{10} |d_{\\rm exact} - d_{\\rm best-fit}|$',size=20)\n",
    "plt.xlabel(r'$\\log_{10} \\sigma$' + \"(noise)\")\n",
    "plt.legend()\n",
    "    "
   ]
  },
  {
   "cell_type": "code",
   "execution_count": 174,
   "metadata": {},
   "outputs": [
    {
     "data": {
      "text/plain": [
       "array([[1.79154663, 1.7881034 , 1.78449033, 1.71487367, 1.70871834,\n",
       "        1.70224144],\n",
       "       [1.79154663, 1.7881034 , 1.78449033, 1.71487367, 1.70871834,\n",
       "        1.70224144],\n",
       "       [1.79154663, 1.7881034 , 1.78449033, 1.71487367, 1.70871834,\n",
       "        1.70224144],\n",
       "       ...,\n",
       "       [1.79154663, 1.7881034 , 1.78449033, 1.71487367, 1.70871834,\n",
       "        1.70224144],\n",
       "       [1.79154663, 1.7881034 , 1.78449033, 1.71487367, 1.70871834,\n",
       "        1.70224144],\n",
       "       [1.79154663, 1.7881034 , 1.78449033, 1.71487367, 1.70871834,\n",
       "        1.70224144]])"
      ]
     },
     "execution_count": 174,
     "metadata": {},
     "output_type": "execute_result"
    }
   ],
   "source": [
    "R_mX_1"
   ]
  },
  {
   "cell_type": "markdown",
   "metadata": {},
   "source": [
    "## Confidence levels exclusions.\n",
    " $p_{\\rm tot}(q) = 1 - \\frac{\\gamma(k/2,q/2)}{\\Gamma(k/2)}$ where $\\gamma(s,x) = \\int_0^\\infty t^{s-1}e^{-t}dt$ is the lower incomplete gamma function. Solving gives $\\gamma(k/2,q/2) = \\Gamma(k/2) (1-p)$. When $p = 0.32$, equation is satisfied for $q = 53.08$. When $p=0.05$, equation is satisfied for $q = 66.34$.\n",
    "\n",
    " Therefore, any $q < 66.34$ is consistent with the data at $2\\sigma$ and any $q < 53.08$ is consistent with the data at $1\\sigma$."
   ]
  },
  {
   "cell_type": "markdown",
   "metadata": {},
   "source": [
    "## Let's reformulate the problem in terms of Pg 7 to Pg 8 of Ben's notes.\n",
    "Define $\\mathbf{r} = \\mathbf{R}_{\\rm obs} - R \\vec{d}$ and the diagonal matrix $W^{1/2}$ to be the matrix with diagonal entries equal to $(\\mathbf{R}_{\\rm obs})_i^{-1/2}$ for $i = 1,\\ldots,49$ (number of directional bins).\n",
    "\n",
    "Define $\\tilde{\\mathbf{r}} \\equiv W^{1/2}\\mathbf{r}$. Then $q \\simeq \\sum_{i=1}^{\\text{Number of bins} = 49} \\frac{((\\mathbf{R}_{\\rm obs})_i - R_{ij}d_j)^2}{(\\mathbf{R}_{\\rm obs})_i}$ is given by $q = \\tilde{\\mathbf{r}}^T \\tilde{\\mathbf{r}}$. \n",
    "\n",
    "Minimizing $q$ corresponds to least-squares minimizing $|\\tilde{\\mathbf{R}}_{\\rm obs} - \\tilde{R} \\vec{d}|^2$, where we have defined $\\tilde{\\mathbf{R}}_{\\rm obs} = W^{1/2} \\mathbf{R}_{\\rm obs}$ and $\\tilde{R} = W^{1/2} R$.\n",
    "\n",
    "For that, we use the pseudo-inverse \n",
    "\\begin{equation} \\vec{d}_{\\star} = \\tilde{R}^+ \\tilde{\\mathbf{R}}_{\\rm obs} + (1 - \\tilde{R}^+ \\tilde{R})\\vec{\\alpha} \\end{equation}\n",
    "where $\\vec{\\alpha}$ are the flat directions."
   ]
  },
  {
   "cell_type": "code",
   "execution_count": 200,
   "metadata": {},
   "outputs": [],
   "source": [
    "def q_approx(d, R_obs, R): # only use when mu is very large, mu >> 100\n",
    "    r_tilde = np.matmul(W_half,R_obs - np.matmul(R,d))\n",
    "    return np.linalg.norm(r_tilde)**2\n",
    "\n",
    "def q_exact(d,R_obs,R):\n",
    "    return np.sum((R_obs - np.matmul(R,d))**2/(np.matmul(R,d)))"
   ]
  },
  {
   "cell_type": "code",
   "execution_count": 331,
   "metadata": {},
   "outputs": [
    {
     "name": "stdout",
     "output_type": "stream",
     "text": [
      "The matrix Sigma is [2.12111272e+01 5.21134125e-01 1.48859772e-01 1.00638733e-02\n",
      " 2.56593187e-03 6.75484666e-06]\n",
      "The value of q(d_star) (min of q_approx) is 7.648640556940676e-07\n"
     ]
    }
   ],
   "source": [
    "eps_noise = 10**(-4)                       #Fix noise to some value.\n",
    "noise = np.random.normal(0,eps_noise,192)\n",
    "#Compute noisy data.    \n",
    "R_obs_noise_mX_1 = R_obs_noiseless_dict[1] + noise\n",
    "R_obs_noise_mX_10 = R_obs_noiseless_dict[10] + noise\n",
    "R_obs_noise_mX_100 = R_obs_noiseless_dict[100] + noise\n",
    "\n",
    "#put in W_half language.\n",
    "W_half = np.diag(R_obs_noise_mX_100**(-1/2))\n",
    "tilde_R_obs_noise_mX_100 = np.matmul(W_half, R_obs_noise_mX_100)\n",
    "tilde_R_mX_100 = np.matmul(W_half, R_mX_100)\n",
    "\n",
    "#Solution to least-squares\n",
    "tilde_pseudo_inverse_mX_100 = pseudo_inv(tilde_R_mX_100)\n",
    "d_star_alpha_zero_mX_100 = np.dot(tilde_pseudo_inverse_mX_100,tilde_R_obs_noise_mX_100)\n",
    "\n",
    "#Replace in equation to find q. The minimum of q_approx gives a good starting to point to minimize q_exact (we do this later).\n",
    "q_dstar_mX_100 = q_approx(d_star_alpha_zero_mX_100, R_obs_noise_mX_100, R_mX_100)\n",
    "print(\"The value of q(d_star) (min of q_approx) is\", q_dstar_mX_100)\n"
   ]
  },
  {
   "cell_type": "markdown",
   "metadata": {},
   "source": [
    "## Let's find the p-sigma, which corresponds to q = constant contours, which are ellipsoid surfaces in d-dimensional space"
   ]
  },
  {
   "cell_type": "code",
   "execution_count": 386,
   "metadata": {},
   "outputs": [],
   "source": [
    "def secant(f,x0,x1,*args):\n",
    "    xnm2 = x0\n",
    "    xnm1 = x1\n",
    "    eps = 10**(-2) #tolerance\n",
    "    while np.abs(f(xnm1,*args)) > eps:   # np.abs(xnm1 - xnm2) > 0.01 condition for convergence\n",
    "        xn = xnm1 - f(xnm1,*args)*(xnm1 - xnm2)/(f(xnm1,*args) - f(xnm2,*args))\n",
    "        xnm2 = xnm1\n",
    "        xnm1 = xn\n",
    "    return xn\n",
    "# I tested this on a simple well-behaved function x**2 - 35 = 0. It works well to find the root x.\n",
    "\n",
    "\"\"\"\n",
    "#Dummy test function for secant.\n",
    "def f(x,*args):\n",
    "    #print(args)\n",
    "    if len(args) != 0:\n",
    "        l = args[0]\n",
    "        return x**2 - 35*l\n",
    "    else:\n",
    "        return x**2 - 35\n",
    "\"\"\""
   ]
  },
  {
   "cell_type": "markdown",
   "metadata": {},
   "source": [
    "## I need to find the root $q(\\vec{d}_\\star + \\lambda \\vec{v}_i)$ - constant = 0 where we define $Q(\\lambda) = q(\\vec{d}_\\star + \\lambda \\vec{v}_i)$ - constant. We need to find the root of $Q(\\lambda)$."
   ]
  },
  {
   "cell_type": "code",
   "execution_count": 388,
   "metadata": {},
   "outputs": [],
   "source": [
    "def Q(l, *args): # Q(lambda, args) args = (dstar, vi, constant)gs\n",
    "    dstar = args[0]\n",
    "    vi = args[1]\n",
    "    constant = args[2]\n",
    "\n",
    "    return q_exact(dstar+ l*vi, R_obs_noise_mX_100, R_mX_100) - constant"
   ]
  },
  {
   "cell_type": "code",
   "execution_count": 435,
   "metadata": {},
   "outputs": [],
   "source": [
    "#Given the sigma matrix, and the V matrix, the value of q = constant, it should be able to output dim(d) points on the ellipsoid.\n",
    "def q_contour_pts(constant): #right now, this is doing for mX = 100, with some noise in it.\n",
    "    u,sigma,v_transpose =  np.linalg.svd(tilde_R_mX_100, compute_uv=True, full_matrices=True)\n",
    "    v_mat = v_transpose.T\n",
    "\n",
    "    dstar = d_star_alpha_zero_mX_100\n",
    "    #v_mat[:,0]\n",
    "\n",
    "    \n",
    "\n",
    "    lambdas = np.array([])# this collects the lambdas for all v_i, so we have dim(d) of those.\n",
    "\n",
    "    for i in range(len(v_mat)):\n",
    "        l0 = 0.0 #starting points for secant method\n",
    "        l1 = 1/sigma[i]\n",
    "        \n",
    "        l_i = secant(Q,l0,l1,dstar,v_mat[:,i],constant)\n",
    "        #print(l_i)\n",
    "        lambdas = np.append(lambdas, l_i)\n",
    "\n",
    "    print(\"The inverse of the sigma singular values are\",1/sigma)\n",
    "    print(\"lambdas/ (1/sigma) are \",lambdas/(1/sigma))\n",
    "\n",
    "        # print(q_exact(dstar + l_i*v_mat[:,i], R_obs_noise_mX_100, R_mX_100)) this is a check that q = constant so solution is correct.\n",
    "    \n",
    "    return lambdas # returns the amount that we have to travel in each direction"
   ]
  },
  {
   "cell_type": "code",
   "execution_count": 436,
   "metadata": {},
   "outputs": [
    {
     "name": "stdout",
     "output_type": "stream",
     "text": [
      "The inverse of the sigma singular values are [4.71450664e-02 1.91889180e+00 6.71773162e+00 9.93653206e+01\n",
      " 3.89721960e+02 1.48041851e+05]\n",
      "lambdas/ (1/sigma) are  [2.23376458 2.34632037 2.4185828  2.34889596 2.27545438 2.31054424]\n"
     ]
    },
    {
     "data": {
      "text/plain": [
       "array([1.05310979e-01, 4.50233492e+00, 1.62473901e+01, 2.33398800e+02,\n",
       "       8.86794542e+02, 3.42057245e+05])"
      ]
     },
     "execution_count": 436,
     "metadata": {},
     "output_type": "execute_result"
    }
   ],
   "source": [
    "q_contour_pts(5.55)"
   ]
  },
  {
   "cell_type": "markdown",
   "metadata": {},
   "source": [
    "## This is what I need (the two sections above are superfluous) : Find ellipsoid semi-axes"
   ]
  },
  {
   "cell_type": "code",
   "execution_count": 732,
   "metadata": {},
   "outputs": [],
   "source": [
    "def q_contour_pts(constant):\n",
    "    u_tilde,sigma_tilde,v_tilde_transpose = np.linalg.svd(np.sqrt(constant)*tilde_pseudo_inverse_mX_100)\n",
    "\n",
    "    print(sigma_tilde)\n",
    "\n",
    "    d_semi_axes = np.zeros((len(sigma_tilde), len(u_tilde[0])))# semi-axes of ellipsoid corresponding to q_approx = constant in d-model space\n",
    "    #note that these are in d-space which is shifted and rotated from the ellipsoid center.\n",
    "    \n",
    "    for i in range(len(sigma_tilde)):\n",
    "        d_semi_axis = (np.dot(tilde_pseudo_inverse_mX_100, tilde_R_obs_noise_mX_100) + sigma_tilde[i]*u_tilde[:,i])\n",
    "        \n",
    "        d_semi_axes[i,:] = d_semi_axis\n",
    "        print(q_approx(d_semi_axis, R_obs_noise_mX_100, R_mX_100)) # check if q_approx = constant as required.\n",
    "\n",
    "    return d_semi_axes\n",
    "\n",
    "def eqn_of_ellipsoid(constant, numpoints): # returns points on ellipsoid in d-space for vectors d satisfying q(d) = constant\n",
    "    # numpoints is number of points to be returned\n",
    "    \n",
    "    u_tilde,sigma_tilde,v_tilde_transpose = np.linalg.svd(np.sqrt(constant)*tilde_pseudo_inverse_mX_100)\n",
    "    P = u_tilde\n",
    "    D = np.diag(1/(sigma_tilde**2))\n",
    "    D_half = np.sqrt(D)\n",
    "    \n",
    "    A_half = np.dot(np.dot(P,D_half),P.T)\n",
    "    v_vec = np.dot(tilde_pseudo_inverse_mX_100, tilde_R_obs_noise_mX_100)\n",
    "\n",
    "    \n",
    "    #Equation of ellipsoid\n",
    "    #Let's uniformly sample points at random on unit circle and map them to the ellipsoid using the equation of the ellipsoid.\n",
    "    # So I need to sample coordinates from 0 to 1.\n",
    "\n",
    "    dim_d = len(sigma_tilde)\n",
    "    \n",
    "    coordinates_d = np.random.uniform(0,1,(numpoints,dim_d))\n",
    "    norms = np.diag(1/np.sqrt(np.sum(coordinates_d**2,axis=1)))\n",
    "    coordinates_d = np.dot(norms,coordinates_d)\n",
    "    \n",
    "    #for i in range(len(coordinates_d)):\n",
    "    #    print(np.linalg.norm(coordinates_d[i])) # check if all coordinates have unit length\n",
    "\n",
    "    #print(coordinates_dminus1)\n",
    "    val = np.einsum('ij,kj-> ik',np.linalg.inv(A_half), coordinates_d).T + v_vec\n",
    "    #np.dot(np.linalg.inv(A_half), coordinates_d) + v_vec\n",
    "\n",
    "    #print(val)\n",
    "    \n",
    "    #coordinates = np.zeros((numpoints,dim_d)) # to store points on unit sphere S^n\n",
    "\n",
    "    for i in range(numpoints):\n",
    "        \n",
    "    #    val = np.dot(np.linalg.inv(A_half), coordinate_d) + v_vec\n",
    "        print(q_approx(val[i,:], R_obs_noise_mX_100, R_mX_100))  # a check that q is indeed q = constant.\n",
    "        \n",
    "    \n",
    "    #x1 = np.random.uniform(0,1,)\n",
    "    #e1 = np.dot(np.linalg.inv(A_half), np.array([0,1,0,0,0,0])) + v_vec\n",
    "\n",
    "    print(\"The first 2 coordinates on ellipsoid are\", val[:2,:])\n",
    "\n",
    "    #print(q_approx(np.array([0.5,0.2,0.1,0.9,0.1,0.25]), R_obs_noise_mX_100, R_mX_100))\n",
    "\n",
    "    return val\n",
    "    "
   ]
  },
  {
   "cell_type": "code",
   "execution_count": 733,
   "metadata": {},
   "outputs": [
    {
     "data": {
      "text/plain": [
       "array([[0.36128533, 0.75071839, 0.3282119 , 0.15424622, 0.58733332],\n",
       "       [0.01924948, 0.51977975, 0.95791312, 0.7170515 , 0.81966093]])"
      ]
     },
     "execution_count": 733,
     "metadata": {},
     "output_type": "execute_result"
    }
   ],
   "source": [
    "np.random.uniform(0,1,(2,5))"
   ]
  },
  {
   "cell_type": "code",
   "execution_count": 734,
   "metadata": {},
   "outputs": [
    {
     "name": "stdout",
     "output_type": "stream",
     "text": [
      "[7.09983774e+05 1.86904086e+03 4.76539337e+02 3.22171091e+01\n",
      " 9.20268179e+00 2.26099796e-01]\n",
      "23.000000763976164\n",
      "23.000000764865575\n",
      "23.000000764866417\n",
      "23.000000764826133\n",
      "23.000000764944623\n",
      "23.000000766745163\n"
     ]
    },
    {
     "data": {
      "text/plain": [
       "array([[-2.83579161e+05,  4.79598427e+05, -2.25612755e+05,\n",
       "         1.96272206e+05, -2.95871962e+05,  1.29195800e+05],\n",
       "       [ 2.81493797e+02, -6.46116691e+02,  7.39857828e+02,\n",
       "         3.57877913e+02, -1.37864011e+03,  6.48088827e+02],\n",
       "       [ 2.77484542e+02, -1.64457140e+01, -3.21154037e+02,\n",
       "        -8.86562419e+01, -4.05095175e+01,  1.91832924e+02],\n",
       "       [ 1.40459401e+00,  2.01817147e+01,  1.00085956e+01,\n",
       "        -2.36785267e+01, -8.38721959e+00,  3.03848268e+00],\n",
       "       [ 2.40964766e+00,  8.15505374e+00, -1.41948693e+00,\n",
       "         4.04178172e+00, -5.36483557e+00, -5.25786520e+00],\n",
       "       [-2.45737520e+00,  6.03426723e+00, -1.27913937e+00,\n",
       "         2.01537759e+00, -2.65671465e+00,  1.45740816e+00]])"
      ]
     },
     "execution_count": 734,
     "metadata": {},
     "output_type": "execute_result"
    }
   ],
   "source": [
    "q_contour_pts(23.0)"
   ]
  },
  {
   "cell_type": "code",
   "execution_count": 739,
   "metadata": {},
   "outputs": [
    {
     "name": "stdout",
     "output_type": "stream",
     "text": [
      "100.00000073094036\n",
      "100.00000080410221\n",
      "100.00000072766277\n",
      "100.0000007609404\n",
      "100.0000008110473\n",
      "100.0000007843438\n",
      "The first 2 coordinates on ellipsoid are [[ 146728.38389973 -248036.11553015  116647.03351539 -101490.11361854\n",
      "   152847.09889697  -66692.65881752]\n",
      " [-133953.57711951  226748.21864207 -106824.65434207   92751.87419823\n",
      "  -139871.8984619    61153.68341341]]\n"
     ]
    },
    {
     "data": {
      "text/plain": [
       "array([[ 146728.38389973, -248036.11553015,  116647.03351539,\n",
       "        -101490.11361854,  152847.09889697,  -66692.65881752],\n",
       "       [-133953.57711951,  226748.21864207, -106824.65434207,\n",
       "          92751.87419823, -139871.8984619 ,   61153.68341341],\n",
       "       [ 134634.48510155, -227700.10984253,  107206.45153237,\n",
       "         -92965.75682192,  139855.89344882,  -61027.35064042],\n",
       "       [ -52468.22918194,   88490.26809337,  -41502.76586688,\n",
       "          36120.07190415,  -54152.77484287,   23517.02457391],\n",
       "       [-106556.09806026,  180113.47443567,  -84747.82371002,\n",
       "          73581.99216238, -110640.05643299,   48252.1541303 ],\n",
       "       [ -35126.9607949 ,   59617.18796179,  -28110.84112141,\n",
       "          24535.11196561,  -37318.35331618,   16407.49920074]])"
      ]
     },
     "execution_count": 739,
     "metadata": {},
     "output_type": "execute_result"
    }
   ],
   "source": [
    "eqn_of_ellipsoid(100.0,6)"
   ]
  },
  {
   "cell_type": "code",
   "execution_count": 722,
   "metadata": {},
   "outputs": [
    {
     "data": {
      "text/plain": [
       "1.2249441988380687"
      ]
     },
     "execution_count": 722,
     "metadata": {},
     "output_type": "execute_result"
    }
   ],
   "source": [
    "np.sum(np.array([0.75547327, 0.68638774, 0.24336062, 0.0736968,  0.34412294])**2)"
   ]
  },
  {
   "cell_type": "code",
   "execution_count": 701,
   "metadata": {},
   "outputs": [
    {
     "name": "stdout",
     "output_type": "stream",
     "text": [
      "[[ 3  5  8]\n",
      " [12 14 18]]\n"
     ]
    },
    {
     "data": {
      "text/plain": [
       "array([[ 8, 11, 15],\n",
       "       [11, 13, 16]])"
      ]
     },
     "execution_count": 701,
     "metadata": {},
     "output_type": "execute_result"
    }
   ],
   "source": [
    "blablabla = np.diag(np.array([1,2]))\n",
    "blablabla = np.diag(np.array([1,2]))\n",
    "blatrial = np.array([[3,5,8],[6,7,9]])\n",
    "#np.dot(blablabla,blatrial)\n",
    "#print((blablabla*blatrial))\n",
    "print(np.dot(blablabla,blatrial))\n",
    "#np.einsum('i,kj-> ijk',blablabla, blatrial)\n",
    "blatrial+np.array([5,6,7])"
   ]
  },
  {
   "cell_type": "code",
   "execution_count": 526,
   "metadata": {},
   "outputs": [
    {
     "data": {
      "text/plain": [
       "array([[1, 0],\n",
       "       [0, 2]])"
      ]
     },
     "execution_count": 526,
     "metadata": {},
     "output_type": "execute_result"
    }
   ],
   "source": [
    "blablabla = np.diag(np.array([1,2]))\n",
    "blablabla"
   ]
  },
  {
   "cell_type": "code",
   "execution_count": 229,
   "metadata": {},
   "outputs": [
    {
     "data": {
      "text/plain": [
       "7.000061278877138e-07"
      ]
     },
     "execution_count": 229,
     "metadata": {},
     "output_type": "execute_result"
    }
   ],
   "source": [
    "q_exact(d_star_alpha_zero_mX_100, R_obs_noise_mX_100, R_mX_100) # no idea why this value seems so close, when R_obs ~ 2."
   ]
  },
  {
   "cell_type": "code",
   "execution_count": 230,
   "metadata": {},
   "outputs": [
    {
     "data": {
      "text/plain": [
       "7.154002669058367e-07"
      ]
     },
     "execution_count": 230,
     "metadata": {},
     "output_type": "execute_result"
    }
   ],
   "source": [
    "q_exact(np.array([0.2, 1.3, 0.8, 0.01, 0.15, 0.1]), R_obs_noise_mX_100, R_mX_100)"
   ]
  },
  {
   "cell_type": "code",
   "execution_count": 231,
   "metadata": {},
   "outputs": [
    {
     "name": "stdout",
     "output_type": "stream",
     "text": [
      "[-2.67138484  6.15277629 -1.48046497  1.99718824 -2.84432527  1.40622021]\n"
     ]
    }
   ],
   "source": [
    "print(d_star_alpha_zero_mX_100)"
   ]
  },
  {
   "cell_type": "code",
   "execution_count": 228,
   "metadata": {},
   "outputs": [
    {
     "data": {
      "text/plain": [
       "21.222130455621212"
      ]
     },
     "execution_count": 228,
     "metadata": {},
     "output_type": "execute_result"
    }
   ],
   "source": [
    "## Check if |R_tilde_obs - R_tilde*(d_star + v_i)|^2 sends us to exactly one sigma in q from best-fit d_star? It does not.\n",
    "u,sigma,v_transpose =  np.linalg.svd(R_mX_100, compute_uv=True, full_matrices=True)\n",
    "v_mat = v_transpose.T\n",
    "\n",
    "d_new = d_star_alpha_zero_mX_100 + v_mat[:,0]/(np.sqrt(2.12e1))\n",
    "q_approx(d_new, R_obs_noise_mX_100, R_mX_100)"
   ]
  },
  {
   "cell_type": "code",
   "execution_count": 213,
   "metadata": {},
   "outputs": [
    {
     "data": {
      "text/plain": [
       "array([-0.40796469, -0.40821453, -0.40833361, -0.40791832, -0.40837242,\n",
       "       -0.40868567])"
      ]
     },
     "execution_count": 213,
     "metadata": {},
     "output_type": "execute_result"
    }
   ],
   "source": [
    "v_mat[:,0]"
   ]
  },
  {
   "cell_type": "code",
   "execution_count": 222,
   "metadata": {},
   "outputs": [
    {
     "data": {
      "text/plain": [
       "array([3.39699956e+01, 8.22688673e-01, 2.42035737e-01, 1.61447713e-02,\n",
       "       4.02741622e-03, 1.09178049e-05])"
      ]
     },
     "execution_count": 222,
     "metadata": {},
     "output_type": "execute_result"
    }
   ],
   "source": [
    "sigma"
   ]
  },
  {
   "cell_type": "markdown",
   "metadata": {},
   "source": [
    "## Try some useless stuff."
   ]
  },
  {
   "cell_type": "code",
   "execution_count": 142,
   "metadata": {},
   "outputs": [
    {
     "data": {
      "text/plain": [
       "array([[ 2361.33230511,  2361.33229924,  2361.3322992 , ...,\n",
       "         2361.33229937,  2361.33229937,  2361.3322995 ],\n",
       "       [-4002.53598385, -4002.53597393, -4002.53597385, ...,\n",
       "        -4002.53597413, -4002.53597413, -4002.53597436],\n",
       "       [ 1891.2276089 ,  1891.22760423,  1891.22760419, ...,\n",
       "         1891.22760433,  1891.22760433,  1891.22760444],\n",
       "       [-1634.89358896, -1634.8935849 , -1634.89358487, ...,\n",
       "        -1634.89358498, -1634.89358498, -1634.89358508],\n",
       "       [ 2464.14864749,  2464.14864137,  2464.14864132, ...,\n",
       "         2464.1486415 ,  2464.1486415 ,  2464.14864164],\n",
       "       [-1079.27349907, -1079.27349639, -1079.27349637, ...,\n",
       "        -1079.27349645, -1079.27349645, -1079.27349651]])"
      ]
     },
     "execution_count": 142,
     "metadata": {},
     "output_type": "execute_result"
    }
   ],
   "source": [
    "pseudo_inverse"
   ]
  },
  {
   "cell_type": "code",
   "execution_count": 111,
   "metadata": {},
   "outputs": [
    {
     "data": {
      "text/plain": [
       "array([ 1576.00544234, -2666.23465395,  1257.91773812, -1090.96347278,\n",
       "        1644.84610393,  -719.01295044])"
      ]
     },
     "execution_count": 111,
     "metadata": {},
     "output_type": "execute_result"
    }
   ],
   "source": [
    "np.dot(pseudo_inverse,R_obs)"
   ]
  },
  {
   "cell_type": "code",
   "execution_count": 109,
   "metadata": {},
   "outputs": [
    {
     "data": {
      "text/plain": [
       "(array([[-4.44089210e-16,  1.33226763e-15, -8.88178420e-16],\n",
       "        [-1.77635684e-15,  0.00000000e+00, -3.55271368e-15],\n",
       "        [ 1.77635684e-15,  1.77635684e-15, -3.55271368e-15],\n",
       "        [ 8.88178420e-16, -8.88178420e-16, -8.88178420e-16]]),\n",
       " array([[-3.05311332e-16, -4.71844785e-16,  2.49800181e-16,\n",
       "          2.77555756e-16],\n",
       "        [ 7.21644966e-16,  9.43689571e-16, -5.55111512e-16,\n",
       "         -6.10622664e-16],\n",
       "        [-7.21644966e-16, -1.11022302e-15,  5.55111512e-16,\n",
       "          7.21644966e-16]]),\n",
       " array([[ 0.00000000e+00,  1.33226763e-15, -2.10942375e-15,\n",
       "         -1.66533454e-16],\n",
       "        [-1.33226763e-15,  0.00000000e+00, -2.66453526e-15,\n",
       "         -6.66133815e-16],\n",
       "        [ 2.10942375e-15,  2.66453526e-15,  0.00000000e+00,\n",
       "         -8.88178420e-16],\n",
       "        [ 1.66533454e-16,  6.66133815e-16,  8.88178420e-16,\n",
       "          0.00000000e+00]]),\n",
       " array([[ 0.00000000e+00, -9.99200722e-16, -4.99600361e-16],\n",
       "        [ 9.99200722e-16,  0.00000000e+00,  1.99840144e-15],\n",
       "        [ 4.99600361e-16, -1.99840144e-15,  0.00000000e+00]]))"
      ]
     },
     "execution_count": 109,
     "metadata": {},
     "output_type": "execute_result"
    }
   ],
   "source": [
    "blabla = np.array([[1,2,3],[4,5,6],[12,9,6],[-3,5,7]])\n",
    "Moore_Penrose(blabla,pseudo_inv(blabla))"
   ]
  },
  {
   "cell_type": "code",
   "execution_count": null,
   "metadata": {},
   "outputs": [],
   "source": [
    "blabla = np.array([[1,2,3],[4,5,6],[7,8,9]])\n",
    "d_blabla = np.array([1,2,3])\n",
    "\n",
    "#np.matmul(d_blabla, blabla.T)\n",
    "np.matmul(blabla, d_blabla)"
   ]
  },
  {
   "cell_type": "code",
   "execution_count": null,
   "metadata": {},
   "outputs": [],
   "source": [
    "rate_mat(100)"
   ]
  },
  {
   "cell_type": "code",
   "execution_count": null,
   "metadata": {},
   "outputs": [],
   "source": [
    "print(rates_norm[(100,(0,1))][:5])\n",
    "print(rates_norm[(100,(0,0))][:5])\n",
    "blabla = np.zeros((5,2))\n",
    "blabla[:,0] = rates_norm[(100,(0,1))][:5]\n",
    "blabla[:,1] = rates_norm[(100,(0,0))][:5]\n",
    "print(blabla)"
   ]
  },
  {
   "cell_type": "code",
   "execution_count": 189,
   "metadata": {},
   "outputs": [
    {
     "data": {
      "text/plain": [
       "14.0"
      ]
     },
     "execution_count": 189,
     "metadata": {},
     "output_type": "execute_result"
    }
   ],
   "source": [
    "np.linalg.norm(np.array([1,2,3]))**2"
   ]
  },
  {
   "cell_type": "code",
   "execution_count": null,
   "metadata": {},
   "outputs": [],
   "source": []
  }
 ],
 "metadata": {
  "kernelspec": {
   "display_name": "Python 3 (ipykernel)",
   "language": "python",
   "name": "python3"
  },
  "language_info": {
   "codemirror_mode": {
    "name": "ipython",
    "version": 3
   },
   "file_extension": ".py",
   "mimetype": "text/x-python",
   "name": "python",
   "nbconvert_exporter": "python",
   "pygments_lexer": "ipython3",
   "version": "3.9.20"
  }
 },
 "nbformat": 4,
 "nbformat_minor": 4
}
