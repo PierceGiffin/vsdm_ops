{
 "cells": [
  {
   "cell_type": "code",
   "execution_count": 1,
   "id": "fca1728d",
   "metadata": {},
   "outputs": [
    {
     "data": {
      "text/plain": [
       "'0.3.4'"
      ]
     },
     "execution_count": 1,
     "metadata": {},
     "output_type": "execute_result"
    }
   ],
   "source": [
    "import vsdm\n",
    "\n",
    "vsdm.__version__ "
   ]
  }
 ],
 "metadata": {
  "kernelspec": {
   "display_name": "vsdm",
   "language": "python",
   "name": "python3"
  },
  "language_info": {
   "codemirror_mode": {
    "name": "ipython",
    "version": 3
   },
   "file_extension": ".py",
   "mimetype": "text/x-python",
   "name": "python",
   "nbconvert_exporter": "python",
   "pygments_lexer": "ipython3",
   "version": "3.9.20"
  }
 },
 "nbformat": 4,
 "nbformat_minor": 5
}
