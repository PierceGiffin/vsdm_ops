{
 "cells": [
  {
   "cell_type": "code",
   "execution_count": null,
   "id": "fca1728d",
   "metadata": {},
   "outputs": [],
   "source": [
    "print(\"Howdy\")"
   ]
  }
 ],
 "metadata": {
  "kernelspec": {
   "display_name": "Python 3",
   "language": "python",
   "name": "python3"
  },
  "language_info": {
   "name": "python",
   "version": "3.9.13"
  }
 },
 "nbformat": 4,
 "nbformat_minor": 5
}
