{
 "cells": [
  {
   "cell_type": "code",
   "execution_count": 2,
   "id": "07296c3d",
   "metadata": {},
   "outputs": [
    {
     "name": "stdout",
     "output_type": "stream",
     "text": [
      "testing 'spherical' and WignerG: PASS\n",
      "vsdm 0.4.0\n"
     ]
    }
   ],
   "source": [
    "import math\n",
    "import numpy as np\n",
    "import numba\n",
    "import scipy.special as spf\n",
    "import vegas # numeric integration\n",
    "import gvar # gaussian variables; for vegas\n",
    "import time\n",
    "import quaternionic # For rotations\n",
    "import spherical #For Wigner D matrix\n",
    "# import csv # file IO for projectFnlm\n",
    "# import os.path\n",
    "import h5py # database format for mathcalI arrays\n",
    "import importlib\n",
    "import sys\n",
    "import matplotlib.pyplot as plt\n",
    "import matplotlib.colors as clr\n",
    "plt.rc('text', usetex=True)\n",
    "\n",
    "# sys.path.insert(0,'../') #load the local version of vsdm\n",
    "\n",
    "import vsdm\n",
    "from vsdm.units import *\n",
    "from vsdm.utilities import *\n",
    "from vsdm import McalK\n",
    "\n",
    "diffM, diffV = vsdm.testG_lm(5, -3, printout=False)\n",
    "if np.abs(diffV) < 1e-14:\n",
    "    print(\"testing 'spherical' and WignerG: PASS\")\n",
    "else:\n",
    "    print(\"testing 'spherical' and WignerG: FAIL\")\n",
    "    print(\"check the version number for 'spherical', and run testD_lm()\")\n",
    "print(\"vsdm\", vsdm.__version__)"
   ]
  },
  {
   "cell_type": "code",
   "execution_count": 3,
   "id": "db3fbeb2",
   "metadata": {},
   "outputs": [],
   "source": [
    "#pip install quaternionic\n",
    "#pip install spherical"
   ]
  },
  {
   "cell_type": "code",
   "execution_count": 4,
   "id": "975872f6",
   "metadata": {},
   "outputs": [],
   "source": [
    "@numba.jit(\"double(int64,double)\", nopython=True)\n",
    "def fj2(nj, qLj):\n",
    "    if qLj==0:\n",
    "        if nj==1:\n",
    "            return 1\n",
    "        else:\n",
    "            return 0\n",
    "    qlp = np.abs(qLj)/np.pi\n",
    "    # mathsinc(x) = np.sinc(x/pi)\n",
    "    s_minus = np.sinc(0.5*(qlp - nj + 1))/(1 + (nj-1)/qlp)\n",
    "    s_plus = np.sinc(0.5*(qlp - nj - 1))/(1 + (nj+1)/qlp)\n",
    "    return (s_minus + s_plus)**2\n",
    "\n",
    "# Long thin box limit: assuming that Lz > Lx,Ly,\n",
    "# so the lowest excited states are nz=2, nz=3, with nx=ny=1.\n",
    "\n",
    "@numba.jit(\"double(double[:],int64,double[:])\", nopython=True)\n",
    "def fs2_nz(Lvec, nz, q_xyz):\n",
    "    # q: the DM particle velocity (cartesian, lab frame)\n",
    "    # L: the dimensions of the box\n",
    "    # nz = 2, 3, 4... The final state. (n=1 defined as ground state)\n",
    "    # fs2 is dimensionless\n",
    "    # note: np.sinc(x/pi) = sin(x) / (x). Included in defs. of qL below\n",
    "    [Lx, Ly, Lz] = Lvec\n",
    "    [qx, qy, qz] = q_xyz\n",
    "    qLx = Lx*qx\n",
    "    qLy = Ly*qy\n",
    "    qLz = Lz*qz\n",
    "#     qL = qLx + qLy + qLz\n",
    "    fx2 = fj2(1, qLx)\n",
    "    fy2 = fj2(1, qLy)\n",
    "    fz2 = fj2(nz, qLz)\n",
    "    return fx2*fy2*fz2\n",
    "\n",
    "@numba.jit(\"double(double[:],int64[:],double[:])\", nopython=True)\n",
    "def fs2_nxyz(Lvec, n_xyz, q_xyz):\n",
    "    # q: the DM particle velocity (cartesian, lab frame)\n",
    "    # L: the dimensions of the box\n",
    "    # nz = 2, 3, 4... The final state. (n=1 defined as ground state)\n",
    "    # fs2 is dimensionless\n",
    "    # note: np.sinc(x/pi) = sin(x) / (x). Included in defs. of qL below\n",
    "    [Lx, Ly, Lz] = Lvec\n",
    "    [qx, qy, qz] = q_xyz\n",
    "    [nx, ny, nz] = n_xyz\n",
    "    qLx = Lx*qx\n",
    "    qLy = Ly*qy\n",
    "    qLz = Lz*qz\n",
    "    fx2 = fj2(nx, qLx)\n",
    "    fy2 = fj2(ny, qLy)\n",
    "    fz2 = fj2(nz, qLz)\n",
    "    return fx2*fy2*fz2\n",
    "\n",
    "\n",
    "# Cartesian version of fs2:\n",
    "@numba.jit(\"double(double[:])\", nopython=True)\n",
    "def fs2_model4_cart(q_xyz):\n",
    "    return fs2_nz(np.array([4/qBohr, 7/qBohr, 10/qBohr]), 2, q_xyz)\n",
    "\n",
    "\n",
    "### Defining the function fs2(qSph) that ProjectFnlm will use as the input.\n",
    "#   The function is decorated with symmetry identifiers (phi_even, phi_cyclic, etc)\n",
    "#   This function is not a GaussianF instance, a sum of gaussians (is_gaussian==False) \n",
    "\n",
    "QMAX = 10*qBohr # Global value for q0=qMax for wavelets\n",
    "Qdict = dict(u0=QMAX, type='wavelet', uMax=QMAX)\n",
    "\n",
    "VMAX = 960.*km_s # Global value for v0=vMax for wavelets\n",
    "Vdict = dict(u0=VMAX, type='wavelet', uMax=VMAX)\n",
    "\n",
    "\n",
    "# @numba.jit(\"double(double[:])\", nopython=True)\n",
    "def fs2_model4(qSph):\n",
    "    [q, theta, phi] = qSph\n",
    "    qx = q*math.sin(theta) * math.cos(phi)\n",
    "    qy = q*math.sin(theta) * math.sin(phi)\n",
    "    qz = q*math.cos(theta)\n",
    "    q_xyz = np.array([qx, qy, qz])\n",
    "    Lvec = np.array([4/qBohr, 7/qBohr, 10/qBohr])\n",
    "    return fs2_nz(Lvec, 2, q_xyz)\n",
    "fs2_model4.is_gaussian = False\n",
    "fs2_model4.z_even = True\n",
    "fs2_model4.phi_even = True\n",
    "fs2_model4.phi_cyclic = 2\n",
    "fs2_model4.center_Z2 = True\n",
    "fs2_model4.DeltaE = 4.03*eV\n"
   ]
  },
  {
   "cell_type": "code",
   "execution_count": 5,
   "id": "f7c7902c",
   "metadata": {},
   "outputs": [
    {
     "name": "stdout",
     "output_type": "stream",
     "text": [
      "{'u0': 37289.47137978341, 'type': 'wavelet', 'uMax': 37289.47137978341}\n",
      "t_eval: 0.30103516578674316\n",
      "nCoeffs = 114688\n",
      "DeltaE [eV]: 4.03\n",
      "gX: ellMax = 32     nCoeffs_v =  33928     nMax = 7007\n"
     ]
    }
   ],
   "source": [
    "\"\"\"Read in gX and fs2 from CSV files.\"\"\"\n",
    "\n",
    "### MOMENTUM DISTRIBUTION EXAMPLE\n",
    "QMAX = 10*qBohr # Global value for q0=qMax for wavelets\n",
    "\n",
    "Qdict = dict(u0=QMAX, type='wavelet', uMax=QMAX)\n",
    "\n",
    "# # Read Fnlm from saved csv file...\n",
    "fs2_csv = 'demo_fs2'\n",
    "fs2 = vsdm.Fnlm(Qdict, f_type='fs2', use_gvar=False)\n",
    "fs2.center_Z2 = True\n",
    "fs2.importFnlm_csv('tools/demo/'+fs2_csv+'.csv')\n",
    "print(fs2.basis)\n",
    "print('t_eval:', fs2.t_eval)\n",
    "print('nCoeffs = {}'.format(len(fs2.f_nlm.keys())))\n",
    "print('DeltaE [eV]:', fs2_model4.DeltaE/eV)\n",
    "\n",
    "\n",
    "### VELOCITY : USE SHM\n",
    "### VELOCITY DISTRIBUTION EXAMPLE: SHM \n",
    "\n",
    "VMAX = 820.*km_s # Global value for v0=vMax for wavelets\n",
    "Vbasis = dict(u0=VMAX, type='wavelet', uMax=VMAX)\n",
    "\n",
    "\"\"\"Read from HDF5\"\"\"\n",
    "gX_csv = 'SHM_v250'\n",
    "gX = vsdm.Fnlm(Vbasis, f_type='gX', use_gvar=False)\n",
    "gX.importFnlm_csv(''+gX_csv+'.csv')\n",
    "print('gX: ellMax = {}     nCoeffs_v =  {}     nMax = {}'.format(gX.ellMax, \n",
    "    len(gX.f_nlm.keys()), gX.nMax))\n",
    "\n",
    "#fs2['gX'] = gX # for convenience, in convergence testing  (Not sure why we need this. maybe later)"
   ]
  },
  {
   "cell_type": "code",
   "execution_count": 6,
   "id": "f1eb38af",
   "metadata": {},
   "outputs": [
    {
     "name": "stdout",
     "output_type": "stream",
     "text": [
      "energy (4.03) 0.00035193106325939673\n",
      "\t(4, 0, 0)  \t0.381174  \t0.3811735551851416\n",
      "\t(2, 0, 0)  \t0.148552  \t0.5297255902336228\n",
      "\t(4, 2, 0)  \t0.138989  \t0.6687141649805702\n",
      "\t(4, 4, 0)  \t0.0298536  \t0.6985677499200974\n",
      "Now we do the l power.\n",
      "\n",
      "\t0  \t0.642452  \t0.642452056196576\n",
      "\t2  \t0.245403  \t0.8878546579982874\n",
      "\t4  \t0.0840763  \t0.9719309491323467\n",
      "\t6  \t0.0224962  \t0.9944271655591096\n",
      "\t8  \t0.00473808  \t0.9991652484962439\n",
      "\t10  \t0.000746061  \t0.9999113095269161\n",
      "\t12  \t8.29472E-05  \t0.9999942566992893\n",
      "\t14  \t5.50427E-06  \t0.9999997609737111\n",
      "\t16  \t1.52271E-07  \t0.9999999132448706\n",
      "\t18  \t4.61979E-08  \t0.9999999594427517\n",
      "\t20  \t2.48034E-08  \t0.9999999842461917\n",
      "\t22  \t9.73675E-09  \t0.9999999939829457\n",
      "\t24  \t4.11004E-09  \t0.9999999980929841\n",
      "\t26  \t1.40724E-09  \t0.9999999995002259\n",
      "\t28  \t3.87034E-10  \t0.9999999998872597\n",
      "\t30  \t1.13087E-10  \t1.0000000000003466\n"
     ]
    }
   ],
   "source": [
    "# Sorted\n",
    "sume = {}\n",
    "conv = {}\n",
    "norm_fs2 = {}\n",
    "\n",
    "\n",
    "norm_fs2 = fs2.f2nlm_norm()\n",
    "print('energy ({})'.format(4.03), norm_fs2)   # What does this do?\n",
    "\n",
    "sume = 0.\n",
    "conv = []\n",
    "# print('{}  \\t{}  \\t{}'.format('n,l,m', '\\tf**2', '\\tsum(f**2)'))\n",
    "counter = 0  # just a stopper for the loop to avoid printing too much..\n",
    "for key,value in fs2.getNLMpower().items():\n",
    "    power = value/norm_fs2\n",
    "    sume += power\n",
    "    conv += [sume]\n",
    "    counter=counter+1\n",
    "    if counter <5:\n",
    "        print('\\t{}  \\t{:.6G}  \\t{}'.format(key, power, sume))\n",
    "\n",
    "#print(\"The value of conv is\",conv)   # Note that this gives the cumulative sum #Uncomment to view.\n",
    "\n",
    "print(\"Now we do the l power.\\n\")\n",
    "\n",
    "\n",
    "\n",
    "##########################\n",
    "\n",
    "powerL = {}\n",
    "sum_l = {}\n",
    "conv_l = {}\n",
    "p_l = {}\n",
    "\n",
    "\n",
    "powerL = fs2.getLpower()\n",
    "sum_l = 0.\n",
    "conv_l = []\n",
    "p_l = []\n",
    "#print('{}:'.format(sI))\n",
    "for key,power in powerL.items():\n",
    "    power /= norm_fs2\n",
    "    sum_l += power\n",
    "    p_l += [[key, power]]\n",
    "    conv_l += [sum_l]\n",
    "    print('\\t{}  \\t{:.6G}  \\t{}'.format(key, power, sum_l))\n",
    "\n",
    "p_l = np.array(p_l)\n"
   ]
  },
  {
   "cell_type": "code",
   "execution_count": 7,
   "id": "6e630f7e",
   "metadata": {},
   "outputs": [
    {
     "data": {
      "text/plain": [
       "<matplotlib.legend.Legend at 0x18d3ff3d0>"
      ]
     },
     "execution_count": 7,
     "metadata": {},
     "output_type": "execute_result"
    },
    {
     "data": {
      "image/png": "[encoded data removed]",
      "text/plain": [
       "<Figure size 390x300 with 2 Axes>"
      ]
     },
     "metadata": {},
     "output_type": "display_data"
    }
   ],
   "source": [
    "unisize = 3\n",
    "fig = plt.figure(figsize=[1.3*unisize,unisize])\n",
    "labels = 13\n",
    "largelabels = 14\n",
    "ax = fig.add_axes([0,0,1,1], xscale='linear', yscale='log')\n",
    "\n",
    "\n",
    "ax.plot([l for l in powerL.keys()], 1-np.array(conv_l), \n",
    "        marker='.', label=\"our chosen energy\")\n",
    "\n",
    "ax.set_xlim([-1, 37])\n",
    "ax.set_xticks([4*j for j in range(10)])\n",
    "ax.set_ylim([1e-6, 1])\n",
    "ax.set_xlabel(r'$\\ell$', fontsize=largelabels, usetex=True)\n",
    "# ax.set_ylabel(r'$\\Delta\\mathcal{E} / \\mathcal{E}$', fontsize=largelabels, usetex=True)\n",
    "ax.tick_params(axis='both', labelsize=labels, direction='inout',\n",
    "               right=True, top=True, labelleft=True, labelright=False,\n",
    "               labelbottom=True, labeltop=False)\n",
    "ax.legend(loc='upper right', fontsize=largelabels)\n",
    "\n",
    "ax2 = fig.add_axes([1.25,0,1,1], xscale='log', yscale='log')\n",
    "\n",
    "ax2.plot([i+1 for i in range(len(conv))], 1-np.array(conv), \n",
    "         label=\"our energy\")  #Recall conv counts the NLM power.\n",
    "\n",
    "ax2.set_xlim([1, 2e5])\n",
    "ax2.set_ylim([1e-6, 1])\n",
    "ax2.set_xlabel(r'$N_{\\rm coeffs}$', fontsize=largelabels, usetex=True)\n",
    "ax2.set_ylabel(r'$\\Delta\\mathcal{E} / \\mathcal{E}$', fontsize=largelabels, usetex=True)\n",
    "ax2.tick_params(axis='both', labelsize=labels, direction='inout',\n",
    "                right=True, top=True, labelleft=True, labelright=False,\n",
    "                labelbottom=True, labeltop=False)\n",
    "ax2.legend(loc='upper right', fontsize=largelabels)\n",
    "\n",
    "#fig.show()"
   ]
  },
  {
   "cell_type": "code",
   "execution_count": 8,
   "id": "25269e04",
   "metadata": {},
   "outputs": [],
   "source": [
    "## N_{coeffs} counts all tuples of (n,l,m)"
   ]
  },
  {
   "cell_type": "code",
   "execution_count": 9,
   "id": "a90dd95e",
   "metadata": {},
   "outputs": [
    {
     "name": "stdout",
     "output_type": "stream",
     "text": [
      "Our energy:\n",
      "\t(0, 0)  \t0.642452  \t0.642452056196576\n",
      "\t(2, 0)  \t0.197568  \t0.8400197397592503\n",
      "\t(4, 0)  \t0.0689423  \t0.908962056732362\n",
      "\t(2, 2)  \t0.0478349  \t0.9567969749713998\n",
      "\t(4, 2)  \t0.0130654  \t0.9698624097626342\n",
      "\t(6, 0)  \t0.0117365  \t0.9815988952651789\n"
     ]
    }
   ],
   "source": [
    "powerLM = {}\n",
    "sortlm = {}\n",
    "sum_lm = {}\n",
    "conv_lm = {}\n",
    "p_nlm = {}\n",
    "p_lm_n = {}\n",
    "sump_lm_n = {}\n",
    "\n",
    "\n",
    "\n",
    "powerLM = fs2.getLMpower()\n",
    "sortlm = sorted(powerLM.items(), key=lambda z: z[1], reverse=True) # sorts the dictionary in descending order in values.\n",
    "\n",
    "sum_lm = 0.\n",
    "conv_lm = []\n",
    "i = 0\n",
    "print('{}:'.format(\"Our energy\"))\n",
    "for entry in sortlm:\n",
    "    key, power = entry\n",
    "    powerLM[key] = power\n",
    "    power /= norm_fs2\n",
    "    sum_lm += power\n",
    "    conv_lm += [sum_lm]\n",
    "    if i < 6:\n",
    "        print('\\t{}  \\t{:.6G}  \\t{}'.format(key, power, sum_lm))\n",
    "    i += 1\n",
    "\n",
    "p_nlm = fs2.getNLMpower(lMax=24)\n",
    "p_lm_n = {}\n",
    "sump_lm_n = {}\n",
    "n_coeffs_n = 2**10\n",
    "for lmP in sortlm[0:9]:\n",
    "    (lm,P) = lmP\n",
    "    plm = P\n",
    "    p_lm_n[lm] = [p_nlm[(n, lm[0], lm[1])]/plm for n in range(n_coeffs_n)]  #very important. defines P_{lm}(n)\n",
    "    sump = 0.0\n",
    "    sump_lm_n[lm] = np.zeros(n_coeffs_n)\n",
    "    for n in range(n_coeffs_n):\n",
    "        sump += p_lm_n[lm][n]\n",
    "        sump_lm_n[lm][n] = sump"
   ]
  },
  {
   "cell_type": "code",
   "execution_count": 10,
   "id": "ac175404",
   "metadata": {},
   "outputs": [],
   "source": [
    "### Do the same for gX. Look at P_{nlm}\n",
    "powerLM_gX = gX.getLMpower()\n",
    "sortlm_gX = sorted(powerLM_gX.items(), key=lambda z: z[1], reverse=True) # sorts the dictionary in descending order in values.\n",
    "\n",
    "\n",
    "\n",
    "p_nlm_gX = gX.getNLMpower(lMax=24)\n",
    "p_lm_n_gX = {}\n",
    "sump_lm_n_gX = {}\n",
    "n_coeffs_n = 2**10\n",
    "for lmP in sortlm_gX[0:9]:\n",
    "    (lm_gX,P_gX) = lmP\n",
    "    plm_gX = P_gX\n",
    "    p_lm_n_gX[lm_gX] = [p_nlm_gX[(n, lm_gX[0], lm_gX[1])]/plm_gX for n in range(n_coeffs_n)]  #very important. defines P_{lm}(n)\n",
    "    sump_gX = 0.0\n",
    "    sump_lm_n_gX[lm_gX] = np.zeros(n_coeffs_n)\n",
    "    for n in range(n_coeffs_n):\n",
    "        sump_gX += p_lm_n_gX[lm_gX][n]\n",
    "        sump_lm_n_gX[lm_gX][n] = sump_gX"
   ]
  },
  {
   "cell_type": "code",
   "execution_count": 11,
   "id": "c8ec01b8",
   "metadata": {},
   "outputs": [
    {
     "data": {
      "text/plain": [
       "0.05819103810497862"
      ]
     },
     "execution_count": 11,
     "metadata": {},
     "output_type": "execute_result"
    }
   ],
   "source": [
    "p_nlm_gX[(2, 0, 0)]"
   ]
  },
  {
   "cell_type": "code",
   "execution_count": 12,
   "id": "c28fddc3",
   "metadata": {},
   "outputs": [
    {
     "data": {
      "text/plain": [
       "[((1, 0), 1.1093168234041522),\n",
       " ((0, 0), 1.07415665077766),\n",
       " ((2, 0), 0.3935080184609255),\n",
       " ((3, 0), 0.08469739070627144),\n",
       " ((4, 0), 0.013188848541232517),\n",
       " ((5, 0), 0.001629955809172459),\n",
       " ((6, 0), 0.0001757008607895696),\n",
       " ((7, 0), 2.393874493470837e-05),\n",
       " ((8, 0), 9.149127842549999e-06)]"
      ]
     },
     "execution_count": 12,
     "metadata": {},
     "output_type": "execute_result"
    }
   ],
   "source": [
    "sortlm_gX[0:9]"
   ]
  },
  {
   "cell_type": "code",
   "execution_count": 13,
   "id": "d8904b37",
   "metadata": {},
   "outputs": [],
   "source": [
    "#As I understand it, n is not restricted by lm values. So we just choose 2**10, and find P_{lm}(n) for each of\n",
    "# those coefficients. We could have gone higher if we wanted to."
   ]
  },
  {
   "cell_type": "code",
   "execution_count": 14,
   "id": "989a1494",
   "metadata": {},
   "outputs": [
    {
     "data": {
      "text/plain": [
       "Text(0.97, 0.97, '$(0, 0)$')"
      ]
     },
     "execution_count": 14,
     "metadata": {},
     "output_type": "execute_result"
    },
    {
     "data": {
      "image/png": "[encoded data removed]",
      "text/plain": [
       "<Figure size 260x260 with 3 Axes>"
      ]
     },
     "metadata": {},
     "output_type": "display_data"
    }
   ],
   "source": [
    "unisize = 2.6\n",
    "fig = plt.figure(figsize=[1.*unisize,unisize])\n",
    "labels = 13\n",
    "fonts = 14\n",
    "\n",
    "largelabels = 14\n",
    "nsize = 2**10\n",
    "ax = fig.add_axes([0,0,1,1], xscale='linear', yscale='log')\n",
    "# for sI in fs2.keys():\n",
    "#     ax.plot([l for l in powerL[sI].keys()], 1-np.array(conv_l[sI]), \n",
    "#             marker='.',label=sI)\n",
    "\n",
    "ax.plot(p_l[:,0],p_l[:,1], \n",
    "        marker='.', label=\"our energy\")\n",
    "\n",
    "ax.set_xlim([-1, 37])\n",
    "ax.set_xticks([4*j for j in range(10)])\n",
    "ax.set_ylim([1e-7, 1])\n",
    "ax.set_xlabel(r'$\\ell$', fontsize=largelabels, usetex=True)\n",
    "ax.set_ylabel(r'$\\mathcal P_\\ell$', fontsize=largelabels, usetex=True)\n",
    "ax.tick_params(axis='both', labelsize=labels, direction='inout',\n",
    "               right=True, top=True, labelleft=True, labelright=False,\n",
    "               labelbottom=True, labeltop=False)\n",
    "ax.legend(loc='upper right', fontsize=largelabels)\n",
    "# ax.text(0.96, 0.04, r'$\\vec{n}=(1,1,2)$', horizontalalignment='right',\n",
    "#          verticalalignment='bottom', fontsize=fonts, \n",
    "#          color='black', backgroundcolor='white',\n",
    "#          transform=ax.transAxes, usetex=True)\n",
    "\n",
    "ax2 = fig.add_axes([1.21,0,0.85,1], xscale='log', yscale='log')\n",
    "\n",
    "ax2.plot([i+1 for i in range(len(conv))], 1-np.array(conv), \n",
    "         label=\"our energy\")\n",
    "ax2.set_xlim([1, 1e5])\n",
    "ax2.set_ylim([1e-6, 1])\n",
    "ax2.set_xticks([10**j for j in range(6)])\n",
    "ax2.set_xlabel(r'$N_{\\rm coeffs}$', fontsize=largelabels, usetex=True)\n",
    "ax2.tick_params(axis='both', labelsize=labels, direction='inout',\n",
    "                right=True, top=True, labelleft=True, labelright=False,\n",
    "                labelbottom=True, labeltop=False)\n",
    "ax2.legend(loc='lower left', fontsize=largelabels)\n",
    "\n",
    "\n",
    "lm_B = (2, 0)\n",
    "lm_A = (0, 0)\n",
    "# lm_C = (4, 4)\n",
    "\n",
    "ax3 = fig.add_axes([2.4,0,1,1], xscale='log', yscale='log')\n",
    "nlist0 = [0.5]+[n for n in range(1,nsize)]\n",
    "# for lbl in p_lm_n.keys():\n",
    "#     if lbl != lm_A and lbl != lm_B and lbl != lm_C:\n",
    "#         ax3.plot(nlist0, 1-sump_lm_n[lbl], color='gray')\n",
    "\n",
    "ax3.plot(nlist0, 1-sump_lm_n[lm_A], linewidth=2.5,\n",
    "         label='fs2 (0,0)')\n",
    "\n",
    "ax3.plot(nlist0, 1-sump_lm_n[lm_B], linewidth=2.5,\n",
    "         linestyle='dashed',label=\"fs2 (2,0)\")\n",
    "\n",
    "ax3.plot(nlist0, 1-sump_lm_n_gX[lm_A], linewidth=2.5,\n",
    "         label=\"gX (0,0)\")\n",
    "\n",
    "ax3.plot(nlist0, 1-sump_lm_n_gX[lm_B], linewidth=2.5,\n",
    "         label=\"gX (2,0)\")\n",
    "\n",
    "\n",
    "\n",
    "power2_plot = 10\n",
    "ax3.set_xlim([1, 0.85*2**power2_plot])\n",
    "ax3.set_ylim([3e-5, 1.3])\n",
    "ax3.set_xticks([2**j for j in range(-1,power2_plot)], \n",
    "               labels=([\"0\"]+[str(int(2**j)) for j in range(4)] \n",
    "                       + [r\"$2^{}$\".format(j) for j in range(4, power2_plot)])\n",
    "              )\n",
    "ax3.set_xlabel(r'$n$', fontsize=largelabels, usetex=True)\n",
    "ax3.set_ylabel(r'$\\Delta \\mathcal{P}_{\\ell m}(n) / \\mathcal{P}_{\\ell m}$', \n",
    "               fontsize=largelabels, usetex=True)\n",
    "ax3.tick_params(axis='x', labelsize=labels, direction='out',\n",
    "                right=True, top=True, labelleft=True, labelright=False,\n",
    "                labelbottom=True, labeltop=False)\n",
    "ax3.tick_params(axis='x', which='minor', bottom=False)\n",
    "ax3.tick_params(axis='y', labelsize=labels, direction='inout',\n",
    "                right=True, top=True, labelleft=True, labelright=False,\n",
    "                labelbottom=True, labeltop=False)\n",
    "ax3.legend(loc='lower left', fontsize=largelabels)\n",
    "ax3.text(0.97, 0.97, r'${}$'.format(lm_A), horizontalalignment='right',\n",
    "         verticalalignment='top', fontsize=fonts, \n",
    "         color='black', backgroundcolor='white',\n",
    "         transform=ax3.transAxes, usetex=True)\n",
    "\n",
    "# plt.savefig('out/fs2_convergence.pdf', format=\"pdf\", bbox_inches='tight')\n",
    "\n",
    "\n",
    "#fig.show()"
   ]
  },
  {
   "cell_type": "markdown",
   "id": "441e2204",
   "metadata": {},
   "source": [
    "Our energy actually is for the fs2 here.\n",
    "See figure 7 in Ben's paper to understand these plots."
   ]
  },
  {
   "cell_type": "markdown",
   "id": "2505baf0",
   "metadata": {},
   "source": [
    "## Ok it looks like I can take $n_q = 2^8 - 1 = 255$ and $n_v = 2^6-1 = 63$, and I will take a few more $l$ so $l = 16$ to be good."
   ]
  },
  {
   "cell_type": "markdown",
   "id": "f3a11063",
   "metadata": {},
   "source": [
    "## Now let's look at I and K matrices."
   ]
  },
  {
   "cell_type": "code",
   "execution_count": 15,
   "id": "0e0ed0d0",
   "metadata": {},
   "outputs": [
    {
     "ename": "NameError",
     "evalue": "name 'flabel' is not defined",
     "output_type": "error",
     "traceback": [
      "\u001b[0;31m---------------------------------------------------------------------------\u001b[0m",
      "\u001b[0;31mNameError\u001b[0m                                 Traceback (most recent call last)",
      "Cell \u001b[0;32mIn[15], line 4\u001b[0m\n\u001b[1;32m      1\u001b[0m \u001b[38;5;66;03m#flabel = 's1'\u001b[39;00m\n\u001b[1;32m      3\u001b[0m gX_eg \u001b[38;5;241m=\u001b[39m gX\n\u001b[0;32m----> 4\u001b[0m fs2_eg \u001b[38;5;241m=\u001b[39m fs2[\u001b[43mflabel\u001b[49m]\n\u001b[1;32m      6\u001b[0m ellMax \u001b[38;5;241m=\u001b[39m \u001b[38;5;241m16\u001b[39m\n\u001b[1;32m      7\u001b[0m nvMax \u001b[38;5;241m=\u001b[39m \u001b[38;5;241m163\u001b[39m\n",
      "\u001b[0;31mNameError\u001b[0m: name 'flabel' is not defined"
     ]
    }
   ],
   "source": [
    "#flabel = 's1'\n",
    "\n",
    "gX_eg = gX\n",
    "fs2_eg = fs2[flabel]\n",
    "\n",
    "ellMax = 16\n",
    "nvMax = 163\n",
    "nqMax = 255\n",
    "print(ellMax, nvMax, nqMax)"
   ]
  },
  {
   "cell_type": "code",
   "execution_count": 16,
   "id": "6da0ed44",
   "metadata": {},
   "outputs": [
    {
     "name": "stdout",
     "output_type": "stream",
     "text": [
      "(10, (0, 0)) :  48.143600940704346\n"
     ]
    }
   ],
   "source": [
    "\"\"\"Comprehensive mI calculation for larger list of DM masses:\n",
    "\n",
    "Following the results from 'Convergence', use a smaller ellMax and nMax:\n",
    "\"\"\"\n",
    "\n",
    "#We copy-paste this from before.\n",
    "QMAX = 10*qBohr # Global value for q0=qMax for wavelets\n",
    "Qbasis = dict(u0=QMAX, type='wavelet', uMax=QMAX)\n",
    "\n",
    "VMAX = 960.*km_s # Global value for v0=vMax for wavelets\n",
    "Vbasis = dict(u0=VMAX, type='wavelet', uMax=VMAX)\n",
    "\n",
    "\n",
    "ellMax = 16\n",
    "nvMax = 163\n",
    "nqMax = 255\n",
    "\n",
    "\n",
    "# ls10 = [1, 1.5, 2, 3, 4, 5, 6, 7, 8, 9]\n",
    "# p10 = [1, 10, 100]\n",
    "#ls10 = [1]\n",
    "#p10 = [10]\n",
    "#mXlist = np.array([p*m for p in p10 for m in ls10])\n",
    "# mXlist = mXlist[0:25]\n",
    "\n",
    "\"\"\"Check the evaluation time for mcalI:\"\"\"\n",
    "mI = {}\n",
    "modelsDM = []\n",
    "t0 = time.time()\n",
    "\n",
    "fn = (0,0)   # FDM^2 ~ q^0 v^0\n",
    "\n",
    "\n",
    "mX = 10\n",
    "dmModel = dict(mX=mX*MeV, fdm=fn, mSM=mElec, DeltaE=4.03*10**(-6)*MeV)\n",
    "\n",
    "\n",
    "mI[(mX, fn)] = vsdm.McalI(Vbasis, Qbasis, dmModel, \n",
    "                                      mI_shape=(ellMax+1, nvMax+1,nqMax+1), \n",
    "                                      center_Z2=True, \n",
    "                                      use_gvar=False, do_mcalI=True)\n",
    "print((mX, fn), \": \", mI[(mX, fn)].t_eval)\n",
    "\n",
    "tEvalI = time.time() - t0"
   ]
  },
  {
   "cell_type": "code",
   "execution_count": 17,
   "id": "9bbca58e",
   "metadata": {},
   "outputs": [
    {
     "data": {
      "text/plain": [
       "{(10, (0, 0)): <vsdm.matrixcalc.McalI at 0x18d0a8670>}"
      ]
     },
     "execution_count": 17,
     "metadata": {},
     "output_type": "execute_result"
    }
   ],
   "source": [
    "mI"
   ]
  },
  {
   "cell_type": "code",
   "execution_count": 18,
   "id": "5d0ef53a",
   "metadata": {},
   "outputs": [
    {
     "data": {
      "text/plain": [
       "(17, 164, 256)"
      ]
     },
     "execution_count": 18,
     "metadata": {},
     "output_type": "execute_result"
    }
   ],
   "source": [
    "np.shape(mI[(mX,fn)].mcalI)  # I thought it would get rid of odd l but it looks like they are still there?"
   ]
  },
  {
   "cell_type": "code",
   "execution_count": 19,
   "id": "465fac99",
   "metadata": {},
   "outputs": [
    {
     "name": "stderr",
     "output_type": "stream",
     "text": [
      "/var/folders/xm/dgywcqjd46l1x_7k4knjbbxm0000gn/T/ipykernel_3370/2607571143.py:1: RuntimeWarning: divide by zero encountered in log10\n",
      "  plt.matshow(np.log10(mI[mX,fn].mcalI[0][0:128, 0:128]), cmap='viridis')\n",
      "/var/folders/xm/dgywcqjd46l1x_7k4knjbbxm0000gn/T/ipykernel_3370/2607571143.py:1: RuntimeWarning: invalid value encountered in log10\n",
      "  plt.matshow(np.log10(mI[mX,fn].mcalI[0][0:128, 0:128]), cmap='viridis')\n"
     ]
    },
    {
     "data": {
      "text/plain": [
       "<matplotlib.image.AxesImage at 0x18dafb940>"
      ]
     },
     "execution_count": 19,
     "metadata": {},
     "output_type": "execute_result"
    },
    {
     "data": {
      "image/png": "[encoded data removed]",
      "text/plain": [
       "<Figure size 480x480 with 1 Axes>"
      ]
     },
     "metadata": {},
     "output_type": "display_data"
    }
   ],
   "source": [
    "plt.matshow(np.log10(mI[mX,fn].mcalI[0][0:128, 0:128]), cmap='viridis')"
   ]
  },
  {
   "cell_type": "code",
   "execution_count": 20,
   "id": "b30a512f",
   "metadata": {},
   "outputs": [],
   "source": [
    "## FOr now I will not worry about saving the I matrix. But let's think about that later."
   ]
  },
  {
   "cell_type": "markdown",
   "id": "e735fb7d",
   "metadata": {},
   "source": [
    "## Calculate Partial K matrix from I matrix."
   ]
  },
  {
   "cell_type": "code",
   "execution_count": 21,
   "id": "a0a3e97c",
   "metadata": {},
   "outputs": [
    {
     "name": "stdout",
     "output_type": "stream",
     "text": [
      "mX is 10\n",
      "fn is (0, 0)\n"
     ]
    }
   ],
   "source": [
    "##helper cell\n",
    "for key in mI.keys():\n",
    "    print(\"mX is\",key[0])\n",
    "    print(\"fn is\",key[1])\n",
    "    \n",
    "    mX "
   ]
  },
  {
   "cell_type": "code",
   "execution_count": 22,
   "id": "ad4ba990",
   "metadata": {},
   "outputs": [
    {
     "data": {
      "text/plain": [
       "32"
      ]
     },
     "execution_count": 22,
     "metadata": {},
     "output_type": "execute_result"
    }
   ],
   "source": [
    "gX.ellMax"
   ]
  },
  {
   "cell_type": "code",
   "execution_count": 23,
   "id": "40437f05",
   "metadata": {},
   "outputs": [
    {
     "data": {
      "text/plain": [
       "array([[[ 1.96020510e+02,  9.43548088e+01,  5.55681834e+01, ...,\n",
       "          6.53552829e-02,  6.51049772e-02,  6.48606069e-02],\n",
       "        [-2.94351645e+01,  3.12522577e+01,  4.99171016e+00, ...,\n",
       "         -2.47019751e-02, -2.46073684e-02, -2.45150051e-02],\n",
       "        [-1.57874403e+01, -2.36580334e+01, -9.19044690e+00, ...,\n",
       "          0.00000000e+00,  0.00000000e+00,  0.00000000e+00],\n",
       "        ...,\n",
       "        [ 0.00000000e+00,  0.00000000e+00,  0.00000000e+00, ...,\n",
       "          0.00000000e+00,  0.00000000e+00,  0.00000000e+00],\n",
       "        [ 0.00000000e+00,  0.00000000e+00,  0.00000000e+00, ...,\n",
       "          0.00000000e+00,  0.00000000e+00,  0.00000000e+00],\n",
       "        [-3.59026150e-02, -9.49893908e-02, -2.10207715e-01, ...,\n",
       "          0.00000000e+00,  0.00000000e+00,  0.00000000e+00]],\n",
       "\n",
       "       [[ 0.00000000e+00,  0.00000000e+00,  0.00000000e+00, ...,\n",
       "          0.00000000e+00,  0.00000000e+00,  0.00000000e+00],\n",
       "        [ 0.00000000e+00,  0.00000000e+00,  0.00000000e+00, ...,\n",
       "          0.00000000e+00,  0.00000000e+00,  0.00000000e+00],\n",
       "        [ 0.00000000e+00,  0.00000000e+00,  0.00000000e+00, ...,\n",
       "          0.00000000e+00,  0.00000000e+00,  0.00000000e+00],\n",
       "        ...,\n",
       "        [ 0.00000000e+00,  0.00000000e+00,  0.00000000e+00, ...,\n",
       "          0.00000000e+00,  0.00000000e+00,  0.00000000e+00],\n",
       "        [ 0.00000000e+00,  0.00000000e+00,  0.00000000e+00, ...,\n",
       "          0.00000000e+00,  0.00000000e+00,  0.00000000e+00],\n",
       "        [ 0.00000000e+00,  0.00000000e+00,  0.00000000e+00, ...,\n",
       "          0.00000000e+00,  0.00000000e+00,  0.00000000e+00]],\n",
       "\n",
       "       [[ 1.85731565e+01, -2.60757923e+01, -5.12957528e+00, ...,\n",
       "         -4.77190197e-03, -4.16739795e-03, -3.56086730e-03],\n",
       "        [ 1.62086039e+01,  3.44914844e+01,  1.05346276e+01, ...,\n",
       "          1.80360941e-03,  1.57512837e-03,  1.34588133e-03],\n",
       "        [-8.21254931e+00, -8.71005694e+00, -3.03908499e+00, ...,\n",
       "          0.00000000e+00,  0.00000000e+00,  0.00000000e+00],\n",
       "        ...,\n",
       "        [ 0.00000000e+00,  0.00000000e+00,  0.00000000e+00, ...,\n",
       "          0.00000000e+00,  0.00000000e+00,  0.00000000e+00],\n",
       "        [ 0.00000000e+00,  0.00000000e+00,  0.00000000e+00, ...,\n",
       "          0.00000000e+00,  0.00000000e+00,  0.00000000e+00],\n",
       "        [-3.57663515e-02, -9.46288714e-02, -2.09339989e-01, ...,\n",
       "          0.00000000e+00,  0.00000000e+00,  0.00000000e+00]],\n",
       "\n",
       "       ...,\n",
       "\n",
       "       [[-1.07238044e+00, -9.60210084e+00, -1.64172456e+00, ...,\n",
       "          2.07840474e-02,  2.07473475e-02,  2.05829632e-02],\n",
       "        [ 5.49353058e-01,  3.74333399e+00,  2.15027650e+00, ...,\n",
       "         -7.85563154e-03, -7.84176025e-03, -7.77962882e-03],\n",
       "        [-5.09227719e-02, -4.03337259e-02, -5.40852875e-01, ...,\n",
       "          0.00000000e+00,  0.00000000e+00,  0.00000000e+00],\n",
       "        ...,\n",
       "        [ 0.00000000e+00,  0.00000000e+00,  0.00000000e+00, ...,\n",
       "          0.00000000e+00,  0.00000000e+00,  0.00000000e+00],\n",
       "        [ 0.00000000e+00,  0.00000000e+00,  0.00000000e+00, ...,\n",
       "          0.00000000e+00,  0.00000000e+00,  0.00000000e+00],\n",
       "        [-3.13482388e-02, -8.29396440e-02, -1.81275005e-01, ...,\n",
       "          0.00000000e+00,  0.00000000e+00,  0.00000000e+00]],\n",
       "\n",
       "       [[ 0.00000000e+00,  0.00000000e+00,  0.00000000e+00, ...,\n",
       "          0.00000000e+00,  0.00000000e+00,  0.00000000e+00],\n",
       "        [ 0.00000000e+00,  0.00000000e+00,  0.00000000e+00, ...,\n",
       "          0.00000000e+00,  0.00000000e+00,  0.00000000e+00],\n",
       "        [ 0.00000000e+00,  0.00000000e+00,  0.00000000e+00, ...,\n",
       "          0.00000000e+00,  0.00000000e+00,  0.00000000e+00],\n",
       "        ...,\n",
       "        [ 0.00000000e+00,  0.00000000e+00,  0.00000000e+00, ...,\n",
       "          0.00000000e+00,  0.00000000e+00,  0.00000000e+00],\n",
       "        [ 0.00000000e+00,  0.00000000e+00,  0.00000000e+00, ...,\n",
       "          0.00000000e+00,  0.00000000e+00,  0.00000000e+00],\n",
       "        [ 0.00000000e+00,  0.00000000e+00,  0.00000000e+00, ...,\n",
       "          0.00000000e+00,  0.00000000e+00,  0.00000000e+00]],\n",
       "\n",
       "       [[ 1.55045319e+00,  9.53652877e+00,  2.54921131e+00, ...,\n",
       "         -6.30360009e-03, -4.60487411e-03, -2.87339884e-03],\n",
       "        [-6.92387014e-02, -1.56726122e+00, -7.01946947e-01, ...,\n",
       "          2.38253689e-03,  1.74047881e-03,  1.08604268e-03],\n",
       "        [-1.82708445e-01, -7.20261742e-01, -9.24769679e-02, ...,\n",
       "          0.00000000e+00,  0.00000000e+00,  0.00000000e+00],\n",
       "        ...,\n",
       "        [ 0.00000000e+00,  0.00000000e+00,  0.00000000e+00, ...,\n",
       "          0.00000000e+00,  0.00000000e+00,  0.00000000e+00],\n",
       "        [ 0.00000000e+00,  0.00000000e+00,  0.00000000e+00, ...,\n",
       "          0.00000000e+00,  0.00000000e+00,  0.00000000e+00],\n",
       "        [-3.00855761e-02, -7.95989523e-02, -1.73280848e-01, ...,\n",
       "          0.00000000e+00,  0.00000000e+00,  0.00000000e+00]]])"
      ]
     },
     "execution_count": 23,
     "metadata": {},
     "output_type": "execute_result"
    }
   ],
   "source": [
    "mI[(10,(0,0))].mcalI"
   ]
  },
  {
   "cell_type": "code",
   "execution_count": 24,
   "id": "773716f3",
   "metadata": {},
   "outputs": [
    {
     "name": "stdout",
     "output_type": "stream",
     "text": [
      "\t tEval[K]:\n",
      "(10, (0, 0)) :  0.41612696647644043\n"
     ]
    }
   ],
   "source": [
    "t0 = time.time()\n",
    "rates = {}\n",
    "mK = {}\n",
    "print('\\t tEval[K]:')\n",
    "for key in mI.keys():\n",
    "    mX = key[0]\n",
    "    fn = key[1]\n",
    "rates = vsdm.RateCalc(gX, fs2, mI[(mX,fn)],use_gvar=False, sparse=False,lmod=2)\n",
    "\n",
    "k_obj = McalK(ellMax,lmod=1)   # here we can also call mcalK directly to find K_vec directly if we decide to not use RateCalc object.\n",
    "K_vec = k_obj.getK(gX, fs2, mI[(mX,fn)])\n",
    "\n",
    "print((mX,fn),\": \", rates.t_eval)\n",
    "tEvalR = time.time() - t0"
   ]
  },
  {
   "cell_type": "code",
   "execution_count": 25,
   "id": "6b5d4289-4abb-46a5-947a-2d2d5b9c494e",
   "metadata": {},
   "outputs": [
    {
     "data": {
      "text/plain": [
       "(array([   0,   22,   24,  124,  126,  128,  370,  372,  374,  376,  824,\n",
       "         826,  828,  830,  832, 1550, 1552, 1554, 1556, 1558, 1560, 2612,\n",
       "        2614, 2616, 2618, 2620, 2622, 2624, 4074, 4076, 4078, 4080, 4082,\n",
       "        4084, 4086, 4088, 6000, 6002, 6004, 6006, 6008, 6010, 6012, 6014,\n",
       "        6016]),)"
      ]
     },
     "execution_count": 25,
     "metadata": {},
     "output_type": "execute_result"
    }
   ],
   "source": [
    "np.nonzero(K_vec)"
   ]
  },
  {
   "cell_type": "markdown",
   "id": "57557ea8-c73a-47d1-a34c-b98fe94e277b",
   "metadata": {},
   "source": [
    "### Apply rotations"
   ]
  },
  {
   "cell_type": "code",
   "execution_count": 26,
   "id": "52c70ecb-8be6-4482-9cd4-3b6c1f469822",
   "metadata": {},
   "outputs": [
    {
     "name": "stdout",
     "output_type": "stream",
     "text": [
      "testing 'spherical' and WignerG: PASS\n"
     ]
    }
   ],
   "source": [
    "diffM, diffV = vsdm.testG_lm(5, -3, printout=False)\n",
    "if np.abs(diffV) < 1e-14:\n",
    "    print(\"testing 'spherical' and WignerG: PASS\")\n",
    "else:\n",
    "    print(\"testing 'spherical' and WignerG: FAIL\")\n",
    "    print(\"check the version number for 'spherical', and run testD_lm()\")"
   ]
  },
  {
   "cell_type": "code",
   "execution_count": 27,
   "id": "72cf3e42-a1bf-4cfc-b4df-e08c1485008c",
   "metadata": {},
   "outputs": [],
   "source": [
    "def getQ(theta, phi):\n",
    "    axisphi = phi + np.pi/2 #stationary under R\n",
    "    axR = theta/2 \n",
    "    qr = np.cos(axR)\n",
    "    qi = np.sin(axR) * np.cos(axisphi)\n",
    "    qj = np.sin(axR) * np.sin(axisphi)\n",
    "    qk = 0. \n",
    "    return quaternionic.array(qr, qi, qj, qk)\n",
    "\n",
    "def ix_thetaphi(theta, phi):\n",
    "    return thetaphilist.index((theta, phi))"
   ]
  },
  {
   "cell_type": "code",
   "execution_count": 28,
   "id": "e4e7102c",
   "metadata": {
    "scrolled": true
   },
   "outputs": [
    {
     "data": {
      "text/plain": [
       "(90, 45, 4)"
      ]
     },
     "execution_count": 28,
     "metadata": {},
     "output_type": "execute_result"
    }
   ],
   "source": [
    "rotationlist = []\n",
    "rotationarray = []\n",
    "thetaphilist = []\n",
    "\n",
    "\n",
    "#### IMPORTANT : TO TAKE CARE OF SYMMETRY of detector for particle in a box, thake only phi = 0 to 90 deg.\n",
    "\n",
    "\n",
    "\n",
    "for theta in range(0, 180, 2):\n",
    "    rrow = []\n",
    "    for phi in range(0, 90, 2):\n",
    "        # for WignerG, want to apply the inverse of getQ.\n",
    "        # getQ applied to vE moves vE from the z axis to the position (theta, phi). \n",
    "        # 1/getQ applied to the crystal does the same thing, \n",
    "        #     with vE -> (theta, phi) in the frame of the crystal.\n",
    "        q = 1/getQ(theta * np.pi/180, phi * np.pi/180) \n",
    "        rrow += [q] \n",
    "        rotationlist += [q] \n",
    "        thetaphilist += [(theta, phi)]\n",
    "    rotationarray += [rrow]\n",
    "\n",
    "rotationarray = np.array(rotationarray)\n",
    "# thetaphilist = np.array(thetaphilist)\n",
    "np.shape(rotationarray)"
   ]
  },
  {
   "cell_type": "code",
   "execution_count": 29,
   "id": "f5a3e968",
   "metadata": {
    "scrolled": true
   },
   "outputs": [
    {
     "name": "stdout",
     "output_type": "stream",
     "text": [
      "8.625379085540771\n",
      "4050\n",
      "0.0021297232309977214\n"
     ]
    }
   ],
   "source": [
    "t0 = time.time()\n",
    "wG = vsdm.WignerG(ellMax, rotations=rotationlist, lmod=2)\n",
    "tG = time.time() - t0\n",
    "print(tG)\n",
    "print(len(rotationlist))\n",
    "print(tG/len(rotationlist))"
   ]
  },
  {
   "cell_type": "code",
   "execution_count": null,
   "id": "e6260326-6bf9-4bdd-87a1-51858ffa53d1",
   "metadata": {},
   "outputs": [],
   "source": []
  },
  {
   "cell_type": "code",
   "execution_count": 30,
   "id": "ca0f78ff-57a9-4cfb-91a1-9a4eae21e72c",
   "metadata": {},
   "outputs": [
    {
     "name": "stdout",
     "output_type": "stream",
     "text": [
      "(10, (0, 0)): <R> = 0.49471714550834056\n",
      "1.0701351165771484\n"
     ]
    }
   ],
   "source": [
    "t0 = time.time()\n",
    "mu_all = {}\n",
    "rate_all = {}\n",
    "rate_angavg = {}\n",
    "\n",
    "mu_R_l = rates.mu_R_l(wG)     # gives rates for all rotations in rotationlist\n",
    "rate_R = mu_R_l.sum(axis=1)\n",
    "mu_all = mu_R_l\n",
    "rate_all = rate_R\n",
    "rate_angavg = rates.vecK[0] # the ell=0 component of vecK is the angular average\n",
    "print('{}: <R> = {}'.format(key, rate_angavg))\n",
    "\n",
    "tR = time.time() - t0\n",
    "print(tR)\n",
    "#print(tR/len(rate_R)/len(rates.keys()))"
   ]
  },
  {
   "cell_type": "markdown",
   "id": "56543bc5-5a17-48cb-82dd-ce2db55245ac",
   "metadata": {},
   "source": [
    "t0 = time.time()\n",
    "mu_all = {}\n",
    "rate_all = {}\n",
    "rate_angavg = {}\n",
    "for key in rates.keys():\n",
    "    mu_R_l = rates[key].mu_R_l(wG)\n",
    "    rate_R = mu_R_l.sum(axis=1)\n",
    "    mu_all[key] = mu_R_l\n",
    "    rate_all[key] = rate_R\n",
    "    rate_angavg[key] = rates[key].vecK[0] # the ell=0 component of vecK is the angular average\n",
    "    print('{}: <R> = {}'.format(key, rate_angavg[key]))\n",
    "tR = time.time() - t0\n",
    "print(tR)\n",
    "print(tR/len(rate_R)/len(rates.keys()))"
   ]
  },
  {
   "cell_type": "code",
   "execution_count": 31,
   "id": "709c4fa2-2fc3-49c7-942e-e61c89d1ab79",
   "metadata": {},
   "outputs": [
    {
     "name": "stdout",
     "output_type": "stream",
     "text": [
      "(10, (0, 0)): 0.4947\t0.8696\t1.131\n"
     ]
    }
   ],
   "source": [
    "r_avg_min_max = {}\n",
    "\n",
    "rate_R = np.array(rate_all)\n",
    "rate_avg = rate_angavg\n",
    "least = rate_R.min()    # what does this return exactly?\n",
    "greatest = rate_R.max() # what does this return exactly?\n",
    "r_avg_min_max = [rate_avg, least, greatest]\n",
    "print('{}: {:.4g}\\t{:.4g}\\t{:.4g}'.format((mX,fn), rate_avg, least/rate_avg, greatest/rate_avg))\n",
    "    "
   ]
  },
  {
   "cell_type": "code",
   "execution_count": 32,
   "id": "15b20769-75a1-43b2-ae88-007f08269cc6",
   "metadata": {},
   "outputs": [
    {
     "data": {
      "text/plain": [
       "4050"
      ]
     },
     "execution_count": 32,
     "metadata": {},
     "output_type": "execute_result"
    }
   ],
   "source": [
    "len(rate_all) ## What determines the length of rate_all?"
   ]
  },
  {
   "cell_type": "code",
   "execution_count": 33,
   "id": "85007c06-8960-4796-817d-f0cece0250d9",
   "metadata": {},
   "outputs": [],
   "source": [
    "## Compute R(theta,phi)/<R> , this is rate_norm\n",
    "rate_norm = {}\n",
    "\n",
    "thetaphi_size = (np.shape(rotationarray)[0], np.shape(rotationarray)[1])\n",
    "thetaphiarray = np.array(thetaphilist).reshape(thetaphi_size[0], thetaphi_size[1], 2)\n",
    "\n",
    "rate_all = np.array(rate_all)\n",
    "rate_array = rate_all.reshape(thetaphi_size)\n",
    "rate_norm = rate_array/rate_angavg\n"
   ]
  },
  {
   "cell_type": "code",
   "execution_count": 34,
   "id": "9a0d5c68-ec6f-4a22-b37a-8b32b7305b59",
   "metadata": {},
   "outputs": [
    {
     "data": {
      "text/plain": [
       "(90, 45)"
      ]
     },
     "execution_count": 34,
     "metadata": {},
     "output_type": "execute_result"
    }
   ],
   "source": [
    "np.shape(rate_norm)   # rate_norm is the \"normalized\" rate in (theta,phi) space"
   ]
  },
  {
   "cell_type": "code",
   "execution_count": 39,
   "id": "9c8d7ed6-7595-416e-bdac-b49477986305",
   "metadata": {},
   "outputs": [],
   "source": [
    "## Now I write down a function to process the normalized rate into 7*7 = 49 bins of (cos theta, phi).\n",
    "## It might have been better to just sample with cos theta from the beginning but that's fine.\n",
    "\n",
    "costhetas = np.cos(thetaphiarray[:,0,0]*(2*np.pi)/360)\n",
    "phi_array = thetaphiarray[0,:,1]*(2*np.pi)/360\n",
    "\n",
    "ctheta, phigrid = np.meshgrid(costhetas,phi_array)\n",
    "\n",
    "from scipy.stats import binned_statistic_dd\n",
    "\n",
    "\n",
    "samples = np.array(list(zip(np.ravel(ctheta), np.ravel(phigrid))))\n",
    "values = np.ravel(rate_norm,order='F')   # I want to ravel by changing cos theta first, then phi.\n",
    "bins = [7,10] # number of bins along each dimension\n",
    "\n",
    "binned_rates_on_sphere = binned_statistic_dd(samples, values, statistic='mean', bins=bins).statistic  #row is ctheta direction, col is phi direction."
   ]
  },
  {
   "cell_type": "code",
   "execution_count": 42,
   "id": "ccd8bbd2-ef4c-4afc-921d-da14ebc37796",
   "metadata": {},
   "outputs": [
    {
     "data": {
      "text/plain": [
       "BinnedStatisticddResult(statistic=array([[1.09818097, 1.09728012, 1.09544846, 1.09289867, 1.09017381,\n",
       "        1.08686413, 1.08360285, 1.08073805, 1.07853699, 1.0772999 ],\n",
       "       [1.0381485 , 1.03451705, 1.02706573, 1.01655541, 1.00514064,\n",
       "        0.99102675, 0.97687391, 0.96423107, 0.95439609, 0.94881925],\n",
       "       [1.02338696, 1.01823451, 1.00760128, 0.99247886, 0.97589073,\n",
       "        0.95515655, 0.93414579, 0.91518908, 0.9003348 , 0.89186837],\n",
       "       [1.02030605, 1.01462985, 1.00289175, 0.98614933, 0.96771974,\n",
       "        0.94459639, 0.92107912, 0.89978805, 0.88306291, 0.87351341],\n",
       "       [1.02338696, 1.01823451, 1.00760128, 0.99247886, 0.97589073,\n",
       "        0.95515655, 0.93414579, 0.91518908, 0.9003348 , 0.89186837],\n",
       "       [1.0381485 , 1.03451705, 1.02706573, 1.01655541, 1.00514064,\n",
       "        0.99102675, 0.97687391, 0.96423107, 0.95439609, 0.94881925],\n",
       "       [1.09960594, 1.09874425, 1.09699223, 1.0945533 , 1.09194691,\n",
       "        1.08878113, 1.08566164, 1.0829214 , 1.08081604, 1.07963274]]), bin_edges=[array([-0.99939083, -0.71376357, -0.42813631, -0.14250904,  0.14311822,\n",
       "        0.42874548,  0.71437274,  1.        ]), array([0.        , 0.15358897, 0.30717795, 0.46076692, 0.6143559 ,\n",
       "       0.76794487, 0.92153385, 1.07512282, 1.22871179, 1.38230077,\n",
       "       1.53588974])], binnumber=array([85, 85, 85, ..., 22, 22, 22]))"
      ]
     },
     "execution_count": 42,
     "metadata": {},
     "output_type": "execute_result"
    }
   ],
   "source": [
    "binned_statistic_dd(samples, values, statistic='mean', bins=bins)"
   ]
  },
  {
   "cell_type": "markdown",
   "id": "1dc4e444-cabc-4b2f-828c-eb8cab0b99c7",
   "metadata": {},
   "source": [
    "## Now that I know how to do one binned rate in full. Let's write down a code that will do for all models that I want."
   ]
  },
  {
   "cell_type": "code",
   "execution_count": null,
   "id": "173aa207-cc35-490d-9e02-7e7ecad11447",
   "metadata": {},
   "outputs": [],
   "source": []
  },
  {
   "cell_type": "code",
   "execution_count": 36,
   "id": "7781542f-964e-4860-8cbd-e0893a7d88b2",
   "metadata": {},
   "outputs": [
    {
     "name": "stdout",
     "output_type": "stream",
     "text": [
      "testing 'spherical' and WignerG: PASS\n",
      "vsdm 0.4.0\n"
     ]
    }
   ],
   "source": [
    "import math\n",
    "import numpy as np\n",
    "import numba\n",
    "import scipy.special as spf\n",
    "import vegas # numeric integration\n",
    "import gvar # gaussian variables; for vegas\n",
    "import time\n",
    "import quaternionic # For rotations\n",
    "import spherical #For Wigner D matrix\n",
    "# import csv # file IO for projectFnlm\n",
    "# import os.path\n",
    "import h5py # database format for mathcalI arrays\n",
    "import importlib\n",
    "import sys\n",
    "import matplotlib.pyplot as plt\n",
    "import matplotlib.colors as clr\n",
    "plt.rc('text', usetex=True)\n",
    "\n",
    "# sys.path.insert(0,'../') #load the local version of vsdm\n",
    "\n",
    "import vsdm\n",
    "from vsdm.units import *\n",
    "from vsdm.utilities import *\n",
    "from vsdm import McalK\n",
    "\n",
    "diffM, diffV = vsdm.testG_lm(5, -3, printout=False)\n",
    "if np.abs(diffV) < 1e-14:\n",
    "    print(\"testing 'spherical' and WignerG: PASS\")\n",
    "else:\n",
    "    print(\"testing 'spherical' and WignerG: FAIL\")\n",
    "    print(\"check the version number for 'spherical', and run testD_lm()\")\n",
    "print(\"vsdm\", vsdm.__version__)"
   ]
  },
  {
   "cell_type": "code",
   "execution_count": 37,
   "id": "b7d37e6d",
   "metadata": {},
   "outputs": [],
   "source": [
    "@numba.jit(\"double(int64,double)\", nopython=True)\n",
    "def fj2(nj, qLj):\n",
    "    if qLj==0:\n",
    "        if nj==1:\n",
    "            return 1\n",
    "        else:\n",
    "            return 0\n",
    "    qlp = np.abs(qLj)/np.pi\n",
    "    # mathsinc(x) = np.sinc(x/pi)\n",
    "    s_minus = np.sinc(0.5*(qlp - nj + 1))/(1 + (nj-1)/qlp)\n",
    "    s_plus = np.sinc(0.5*(qlp - nj - 1))/(1 + (nj+1)/qlp)\n",
    "    return (s_minus + s_plus)**2\n",
    "\n",
    "# Long thin box limit: assuming that Lz > Lx,Ly,\n",
    "# so the lowest excited states are nz=2, nz=3, with nx=ny=1.\n",
    "\n",
    "@numba.jit(\"double(double[:],int64,double[:])\", nopython=True)\n",
    "def fs2_nz(Lvec, nz, q_xyz):\n",
    "    # q: the DM particle velocity (cartesian, lab frame)\n",
    "    # L: the dimensions of the box\n",
    "    # nz = 2, 3, 4... The final state. (n=1 defined as ground state)\n",
    "    # fs2 is dimensionless\n",
    "    # note: np.sinc(x/pi) = sin(x) / (x). Included in defs. of qL below\n",
    "    [Lx, Ly, Lz] = Lvec\n",
    "    [qx, qy, qz] = q_xyz\n",
    "    qLx = Lx*qx\n",
    "    qLy = Ly*qy\n",
    "    qLz = Lz*qz\n",
    "#     qL = qLx + qLy + qLz\n",
    "    fx2 = fj2(1, qLx)\n",
    "    fy2 = fj2(1, qLy)\n",
    "    fz2 = fj2(nz, qLz)\n",
    "    return fx2*fy2*fz2\n",
    "\n",
    "@numba.jit(\"double(double[:],int64[:],double[:])\", nopython=True)\n",
    "def fs2_nxyz(Lvec, n_xyz, q_xyz):\n",
    "    # q: the DM particle velocity (cartesian, lab frame)\n",
    "    # L: the dimensions of the box\n",
    "    # nz = 2, 3, 4... The final state. (n=1 defined as ground state)\n",
    "    # fs2 is dimensionless\n",
    "    # note: np.sinc(x/pi) = sin(x) / (x). Included in defs. of qL below\n",
    "    [Lx, Ly, Lz] = Lvec\n",
    "    [qx, qy, qz] = q_xyz\n",
    "    [nx, ny, nz] = n_xyz\n",
    "    qLx = Lx*qx\n",
    "    qLy = Ly*qy\n",
    "    qLz = Lz*qz\n",
    "    fx2 = fj2(nx, qLx)\n",
    "    fy2 = fj2(ny, qLy)\n",
    "    fz2 = fj2(nz, qLz)\n",
    "    return fx2*fy2*fz2\n",
    "\n",
    "\n",
    "# Cartesian version of fs2:\n",
    "@numba.jit(\"double(double[:])\", nopython=True)\n",
    "def fs2_model4_cart(q_xyz):\n",
    "    return fs2_nz(np.array([4/qBohr, 7/qBohr, 10/qBohr]), 2, q_xyz)\n",
    "\n",
    "\n",
    "### Defining the function fs2(qSph) that ProjectFnlm will use as the input.\n",
    "#   The function is decorated with symmetry identifiers (phi_even, phi_cyclic, etc)\n",
    "#   This function is not a GaussianF instance, a sum of gaussians (is_gaussian==False) \n",
    "\n",
    "QMAX = 10*qBohr # Global value for q0=qMax for wavelets\n",
    "Qdict = dict(u0=QMAX, type='wavelet', uMax=QMAX)\n",
    "\n",
    "VMAX = 960.*km_s # Global value for v0=vMax for wavelets\n",
    "Vdict = dict(u0=VMAX, type='wavelet', uMax=VMAX)\n",
    "\n",
    "\n",
    "# @numba.jit(\"double(double[:])\", nopython=True)\n",
    "def fs2_model4(qSph):\n",
    "    [q, theta, phi] = qSph\n",
    "    qx = q*math.sin(theta) * math.cos(phi)\n",
    "    qy = q*math.sin(theta) * math.sin(phi)\n",
    "    qz = q*math.cos(theta)\n",
    "    q_xyz = np.array([qx, qy, qz])\n",
    "    Lvec = np.array([4/qBohr, 7/qBohr, 10/qBohr])\n",
    "    return fs2_nz(Lvec, 2, q_xyz)\n",
    "fs2_model4.is_gaussian = False\n",
    "fs2_model4.z_even = True\n",
    "fs2_model4.phi_even = True\n",
    "fs2_model4.phi_cyclic = 2\n",
    "fs2_model4.center_Z2 = True\n",
    "fs2_model4.DeltaE = 4.03*eV\n"
   ]
  },
  {
   "cell_type": "code",
   "execution_count": 38,
   "id": "674fb55b-e11d-4163-a97d-29ee2ea96067",
   "metadata": {},
   "outputs": [
    {
     "name": "stdout",
     "output_type": "stream",
     "text": [
      "7.92425799369812\n",
      "4050\n",
      "0.001956606912024227\n"
     ]
    }
   ],
   "source": [
    "#We copy-paste this from before.\n",
    "QMAX = 10*qBohr # Global value for q0=qMax for wavelets\n",
    "Qbasis = dict(u0=QMAX, type='wavelet', uMax=QMAX)\n",
    "\n",
    "VMAX = 960.*km_s # Global value for v0=vMax for wavelets\n",
    "Vbasis = dict(u0=VMAX, type='wavelet', uMax=VMAX)\n",
    "\n",
    "\n",
    "ellMax = 16\n",
    "nvMax = 163\n",
    "nqMax = 255\n",
    "\n",
    "\n",
    "\"\"\"Rotations\"\"\"\n",
    "##For rotations\n",
    "def getQ(theta, phi):\n",
    "    axisphi = phi + np.pi/2 #stationary under R\n",
    "    axR = theta/2 \n",
    "    qr = np.cos(axR)\n",
    "    qi = np.sin(axR) * np.cos(axisphi)\n",
    "    qj = np.sin(axR) * np.sin(axisphi)\n",
    "    qk = 0. \n",
    "    return quaternionic.array(qr, qi, qj, qk)\n",
    "\n",
    "def ix_thetaphi(theta, phi):\n",
    "    return thetaphilist.index((theta, phi))\n",
    "\n",
    "rotationlist = []\n",
    "rotationarray = []\n",
    "thetaphilist = []\n",
    "\n",
    "\n",
    "#### IMPORTANT : TO TAKE CARE OF SYMMETRY of detector for particle in a box, thake only phi = 0 to 90 deg.\n",
    "\n",
    "\n",
    "\n",
    "for theta in range(0, 180, 2):\n",
    "    rrow = []\n",
    "    for phi in range(0, 90, 2):\n",
    "        # for WignerG, want to apply the inverse of getQ.\n",
    "        # getQ applied to vE moves vE from the z axis to the position (theta, phi). \n",
    "        # 1/getQ applied to the crystal does the same thing, \n",
    "        #     with vE -> (theta, phi) in the frame of the crystal.\n",
    "        q = 1/getQ(theta * np.pi/180, phi * np.pi/180) \n",
    "        rrow += [q] \n",
    "        rotationlist += [q] \n",
    "        thetaphilist += [(theta, phi)]\n",
    "    rotationarray += [rrow]\n",
    "\n",
    "rotationarray = np.array(rotationarray)\n",
    "# thetaphilist = np.array(thetaphilist)\n",
    "np.shape(rotationarray)\n",
    "\n",
    "\n",
    "t0 = time.time()\n",
    "wG = vsdm.WignerG(ellMax, rotations=rotationlist, lmod=2)\n",
    "tG = time.time() - t0\n",
    "print(tG)\n",
    "print(len(rotationlist))\n",
    "print(tG/len(rotationlist))\n",
    "\n"
   ]
  },
  {
   "cell_type": "code",
   "execution_count": 39,
   "id": "aeea31ac",
   "metadata": {},
   "outputs": [
    {
     "name": "stdout",
     "output_type": "stream",
     "text": [
      "{'u0': 37289.47137978341, 'type': 'wavelet', 'uMax': 37289.47137978341}\n",
      "t_eval: 0.3813350200653076\n",
      "nCoeffs = 114688\n",
      "DeltaE [eV]: 4.03\n",
      "gX: ellMax = 32     nCoeffs_v =  33928     nMax = 7007\n"
     ]
    }
   ],
   "source": [
    "## Import fs2 and SHM gX\n",
    "\"\"\"Read in gX and fs2 from CSV files.\"\"\"\n",
    "\n",
    "### MOMENTUM DISTRIBUTION EXAMPLE\n",
    "QMAX = 10*qBohr # Global value for q0=qMax for wavelets\n",
    "\n",
    "Qdict = dict(u0=QMAX, type='wavelet', uMax=QMAX)\n",
    "\n",
    "# # Read Fnlm from saved csv file...\n",
    "fs2_csv = 'demo_fs2'\n",
    "fs2 = vsdm.Fnlm(Qdict, f_type='fs2', use_gvar=False)\n",
    "fs2.center_Z2 = True\n",
    "fs2.importFnlm_csv('tools/demo/'+fs2_csv+'.csv')\n",
    "print(fs2.basis)\n",
    "print('t_eval:', fs2.t_eval)\n",
    "print('nCoeffs = {}'.format(len(fs2.f_nlm.keys())))\n",
    "print('DeltaE [eV]:', fs2_model4.DeltaE/eV)\n",
    "\n",
    "\n",
    "### VELOCITY : USE SHM\n",
    "### VELOCITY DISTRIBUTION EXAMPLE: SHM \n",
    "\n",
    "VMAX = 820.*km_s # Global value for v0=vMax for wavelets\n",
    "Vbasis = dict(u0=VMAX, type='wavelet', uMax=VMAX)\n",
    "\n",
    "\"\"\"Read from HDF5\"\"\"\n",
    "gX_csv = 'SHM_v250'\n",
    "gX = vsdm.Fnlm(Vbasis, f_type='gX', use_gvar=False)\n",
    "gX.importFnlm_csv(''+gX_csv+'.csv')\n",
    "print('gX: ellMax = {}     nCoeffs_v =  {}     nMax = {}'.format(gX.ellMax, \n",
    "    len(gX.f_nlm.keys()), gX.nMax))\n",
    "\n",
    "#fs2['gX'] = gX # for convenience, in convergence testing  (Not sure why we need this. maybe later)"
   ]
  },
  {
   "cell_type": "code",
   "execution_count": 40,
   "id": "ef29d48f-3fce-46e7-a8ae-2b915568ae36",
   "metadata": {},
   "outputs": [],
   "source": [
    "from scipy.stats import binned_statistic_dd\n",
    "\n",
    "\n",
    "thetaphi_size = (np.shape(rotationarray)[0], np.shape(rotationarray)[1])\n",
    "thetaphiarray = np.array(thetaphilist).reshape(thetaphi_size[0], thetaphi_size[1], 2)\n",
    "\n",
    "costhetas = np.cos(thetaphiarray[:,0,0]*(2*np.pi)/360)\n",
    "phi_array = thetaphiarray[0,:,1]*(2*np.pi)/360\n",
    "    \n",
    "ctheta, phigrid = np.meshgrid(costhetas,phi_array)\n",
    "\n",
    "def binned_rate(mX,fn): # FDM^2 ~ q^n v^m\n",
    "    mI = {}\n",
    "    #modelsDM = []\n",
    "    \n",
    "    #fn = (0,0)   \n",
    "    \n",
    "    \n",
    "    #mX = 10\n",
    "    \n",
    "    dmModel = dict(mX=mX*MeV, fdm=fn, mSM=mElec, DeltaE=4.03*10**(-6)*MeV)\n",
    "    \n",
    "    \n",
    "    mI[(mX, fn)] = vsdm.McalI(Vbasis, Qbasis, dmModel, \n",
    "                                          mI_shape=(ellMax+1, nvMax+1,nqMax+1), \n",
    "                                          center_Z2=True, \n",
    "                                          use_gvar=False, do_mcalI=True)\n",
    "    print((mX, fn), \": \", mI[(mX, fn)].t_eval)\n",
    "    \n",
    "    \n",
    "    \n",
    "    \n",
    "    \n",
    "    \n",
    "    print('\\t tEval[K]:')\n",
    "    rates = vsdm.RateCalc(gX, fs2, mI[(mX,fn)],use_gvar=False, sparse=False,lmod=2)\n",
    "    \n",
    "    print((mX,fn),\": \", rates.t_eval)\n",
    "    \n",
    "    \n",
    "    \n",
    "    mu_R_l = rates.mu_R_l(wG)     # gives rates for all rotations in rotationlist\n",
    "    rate_R = mu_R_l.sum(axis=1)\n",
    "    mu_all = mu_R_l\n",
    "    rate_all = rate_R\n",
    "    rate_angavg = rates.vecK[0] # the ell=0 component of vecK is the angular average\n",
    "    \n",
    "    \n",
    "    \n",
    "    \n",
    "    \n",
    "    rate_R = np.array(rate_all)\n",
    "    rate_avg = rate_angavg\n",
    "    least = rate_R.min()    # what does this return exactly?\n",
    "    greatest = rate_R.max() # what does this return exactly?\n",
    "    r_avg_min_max = [rate_avg, least, greatest]\n",
    "    print('{}: {:.4g}\\t{:.4g}\\t{:.4g}'.format((mX,fn), rate_avg, least/rate_avg, greatest/rate_avg))\n",
    "    \n",
    "    \n",
    "    \n",
    "    ## Compute R(theta,phi)/<R> , this is rate_norm\n",
    "    \n",
    "    \n",
    "    rate_all = np.array(rate_all)\n",
    "    rate_array = rate_all.reshape(thetaphi_size)\n",
    "    rate_norm = rate_array/rate_angavg\n",
    "    \n",
    "    \n",
    "    ## Now I write down a function to process the normalized rate into 7*7 = 49 bins of (cos theta, phi).\n",
    "    ## It might have been better to just sample with cos theta from the beginning but that's fine.\n",
    "    \n",
    "\n",
    "    \n",
    "    samples = np.array(list(zip(np.ravel(ctheta), np.ravel(phigrid))))\n",
    "    values = np.ravel(rate_norm,order='F')   # I want to ravel by changing cos theta first, then phi.\n",
    "    bins = [7,7] # number of bins along each dimension\n",
    "    \n",
    "    binned_rates_on_sphere = binned_statistic_dd(samples, values, statistic='mean', bins=bins).statistic  #row is ctheta direction, col is phi direction.\n",
    "    # I think I should use \"mean\" statistic here.\n",
    "    return binned_rates_on_sphere"
   ]
  },
  {
   "cell_type": "code",
   "execution_count": 41,
   "id": "3bf5e4c9-2579-4901-a400-cc19639c4433",
   "metadata": {},
   "outputs": [
    {
     "name": "stdout",
     "output_type": "stream",
     "text": [
      "(100, (0, 0)) :  67.74937796592712\n",
      "\t tEval[K]:\n",
      "(100, (0, 0)) :  0.3511800765991211\n",
      "(100, (0, 0)): 0.07427\t0.9056\t1.126\n"
     ]
    },
    {
     "data": {
      "text/plain": [
       "array([[1.08900377, 1.08822381, 1.08686996, 1.08496182, 1.08295376,\n",
       "        1.08137383, 1.08033865],\n",
       "       [1.01680062, 1.01300766, 1.00629974, 0.99658595, 0.98606681,\n",
       "        0.977579  , 0.97192233],\n",
       "       [0.99487248, 0.98915336, 0.97892104, 0.96385669, 0.94726172,\n",
       "        0.93367154, 0.9245247 ],\n",
       "       [0.98915575, 0.9827565 , 0.97126008, 0.95423586, 0.93536961,\n",
       "        0.9198401 , 0.90935257],\n",
       "       [0.99487248, 0.98915336, 0.97892104, 0.96385669, 0.94726172,\n",
       "        0.93367154, 0.9245247 ],\n",
       "       [1.01680062, 1.01300766, 1.00629974, 0.99658595, 0.98606681,\n",
       "        0.977579  , 0.97192233],\n",
       "       [1.09061244, 1.08986639, 1.08857141, 1.08674623, 1.08482548,\n",
       "        1.08331424, 1.08232407]])"
      ]
     },
     "execution_count": 41,
     "metadata": {},
     "output_type": "execute_result"
    }
   ],
   "source": [
    "mX = 100 # in MeV\n",
    "fn = (0,0)\n",
    "binned_rate(mX,fn)"
   ]
  },
  {
   "cell_type": "code",
   "execution_count": 28,
   "id": "26dc538d-3090-4107-ae11-03a4397f4891",
   "metadata": {},
   "outputs": [
    {
     "name": "stdout",
     "output_type": "stream",
     "text": [
      "(10, (0, 2)) :  40.94342565536499\n",
      "\t tEval[K]:\n",
      "(10, (0, 2)) :  0.383530855178833\n",
      "(10, (0, 2)): 1.292e-06\t0.8429\t1.171\n"
     ]
    },
    {
     "data": {
      "text/plain": [
       "array([[1.12359687, 1.12167916, 1.11834563, 1.11363757, 1.10867235,\n",
       "        1.1047585 , 1.10219097],\n",
       "       [1.03941542, 1.03122809, 1.01667785, 0.99546659, 0.97234562,\n",
       "        0.95358896, 0.94104596],\n",
       "       [1.02039599, 1.00857262, 0.98727115, 0.95561907, 0.92044383,\n",
       "        0.89143704, 0.87183035],\n",
       "       [1.0168232 , 1.00374821, 0.98007607, 0.94466309, 0.90504259,\n",
       "        0.87218571, 0.8498954 ],\n",
       "       [1.02039599, 1.00857262, 0.98727115, 0.95561907, 0.92044383,\n",
       "        0.89143704, 0.87183035],\n",
       "       [1.03941542, 1.03122809, 1.01667785, 0.99546659, 0.97234562,\n",
       "        0.95358896, 0.94104596],\n",
       "       [1.12564608, 1.12381175, 1.12062315, 1.11611979, 1.11137045,\n",
       "        1.10762677, 1.10517087]])"
      ]
     },
     "execution_count": 28,
     "metadata": {},
     "output_type": "execute_result"
    }
   ],
   "source": [
    "mX = 10\n",
    "fn = (0,2)\n",
    "binned_rate(mX,fn)"
   ]
  },
  {
   "cell_type": "code",
   "execution_count": 29,
   "id": "525b2147-eaa2-47a3-a9d0-1f9cc3c4164e",
   "metadata": {},
   "outputs": [
    {
     "name": "stdout",
     "output_type": "stream",
     "text": [
      "(10, (0, 4)) :  41.46139717102051\n",
      "\t tEval[K]:\n",
      "(10, (0, 4)) :  0.36240220069885254\n",
      "(10, (0, 4)): 3.565e-12\t0.8718\t1.199\n"
     ]
    },
    {
     "data": {
      "text/plain": [
       "array([[1.13108289, 1.13083779, 1.13034686, 1.12952044, 1.12850016,\n",
       "        1.12759234, 1.12695093],\n",
       "       [1.0102299 , 1.00708968, 1.00107373, 0.99141383, 0.97989801,\n",
       "        0.9698756 , 0.96287492],\n",
       "       [0.98238248, 0.97699409, 0.96650944, 0.94934323, 0.92851323,\n",
       "        0.91013102, 0.89717886],\n",
       "       [0.97672141, 0.97056269, 0.95848982, 0.93854451, 0.91414988,\n",
       "        0.89249176, 0.87717487],\n",
       "       [0.98238248, 0.97699409, 0.96650944, 0.94934323, 0.92851323,\n",
       "        0.91013102, 0.89717886],\n",
       "       [1.0102299 , 1.00708968, 1.00107373, 0.99141383, 0.97989801,\n",
       "        0.9698756 , 0.96287492],\n",
       "       [1.13405523, 1.13382079, 1.1333512 , 1.13256072, 1.1315848 ,\n",
       "        1.13071644, 1.13010292]])"
      ]
     },
     "execution_count": 29,
     "metadata": {},
     "output_type": "execute_result"
    }
   ],
   "source": [
    "mX = 10\n",
    "fn = (0,4)\n",
    "binned_rate(mX,fn)"
   ]
  },
  {
   "cell_type": "code",
   "execution_count": null,
   "id": "e4fe4abe-2666-432c-b633-dff8e2b466eb",
   "metadata": {},
   "outputs": [],
   "source": []
  }
 ],
 "metadata": {
  "kernelspec": {
   "display_name": "Python 3 (ipykernel)",
   "language": "python",
   "name": "python3"
  },
  "language_info": {
   "codemirror_mode": {
    "name": "ipython",
    "version": 3
   },
   "file_extension": ".py",
   "mimetype": "text/x-python",
   "name": "python",
   "nbconvert_exporter": "python",
   "pygments_lexer": "ipython3",
   "version": "3.9.20"
  }
 },
 "nbformat": 4,
 "nbformat_minor": 5
}
