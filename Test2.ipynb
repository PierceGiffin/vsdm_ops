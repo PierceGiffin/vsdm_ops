{
 "cells": [
  {
   "cell_type": "code",
   "execution_count": 1,
   "id": "5e39fa09",
   "metadata": {},
   "outputs": [
    {
     "name": "stdout",
     "output_type": "stream",
     "text": [
      "Hello Pankaj from Pierce\n",
      "Hello again\n"
     ]
    }
   ],
   "source": [
    "print(\"Hello Pankaj from Pierce\")\n",
    "print(\"Hello again\")"
   ]
  }
 ],
 "metadata": {
  "kernelspec": {
   "display_name": "vsdm",
   "language": "python",
   "name": "python3"
  },
  "language_info": {
   "codemirror_mode": {
    "name": "ipython",
    "version": 3
   },
   "file_extension": ".py",
   "mimetype": "text/x-python",
   "name": "python",
   "nbconvert_exporter": "python",
   "pygments_lexer": "ipython3",
   "version": "3.9.20"
  }
 },
 "nbformat": 4,
 "nbformat_minor": 5
}
